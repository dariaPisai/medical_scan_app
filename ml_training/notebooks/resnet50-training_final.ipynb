{
 "cells": [
  {
   "cell_type": "code",
   "execution_count": null,
   "metadata": {
    "_cell_guid": "b1076dfc-b9ad-4769-8c92-a6c4dae69d19",
    "_uuid": "8f2839f25d086af736a60e9eeb907d3b93b6e0e5",
    "trusted": true
   },
   "outputs": [
    {
     "name": "stdout",
     "output_type": "stream",
     "text": [
      "Libraries imported.\n"
     ]
    }
   ],
   "source": [
    "\n",
    "import torch\n",
    "import torch.nn as nn\n",
    "import torch.optim as optim\n",
    "from torchvision import datasets, transforms, models\n",
    "from torchvision.models import ResNet50_Weights \n",
    "from torch.utils.data import DataLoader, random_split, Subset\n",
    "from sklearn.metrics import classification_report, confusion_matrix\n",
    "from torch.cuda.amp import GradScaler, autocast \n",
    "import numpy as np\n",
    "import cv2\n",
    "import os\n",
    "import imutils \n",
    "from tqdm.notebook import tqdm\n",
    "import time\n",
    "import copy\n",
    "import matplotlib.pyplot as plt\n",
    "\n",
    "print(\"Libraries imported.\")"
   ]
  },
  {
   "cell_type": "code",
   "execution_count": null,
   "metadata": {
    "trusted": true
   },
   "outputs": [
    {
     "name": "stdout",
     "output_type": "stream",
     "text": [
      "Using device: cuda:0\n",
      "cuDNN Benchmark enabled.\n",
      "Configuration set.\n"
     ]
    }
   ],
   "source": [
    "\n",
    "INPUT_TRAIN_DIR = './Training' \n",
    "\n",
    "OUTPUT_PREPROC_DIR = './Training_preproc'\n",
    "\n",
    "# --- Hiperparametrii ---\n",
    "\n",
    "IMG_SIZE = 224\n",
    "\n",
    "\n",
    "NUM_CLASSES = 4       \n",
    "BATCH_SIZE = 32\n",
    "NUM_EPOCHS = 25      \n",
    "LEARNING_RATE = 0.001\n",
    "VAL_SPLIT = 0.2       \n",
    "\n",
    "# --- Device Setup ---\n",
    "DEVICE = torch.device(\"cuda:0\" if torch.cuda.is_available() else \"cpu\")\n",
    "print(f\"Using device: {DEVICE}\")\n",
    "\n",
    "#  pentru speedup pe GPU\n",
    "if torch.cuda.is_available():\n",
    "    torch.backends.cudnn.benchmark = True\n",
    "    print(\"cuDNN Benchmark enabled.\")\n",
    "\n",
    "# --- unde se salvează modelul ---\n",
    "MODEL_SAVE_PATH = 'resnet50_tumor_classifier_best_val_acc.pth'\n",
    "\n",
    "SEED = 42\n",
    "np.random.seed(SEED)\n",
    "torch.manual_seed(SEED)\n",
    "if torch.cuda.is_available():\n",
    "    torch.cuda.manual_seed(SEED)\n",
    "\n",
    "print(\"Configuration set.\")"
   ]
  },
  {
   "cell_type": "code",
   "execution_count": null,
   "metadata": {
    "trusted": true
   },
   "outputs": [
    {
     "name": "stdout",
     "output_type": "stream",
     "text": [
      "\n",
      "Starting preprocessing...\n",
      "Input directory: ./Training\n",
      "Output directory: ./Training_preproc\n",
      "Target image size: 224x224\n",
      "\n",
      "Processing dataset type: Training\n",
      "Found class subdirectories: ['notumor', 'glioma', 'pituitary', 'meningioma']\n"
     ]
    },
    {
     "data": {
      "application/vnd.jupyter.widget-view+json": {
       "model_id": "3bfccb3679044936be922dc291d87ce5",
       "version_major": 2,
       "version_minor": 0
      },
      "text/plain": [
       "Processing classes in Training:   0%|          | 0/4 [00:00<?, ?it/s]"
      ]
     },
     "metadata": {},
     "output_type": "display_data"
    },
    {
     "name": "stdout",
     "output_type": "stream",
     "text": [
      "Created output directory: ./Training_preproc/Training/notumor\n"
     ]
    },
    {
     "data": {
      "application/vnd.jupyter.widget-view+json": {
       "model_id": "038259886cc446219719cfeafbc4f017",
       "version_major": 2,
       "version_minor": 0
      },
      "text/plain": [
       "  Processing images in notumor:   0%|          | 0/1745 [00:00<?, ?it/s]"
      ]
     },
     "metadata": {},
     "output_type": "display_data"
    },
    {
     "name": "stdout",
     "output_type": "stream",
     "text": [
      "  Finished class notumor: Processed=1745, Skipped/Errors=0\n",
      "Created output directory: ./Training_preproc/Training/glioma\n"
     ]
    },
    {
     "data": {
      "application/vnd.jupyter.widget-view+json": {
       "model_id": "6a7359f5e3f348bebcb2707f44569462",
       "version_major": 2,
       "version_minor": 0
      },
      "text/plain": [
       "  Processing images in glioma:   0%|          | 0/1441 [00:00<?, ?it/s]"
      ]
     },
     "metadata": {},
     "output_type": "display_data"
    },
    {
     "name": "stdout",
     "output_type": "stream",
     "text": [
      "  Finished class glioma: Processed=1441, Skipped/Errors=0\n",
      "Created output directory: ./Training_preproc/Training/pituitary\n"
     ]
    },
    {
     "data": {
      "application/vnd.jupyter.widget-view+json": {
       "model_id": "8dedf0fd26b640db86f9e39e81d7c259",
       "version_major": 2,
       "version_minor": 0
      },
      "text/plain": [
       "  Processing images in pituitary:   0%|          | 0/1577 [00:00<?, ?it/s]"
      ]
     },
     "metadata": {},
     "output_type": "display_data"
    },
    {
     "name": "stdout",
     "output_type": "stream",
     "text": [
      "  Finished class pituitary: Processed=1577, Skipped/Errors=0\n",
      "Created output directory: ./Training_preproc/Training/meningioma\n"
     ]
    },
    {
     "data": {
      "application/vnd.jupyter.widget-view+json": {
       "model_id": "b7d511cf703e48bcb5c4298099157a9c",
       "version_major": 2,
       "version_minor": 0
      },
      "text/plain": [
       "  Processing images in meningioma:   0%|          | 0/1459 [00:00<?, ?it/s]"
      ]
     },
     "metadata": {},
     "output_type": "display_data"
    },
    {
     "name": "stdout",
     "output_type": "stream",
     "text": [
      "  Finished class meningioma: Processed=1459, Skipped/Errors=0\n",
      "\n",
      "Preprocessing for 'Training' complete. Processed images saved to: ./Training_preproc/Training\n"
     ]
    }
   ],
   "source": [
    "# %%\n",
    "# --- Cropping Function ---\n",
    "def crop_img(img, target_size):\n",
    "    \"\"\"\n",
    "    Finds the presumed tumor area based on contours, crops, and resizes the image.\n",
    "    Handles grayscale, color, and alpha channel images.\n",
    "    Returns None if cropping or resizing fails critically.\n",
    "    \"\"\"\n",
    "    # validarea inputului\n",
    "    if img is None:\n",
    "        print(\"Warning: crop_img received a None image.\")\n",
    "        return None\n",
    "    if not isinstance(img, np.ndarray) or img.ndim < 2:\n",
    "         print(f\"Warning: crop_img received invalid image data type/dims: {type(img)}, ndim={img.ndim if isinstance(img, np.ndarray) else 'N/A'}\")\n",
    "         return None\n",
    "    if img.shape[0] <= 0 or img.shape[1] <= 0:\n",
    "        print(f\"Warning: crop_img received image with invalid dimensions: {img.shape}\")\n",
    "        return None\n",
    "\n",
    "    # imaginea trb sa fie BGR\n",
    "    if len(img.shape) == 2 or img.shape[2] == 1: # Grayscale\n",
    "        img_bgr = cv2.cvtColor(img, cv2.COLOR_GRAY2BGR)\n",
    "    elif img.shape[2] == 4: # BGRA\n",
    "        img_bgr = cv2.cvtColor(img, cv2.COLOR_BGRA2BGR)\n",
    "    elif img.shape[2] == 3: # BGR\n",
    "        img_bgr = img\n",
    "    else:\n",
    "        print(f\"Warning: Unsupported number of channels ({img.shape[2]}) in image. Cannot process.\")\n",
    "        # Fallback: Resize original image if dimensions are valid\n",
    "        try:\n",
    "            return cv2.resize(img, (target_size, target_size))\n",
    "        except Exception as e:\n",
    "            print(f\"  Fallback resize also failed: {e}\")\n",
    "            return None\n",
    "\n",
    "\n",
    "    gray = cv2.cvtColor(img_bgr, cv2.COLOR_BGR2GRAY)\n",
    "    gray = cv2.GaussianBlur(gray, (5, 5), 0)\n",
    "\n",
    "    # thresholding\n",
    "    thresh = cv2.threshold(gray, 45, 255, cv2.THRESH_BINARY)[1]\n",
    "    thresh = cv2.erode(thresh, None, iterations=2)\n",
    "    thresh = cv2.dilate(thresh, None, iterations=2)\n",
    "\n",
    "    # gasirea contururilor\n",
    "    cnts = cv2.findContours(thresh.copy(), cv2.RETR_EXTERNAL, cv2.CHAIN_APPROX_SIMPLE)\n",
    "    cnts = imutils.grab_contours(cnts)\n",
    "\n",
    "    if not cnts:\n",
    "        print(\"Warning: No contours found. Resizing original image.\")\n",
    "        try:\n",
    "            return cv2.resize(img_bgr, (target_size, target_size))\n",
    "        except Exception as e:\n",
    "             print(f\"  Fallback resize failed for no-contour image: {e}\")\n",
    "             return None # Indicate failure\n",
    "\n",
    "    # gasim cel mai mare conturi si dreptunghiul in care se incadreaza\n",
    "    c = max(cnts, key=cv2.contourArea)\n",
    "    extLeft = tuple(c[c[:, :, 0].argmin()][0])\n",
    "    extRight = tuple(c[c[:, :, 0].argmax()][0])\n",
    "    extTop = tuple(c[c[:, :, 1].argmin()][0])\n",
    "    extBot = tuple(c[c[:, :, 1].argmax()][0])\n",
    "\n",
    "    \n",
    "    ADD_PIXELS = 0 \n",
    "    top = max(0, extTop[1] - ADD_PIXELS)\n",
    "    bottom = min(img_bgr.shape[0], extBot[1] + ADD_PIXELS)\n",
    "    left = max(0, extLeft[0] - ADD_PIXELS)\n",
    "    right = min(img_bgr.shape[1], extRight[0] + ADD_PIXELS)\n",
    "\n",
    "\n",
    "    if top >= bottom or left >= right:\n",
    "        print(f\"Warning: Invalid crop dimensions calculated ({top}:{bottom}, {left}:{right}). Resizing original image.\")\n",
    "        try:\n",
    "            return cv2.resize(img_bgr, (target_size, target_size))\n",
    "        except Exception as e:\n",
    "             print(f\"  Fallback resize failed for invalid crop dims: {e}\")\n",
    "             return None \n",
    "\n",
    "    cropped_img = img_bgr[top:bottom, left:right].copy()\n",
    "\n",
    "   \n",
    "    try:\n",
    "        resized_img = cv2.resize(cropped_img, (target_size, target_size))\n",
    "        return resized_img\n",
    "    except Exception as e:\n",
    "        print(f\"Error resizing cropped image: {e}. Image shape was {cropped_img.shape}\")\n",
    "        try:\n",
    "             print(\"  Attempting resize of original image instead.\")\n",
    "             return cv2.resize(img_bgr, (target_size, target_size))\n",
    "        except Exception as e_orig:\n",
    "             print(f\"    Resize of original image also failed: {e_orig}\")\n",
    "             return None \n",
    "\n",
    "\n",
    "# --- preprocesare ---\n",
    "print(f\"\\nStarting preprocessing...\")\n",
    "print(f\"Input directory: {INPUT_TRAIN_DIR}\")\n",
    "print(f\"Output directory: {OUTPUT_PREPROC_DIR}\")\n",
    "print(f\"Target image size: {IMG_SIZE}x{IMG_SIZE}\")\n",
    "\n",
    "dataset_type = 'Training'\n",
    "input_dir_path = INPUT_TRAIN_DIR \n",
    "output_dir_path_base = os.path.join(OUTPUT_PREPROC_DIR, dataset_type)\n",
    "\n",
    "print(f\"\\nProcessing dataset type: {dataset_type}\")\n",
    "if not os.path.isdir(input_dir_path):\n",
    "    print(f\"ERROR: Input directory not found: {input_dir_path}. Please check the INPUT_TRAIN_DIR path.\")\n",
    "else:\n",
    "    sub_dirs = [d for d in os.listdir(input_dir_path) if os.path.isdir(os.path.join(input_dir_path, d))]\n",
    "    if not sub_dirs:\n",
    "         print(f\"ERROR: No class subdirectories found in {input_dir_path}.\")\n",
    "    else:\n",
    "        print(f\"Found class subdirectories: {sub_dirs}\")\n",
    "\n",
    "        for class_dir in tqdm(sub_dirs, desc=f\"Processing classes in {dataset_type}\"):\n",
    "            input_class_path = os.path.join(input_dir_path, class_dir)\n",
    "            output_class_path = os.path.join(output_dir_path_base, class_dir)\n",
    "\n",
    "            if not os.path.exists(output_class_path):\n",
    "                os.makedirs(output_class_path)\n",
    "                print(f\"Created output directory: {output_class_path}\")\n",
    "\n",
    "            image_files = [f for f in os.listdir(input_class_path) if os.path.isfile(os.path.join(input_class_path, f))]\n",
    "\n",
    "            num_processed = 0\n",
    "            num_skipped = 0\n",
    "            for img_file in tqdm(image_files, desc=f\"  Processing images in {class_dir}\", leave=False):\n",
    "                input_img_path = os.path.join(input_class_path, img_file)\n",
    "                output_img_path = os.path.join(output_class_path, img_file)\n",
    "\n",
    "                try:\n",
    "                    image = cv2.imread(input_img_path)\n",
    "                    if image is None:\n",
    "                        print(f\"Warning: Could not read image {input_img_path}. Skipping.\")\n",
    "                        num_skipped += 1\n",
    "                        continue\n",
    "\n",
    "                    processed_img = crop_img(image, IMG_SIZE)\n",
    "\n",
    "                    if processed_img is None:\n",
    "                         print(f\"Warning: Preprocessing failed for image {input_img_path}. Skipping save.\")\n",
    "                         num_skipped += 1\n",
    "                         continue\n",
    "                    \n",
    "                    success = cv2.imwrite(output_img_path, processed_img)\n",
    "                    if not success:\n",
    "                        print(f\"Warning: Failed to write processed image to {output_img_path}. Skipping.\")\n",
    "                        num_skipped += 1\n",
    "                    else:\n",
    "                         num_processed += 1\n",
    "\n",
    "                except Exception as e:\n",
    "                    print(f\"Error processing image {input_img_path}: {e}\")\n",
    "                    num_skipped += 1\n",
    "            print(f\"  Finished class {class_dir}: Processed={num_processed}, Skipped/Errors={num_skipped}\")\n",
    "\n",
    "    print(f\"\\nPreprocessing for '{dataset_type}' complete. Processed images saved to: {output_dir_path_base}\")"
   ]
  },
  {
   "cell_type": "code",
   "execution_count": null,
   "metadata": {
    "trusted": true
   },
   "outputs": [
    {
     "name": "stdout",
     "output_type": "stream",
     "text": [
      "Training and Validation data transforms defined.\n"
     ]
    }
   ],
   "source": [
    "\n",
    "# se definesc transformarile cu augmentare/fără\n",
    "imagenet_mean = [0.485, 0.456, 0.406]\n",
    "imagenet_std = [0.229, 0.224, 0.225]\n",
    "\n",
    "data_transforms = {\n",
    "    'train': transforms.Compose([\n",
    "        transforms.RandomResizedCrop(IMG_SIZE, scale=(0.8, 1.0)), \n",
    "        transforms.RandomHorizontalFlip(),\n",
    "        transforms.RandomRotation(15),\n",
    "        transforms.ColorJitter(brightness=0.2, contrast=0.2, saturation=0.1, hue=0.1),\n",
    "        transforms.ToTensor(), \n",
    "        transforms.Normalize(imagenet_mean, imagenet_std) \n",
    "    ]),\n",
    "    'val': transforms.Compose([\n",
    "        transforms.Resize(IMG_SIZE + 32), \n",
    "        transforms.CenterCrop(IMG_SIZE), \n",
    "        transforms.ToTensor(),\n",
    "        transforms.Normalize(imagenet_mean, imagenet_std)\n",
    "    ])\n",
    "}\n",
    "\n",
    "print(\"Training and Validation data transforms defined.\")"
   ]
  },
  {
   "cell_type": "code",
   "execution_count": null,
   "metadata": {
    "trusted": true
   },
   "outputs": [
    {
     "name": "stdout",
     "output_type": "stream",
     "text": [
      "Loading data from PREPROCESSED directory: ./Training_preproc/Training\n",
      "Successfully loaded PREPROCESSED dataset structure.\n",
      "Total images found: 6222\n",
      "Classes detected: ['glioma', 'meningioma', 'notumor', 'pituitary']\n",
      "Class to index mapping: {'glioma': 0, 'meningioma': 1, 'notumor': 2, 'pituitary': 3}\n",
      "\n",
      "Splitting dataset:\n",
      "  Total samples: 6222\n",
      "  Training samples: 4978\n",
      "  Validation samples: 1244\n",
      "\n",
      "DataLoaders created for training and validation.\n",
      "Using num_workers=6, pin_memory=True\n"
     ]
    }
   ],
   "source": [
    "\n",
    "PREPROCESSED_TRAIN_DATA_DIR = os.path.join(OUTPUT_PREPROC_DIR, 'Training')\n",
    "\n",
    "print(f\"Loading data from PREPROCESSED directory: {PREPROCESSED_TRAIN_DATA_DIR}\")\n",
    "\n",
    "try:\n",
    "    full_dataset_train_transforms = datasets.ImageFolder(PREPROCESSED_TRAIN_DATA_DIR,\n",
    "                                                        transform=data_transforms['train'])\n",
    "\n",
    "    full_dataset_val_transforms = datasets.ImageFolder(PREPROCESSED_TRAIN_DATA_DIR,\n",
    "                                                      transform=data_transforms['val'])\n",
    "\n",
    "    print(f\"Successfully loaded PREPROCESSED dataset structure.\")\n",
    "    print(f\"Total images found: {len(full_dataset_train_transforms)}\") \n",
    "\n",
    "    DETECTED_CLASSES = full_dataset_train_transforms.classes\n",
    "    CLASS_TO_IDX = full_dataset_train_transforms.class_to_idx\n",
    "    IDX_TO_CLASS = {v: k for k, v in CLASS_TO_IDX.items()}\n",
    "    print(f\"Classes detected: {DETECTED_CLASSES}\")\n",
    "    print(f\"Class to index mapping: {CLASS_TO_IDX}\")\n",
    "\n",
    "    if NUM_CLASSES != len(DETECTED_CLASSES):\n",
    "         print(f\"WARNING: NUM_CLASSES in config ({NUM_CLASSES}) does not match detected classes ({len(DETECTED_CLASSES)}). Adjust NUM_CLASSES.\")\n",
    "        \n",
    "\n",
    "\n",
    "except FileNotFoundError:\n",
    "    print(f\"ERROR: PREPROCESSED dataset folder not found at '{PREPROCESSED_TRAIN_DATA_DIR}'.\")\n",
    "    print(\"Did the preprocessing step (Cell 6) complete successfully and create this directory?\")\n",
    "    raise \n",
    "except Exception as e:\n",
    "    print(f\"An error occurred loading the PREPROCESSED dataset: {e}\")\n",
    "    raise\n",
    "\n",
    "\n",
    "dataset_size = len(full_dataset_train_transforms)\n",
    "val_size = int(VAL_SPLIT * dataset_size)\n",
    "train_size = dataset_size - val_size\n",
    "print(f\"\\nSplitting dataset:\")\n",
    "print(f\"  Total samples: {dataset_size}\")\n",
    "print(f\"  Training samples: {train_size}\")\n",
    "print(f\"  Validation samples: {val_size}\")\n",
    "\n",
    "\n",
    "indices = list(range(dataset_size))\n",
    "np.random.shuffle(indices) \n",
    "train_indices, val_indices = indices[:train_size], indices[train_size:]\n",
    "\n",
    "\n",
    "train_dataset_subset = Subset(full_dataset_train_transforms, train_indices)\n",
    "val_dataset_subset = Subset(full_dataset_val_transforms, val_indices)\n",
    "\n",
    "\n",
    "num_workers = os.cpu_count() // 2 if os.cpu_count() else 2 \n",
    "pin_memory = True if DEVICE.type == 'cuda' else False\n",
    "\n",
    "dataloaders = {\n",
    "    'train': DataLoader(train_dataset_subset, batch_size=BATCH_SIZE, shuffle=True,\n",
    "                        num_workers=num_workers, pin_memory=pin_memory),\n",
    "    'val': DataLoader(val_dataset_subset, batch_size=BATCH_SIZE, shuffle=False, \n",
    "                      num_workers=num_workers, pin_memory=pin_memory)\n",
    "}\n",
    "dataset_sizes = {'train': len(train_dataset_subset), 'val': len(val_dataset_subset)}\n",
    "\n",
    "print(f\"\\nDataLoaders created for training and validation.\")\n",
    "print(f\"Using num_workers={num_workers}, pin_memory={pin_memory}\")"
   ]
  },
  {
   "cell_type": "code",
   "execution_count": null,
   "metadata": {
    "trusted": true
   },
   "outputs": [
    {
     "name": "stdout",
     "output_type": "stream",
     "text": [
      "Loading ResNet50 model...\n",
      "Loaded ResNet50 with RANDOM initialization (training from scratch).\n",
      "Replaced final layer: Input features=2048, Output classes=4\n",
      "Model moved to device: cuda:0\n"
     ]
    }
   ],
   "source": [
    "\n",
    "print(\"Loading ResNet50 model...\")\n",
    "\n",
    "model = models.resnet50(weights=None) \n",
    "print(\"Loaded ResNet50 with RANDOM initialization (training from scratch).\")\n",
    "\n",
    "num_ftrs = model.fc.in_features\n",
    "try:\n",
    "    model.fc = nn.Linear(num_ftrs, NUM_CLASSES)\n",
    "    print(f\"Replaced final layer: Input features={num_ftrs}, Output classes={NUM_CLASSES}\")\n",
    "except NameError:\n",
    "     print(\"ERROR: NUM_CLASSES not defined. Was the Configuration cell run? Was the data loaded successfully to detect classes?\")\n",
    "     raise\n",
    "except AttributeError:\n",
    "     print(\"ERROR: Could not find 'fc' layer in the model. Is it the correct ResNet model?\")\n",
    "     raise\n",
    "\n",
    "\n",
    "model = model.to(DEVICE)\n",
    "\n",
    "print(f\"Model moved to device: {DEVICE}\")"
   ]
  },
  {
   "cell_type": "code",
   "execution_count": null,
   "metadata": {
    "trusted": true
   },
   "outputs": [
    {
     "name": "stdout",
     "output_type": "stream",
     "text": [
      "Loss function: CrossEntropyLoss()\n",
      "Optimizer: Adam (lr=0.001)\n",
      "Scheduler: ReduceLROnPlateau (factor=0.1, patience=5, monitoring val_loss)\n",
      "Mixed Precision GradScaler enabled: True\n"
     ]
    },
    {
     "name": "stderr",
     "output_type": "stream",
     "text": [
      "/tmp/ipykernel_20014/1767146161.py:20: FutureWarning: `torch.cuda.amp.GradScaler(args...)` is deprecated. Please use `torch.amp.GradScaler('cuda', args...)` instead.\n",
      "  scaler = GradScaler(enabled=(DEVICE.type == 'cuda'))\n"
     ]
    }
   ],
   "source": [
    "\n",
    "criterion = nn.CrossEntropyLoss()\n",
    "print(f\"Loss function: {criterion}\")\n",
    "\n",
    "optimizer = optim.Adam(model.parameters(), lr=LEARNING_RATE)\n",
    "print(f\"Optimizer: Adam (lr={LEARNING_RATE})\")\n",
    "\n",
    "\n",
    "scheduler = optim.lr_scheduler.ReduceLROnPlateau(optimizer, mode='min', factor=0.1, patience=5)\n",
    "print(f\"Scheduler: ReduceLROnPlateau (factor=0.1, patience=5, monitoring val_loss)\")\n",
    "\n",
    "\n",
    "\n",
    "scaler = GradScaler(enabled=(DEVICE.type == 'cuda'))\n",
    "print(f\"Mixed Precision GradScaler enabled: {scaler.is_enabled()}\")"
   ]
  },
  {
   "cell_type": "code",
   "execution_count": null,
   "metadata": {
    "trusted": true
   },
   "outputs": [
    {
     "name": "stdout",
     "output_type": "stream",
     "text": [
      "\n",
      "Starting training and validation loop...\n",
      "\n",
      "Epoch 1/25\n",
      "---------------\n",
      "--- Training Phase ---\n"
     ]
    },
    {
     "data": {
      "application/vnd.jupyter.widget-view+json": {
       "model_id": "eef528df06594e72aeca192836465f6c",
       "version_major": 2,
       "version_minor": 0
      },
      "text/plain": [
       "Train Progress:   0%|          | 0/156 [00:00<?, ?it/s]"
      ]
     },
     "metadata": {},
     "output_type": "display_data"
    },
    {
     "name": "stderr",
     "output_type": "stream",
     "text": [
      "/tmp/ipykernel_20014/2142746445.py:46: FutureWarning: `torch.cuda.amp.autocast(args...)` is deprecated. Please use `torch.amp.autocast('cuda', args...)` instead.\n",
      "  with autocast(enabled=(DEVICE.type == 'cuda')):\n"
     ]
    },
    {
     "name": "stdout",
     "output_type": "stream",
     "text": [
      "Train Epoch Loss: 1.1075 Acc: 0.5344\n",
      "\n",
      "--- Validation Phase ---\n"
     ]
    },
    {
     "data": {
      "application/vnd.jupyter.widget-view+json": {
       "model_id": "aaa89a2f73db4dd4bfcfa7fd9595393b",
       "version_major": 2,
       "version_minor": 0
      },
      "text/plain": [
       "Val Progress:   0%|          | 0/39 [00:00<?, ?it/s]"
      ]
     },
     "metadata": {},
     "output_type": "display_data"
    },
    {
     "name": "stdout",
     "output_type": "stream",
     "text": [
      "Val Epoch Loss: 1.9843 Acc: 0.4695\n",
      "\n",
      "Calculating Validation Performance Metrics...\n",
      "\n",
      "Confusion Matrix:\n",
      "True\\Pred          glioma meningioma    notumor  pituitary\n",
      "----------------------------------------------------------\n",
      "glioma                242          7         10          0\n",
      "meningioma            195         31         64          4\n",
      "notumor                53          6        299          2\n",
      "pituitary             306         12          1         12\n",
      "----------------------------------------------------------\n",
      "\n",
      "Classification Report (includes Precision, Recall, F1-Score):\n",
      "              precision    recall  f1-score   support\n",
      "\n",
      "      glioma     0.3040    0.9344    0.4588       259\n",
      "  meningioma     0.5536    0.1054    0.1771       294\n",
      "     notumor     0.7995    0.8306    0.8147       360\n",
      "   pituitary     0.6667    0.0363    0.0688       331\n",
      "\n",
      "    accuracy                         0.4695      1244\n",
      "   macro avg     0.5809    0.4767    0.3798      1244\n",
      "weighted avg     0.6029    0.4695    0.3914      1244\n",
      "\n",
      "---------------\n",
      "** New Best Validation Accuracy: 0.4695 -> Saving model weights... **\n",
      "\n",
      "Epoch 2/25\n",
      "---------------\n",
      "--- Training Phase ---\n"
     ]
    },
    {
     "data": {
      "application/vnd.jupyter.widget-view+json": {
       "model_id": "1fd00a768391453faf914420fd03627d",
       "version_major": 2,
       "version_minor": 0
      },
      "text/plain": [
       "Train Progress:   0%|          | 0/156 [00:00<?, ?it/s]"
      ]
     },
     "metadata": {},
     "output_type": "display_data"
    },
    {
     "name": "stderr",
     "output_type": "stream",
     "text": [
      "/tmp/ipykernel_20014/2142746445.py:46: FutureWarning: `torch.cuda.amp.autocast(args...)` is deprecated. Please use `torch.amp.autocast('cuda', args...)` instead.\n",
      "  with autocast(enabled=(DEVICE.type == 'cuda')):\n"
     ]
    },
    {
     "name": "stdout",
     "output_type": "stream",
     "text": [
      "Train Epoch Loss: 0.8165 Acc: 0.6836\n",
      "\n",
      "--- Validation Phase ---\n"
     ]
    },
    {
     "data": {
      "application/vnd.jupyter.widget-view+json": {
       "model_id": "a31ed8ee27574735be12edc65e359712",
       "version_major": 2,
       "version_minor": 0
      },
      "text/plain": [
       "Val Progress:   0%|          | 0/39 [00:00<?, ?it/s]"
      ]
     },
     "metadata": {},
     "output_type": "display_data"
    },
    {
     "name": "stdout",
     "output_type": "stream",
     "text": [
      "Val Epoch Loss: 1.8238 Acc: 0.4855\n",
      "\n",
      "Calculating Validation Performance Metrics...\n",
      "\n",
      "Confusion Matrix:\n",
      "True\\Pred          glioma meningioma    notumor  pituitary\n",
      "----------------------------------------------------------\n",
      "glioma                254          3          2          0\n",
      "meningioma            217         40         35          2\n",
      "notumor                58         13        287          2\n",
      "pituitary             300          5          3         23\n",
      "----------------------------------------------------------\n",
      "\n",
      "Classification Report (includes Precision, Recall, F1-Score):\n",
      "              precision    recall  f1-score   support\n",
      "\n",
      "      glioma     0.3064    0.9807    0.4669       259\n",
      "  meningioma     0.6557    0.1361    0.2254       294\n",
      "     notumor     0.8777    0.7972    0.8355       360\n",
      "   pituitary     0.8519    0.0695    0.1285       331\n",
      "\n",
      "    accuracy                         0.4855      1244\n",
      "   macro avg     0.6729    0.4959    0.4141      1244\n",
      "weighted avg     0.6994    0.4855    0.4264      1244\n",
      "\n",
      "---------------\n",
      "** New Best Validation Accuracy: 0.4855 -> Saving model weights... **\n",
      "\n",
      "Epoch 3/25\n",
      "---------------\n",
      "--- Training Phase ---\n"
     ]
    },
    {
     "data": {
      "application/vnd.jupyter.widget-view+json": {
       "model_id": "464b47630ed64dffbf2e810b58f806fc",
       "version_major": 2,
       "version_minor": 0
      },
      "text/plain": [
       "Train Progress:   0%|          | 0/156 [00:00<?, ?it/s]"
      ]
     },
     "metadata": {},
     "output_type": "display_data"
    },
    {
     "name": "stderr",
     "output_type": "stream",
     "text": [
      "/tmp/ipykernel_20014/2142746445.py:46: FutureWarning: `torch.cuda.amp.autocast(args...)` is deprecated. Please use `torch.amp.autocast('cuda', args...)` instead.\n",
      "  with autocast(enabled=(DEVICE.type == 'cuda')):\n"
     ]
    },
    {
     "name": "stdout",
     "output_type": "stream",
     "text": [
      "Train Epoch Loss: 0.6888 Acc: 0.7306\n",
      "\n",
      "--- Validation Phase ---\n"
     ]
    },
    {
     "data": {
      "application/vnd.jupyter.widget-view+json": {
       "model_id": "63bb959736174fdab9d643ea11121f73",
       "version_major": 2,
       "version_minor": 0
      },
      "text/plain": [
       "Val Progress:   0%|          | 0/39 [00:00<?, ?it/s]"
      ]
     },
     "metadata": {},
     "output_type": "display_data"
    },
    {
     "name": "stdout",
     "output_type": "stream",
     "text": [
      "Val Epoch Loss: 1.0347 Acc: 0.5635\n",
      "\n",
      "Calculating Validation Performance Metrics...\n",
      "\n",
      "Confusion Matrix:\n",
      "True\\Pred          glioma meningioma    notumor  pituitary\n",
      "----------------------------------------------------------\n",
      "glioma                 18        182         42         17\n",
      "meningioma              1        217         33         43\n",
      "notumor                 1        105        250          4\n",
      "pituitary               0         87         28        216\n",
      "----------------------------------------------------------\n",
      "\n",
      "Classification Report (includes Precision, Recall, F1-Score):\n",
      "              precision    recall  f1-score   support\n",
      "\n",
      "      glioma     0.9000    0.0695    0.1290       259\n",
      "  meningioma     0.3672    0.7381    0.4904       294\n",
      "     notumor     0.7082    0.6944    0.7013       360\n",
      "   pituitary     0.7714    0.6526    0.7070       331\n",
      "\n",
      "    accuracy                         0.5635      1244\n",
      "   macro avg     0.6867    0.5387    0.5069      1244\n",
      "weighted avg     0.6844    0.5635    0.5338      1244\n",
      "\n",
      "---------------\n",
      "** New Best Validation Accuracy: 0.5635 -> Saving model weights... **\n",
      "\n",
      "Epoch 4/25\n",
      "---------------\n",
      "--- Training Phase ---\n"
     ]
    },
    {
     "data": {
      "application/vnd.jupyter.widget-view+json": {
       "model_id": "97c447449be64c11bdc77adacb33cf01",
       "version_major": 2,
       "version_minor": 0
      },
      "text/plain": [
       "Train Progress:   0%|          | 0/156 [00:00<?, ?it/s]"
      ]
     },
     "metadata": {},
     "output_type": "display_data"
    },
    {
     "name": "stderr",
     "output_type": "stream",
     "text": [
      "/tmp/ipykernel_20014/2142746445.py:46: FutureWarning: `torch.cuda.amp.autocast(args...)` is deprecated. Please use `torch.amp.autocast('cuda', args...)` instead.\n",
      "  with autocast(enabled=(DEVICE.type == 'cuda')):\n"
     ]
    },
    {
     "name": "stdout",
     "output_type": "stream",
     "text": [
      "Train Epoch Loss: 0.5990 Acc: 0.7728\n",
      "\n",
      "--- Validation Phase ---\n"
     ]
    },
    {
     "data": {
      "application/vnd.jupyter.widget-view+json": {
       "model_id": "5dfe7d0f82ad477b8e77ec0ec28ae238",
       "version_major": 2,
       "version_minor": 0
      },
      "text/plain": [
       "Val Progress:   0%|          | 0/39 [00:00<?, ?it/s]"
      ]
     },
     "metadata": {},
     "output_type": "display_data"
    },
    {
     "name": "stdout",
     "output_type": "stream",
     "text": [
      "Val Epoch Loss: 0.7197 Acc: 0.7669\n",
      "\n",
      "Calculating Validation Performance Metrics...\n",
      "\n",
      "Confusion Matrix:\n",
      "True\\Pred          glioma meningioma    notumor  pituitary\n",
      "----------------------------------------------------------\n",
      "glioma                207         21          0         31\n",
      "meningioma             21        126         19        128\n",
      "notumor                 4         16        302         38\n",
      "pituitary               6          5          1        319\n",
      "----------------------------------------------------------\n",
      "\n",
      "Classification Report (includes Precision, Recall, F1-Score):\n",
      "              precision    recall  f1-score   support\n",
      "\n",
      "      glioma     0.8697    0.7992    0.8330       259\n",
      "  meningioma     0.7500    0.4286    0.5455       294\n",
      "     notumor     0.9379    0.8389    0.8856       360\n",
      "   pituitary     0.6182    0.9637    0.7532       331\n",
      "\n",
      "    accuracy                         0.7669      1244\n",
      "   macro avg     0.7940    0.7576    0.7543      1244\n",
      "weighted avg     0.7942    0.7669    0.7591      1244\n",
      "\n",
      "---------------\n",
      "** New Best Validation Accuracy: 0.7669 -> Saving model weights... **\n",
      "\n",
      "Epoch 5/25\n",
      "---------------\n",
      "--- Training Phase ---\n"
     ]
    },
    {
     "data": {
      "application/vnd.jupyter.widget-view+json": {
       "model_id": "ad5684a1ffe94647996042c521da34b0",
       "version_major": 2,
       "version_minor": 0
      },
      "text/plain": [
       "Train Progress:   0%|          | 0/156 [00:00<?, ?it/s]"
      ]
     },
     "metadata": {},
     "output_type": "display_data"
    },
    {
     "name": "stderr",
     "output_type": "stream",
     "text": [
      "/tmp/ipykernel_20014/2142746445.py:46: FutureWarning: `torch.cuda.amp.autocast(args...)` is deprecated. Please use `torch.amp.autocast('cuda', args...)` instead.\n",
      "  with autocast(enabled=(DEVICE.type == 'cuda')):\n"
     ]
    },
    {
     "name": "stdout",
     "output_type": "stream",
     "text": [
      "Train Epoch Loss: 0.5255 Acc: 0.7977\n",
      "\n",
      "--- Validation Phase ---\n"
     ]
    },
    {
     "data": {
      "application/vnd.jupyter.widget-view+json": {
       "model_id": "bb3b33c3bb8c41228934d8e2859cc79c",
       "version_major": 2,
       "version_minor": 0
      },
      "text/plain": [
       "Val Progress:   0%|          | 0/39 [00:00<?, ?it/s]"
      ]
     },
     "metadata": {},
     "output_type": "display_data"
    },
    {
     "name": "stdout",
     "output_type": "stream",
     "text": [
      "Val Epoch Loss: 0.6131 Acc: 0.7596\n",
      "\n",
      "Calculating Validation Performance Metrics...\n",
      "\n",
      "Confusion Matrix:\n",
      "True\\Pred          glioma meningioma    notumor  pituitary\n",
      "----------------------------------------------------------\n",
      "glioma                211         22         26          0\n",
      "meningioma             51        199         37          7\n",
      "notumor                 6         13        338          3\n",
      "pituitary              18        104         12        197\n",
      "----------------------------------------------------------\n",
      "\n",
      "Classification Report (includes Precision, Recall, F1-Score):\n",
      "              precision    recall  f1-score   support\n",
      "\n",
      "      glioma     0.7378    0.8147    0.7743       259\n",
      "  meningioma     0.5888    0.6769    0.6297       294\n",
      "     notumor     0.8184    0.9389    0.8745       360\n",
      "   pituitary     0.9517    0.5952    0.7323       331\n",
      "\n",
      "    accuracy                         0.7596      1244\n",
      "   macro avg     0.7742    0.7564    0.7527      1244\n",
      "weighted avg     0.7828    0.7596    0.7580      1244\n",
      "\n",
      "---------------\n",
      "\n",
      "Epoch 6/25\n",
      "---------------\n",
      "--- Training Phase ---\n"
     ]
    },
    {
     "data": {
      "application/vnd.jupyter.widget-view+json": {
       "model_id": "2c42c16af9fb4cecb2e8caea32f91482",
       "version_major": 2,
       "version_minor": 0
      },
      "text/plain": [
       "Train Progress:   0%|          | 0/156 [00:00<?, ?it/s]"
      ]
     },
     "metadata": {},
     "output_type": "display_data"
    },
    {
     "name": "stderr",
     "output_type": "stream",
     "text": [
      "/tmp/ipykernel_20014/2142746445.py:46: FutureWarning: `torch.cuda.amp.autocast(args...)` is deprecated. Please use `torch.amp.autocast('cuda', args...)` instead.\n",
      "  with autocast(enabled=(DEVICE.type == 'cuda')):\n"
     ]
    },
    {
     "name": "stdout",
     "output_type": "stream",
     "text": [
      "Train Epoch Loss: 0.4682 Acc: 0.8240\n",
      "\n",
      "--- Validation Phase ---\n"
     ]
    },
    {
     "data": {
      "application/vnd.jupyter.widget-view+json": {
       "model_id": "d540f966b67842f39c5b60affebb3e18",
       "version_major": 2,
       "version_minor": 0
      },
      "text/plain": [
       "Val Progress:   0%|          | 0/39 [00:00<?, ?it/s]"
      ]
     },
     "metadata": {},
     "output_type": "display_data"
    },
    {
     "name": "stdout",
     "output_type": "stream",
     "text": [
      "Val Epoch Loss: 0.7486 Acc: 0.7508\n",
      "\n",
      "Calculating Validation Performance Metrics...\n",
      "\n",
      "Confusion Matrix:\n",
      "True\\Pred          glioma meningioma    notumor  pituitary\n",
      "----------------------------------------------------------\n",
      "glioma                110        130          6         13\n",
      "meningioma              0        224         22         48\n",
      "notumor                 2         13        329         16\n",
      "pituitary               2         56          2        271\n",
      "----------------------------------------------------------\n",
      "\n",
      "Classification Report (includes Precision, Recall, F1-Score):\n",
      "              precision    recall  f1-score   support\n",
      "\n",
      "      glioma     0.9649    0.4247    0.5898       259\n",
      "  meningioma     0.5296    0.7619    0.6248       294\n",
      "     notumor     0.9164    0.9139    0.9152       360\n",
      "   pituitary     0.7787    0.8187    0.7982       331\n",
      "\n",
      "    accuracy                         0.7508      1244\n",
      "   macro avg     0.7974    0.7298    0.7320      1244\n",
      "weighted avg     0.7985    0.7508    0.7477      1244\n",
      "\n",
      "---------------\n",
      "\n",
      "Epoch 7/25\n",
      "---------------\n",
      "--- Training Phase ---\n"
     ]
    },
    {
     "data": {
      "application/vnd.jupyter.widget-view+json": {
       "model_id": "2b054e1532234ba381a9c8372d07f5e8",
       "version_major": 2,
       "version_minor": 0
      },
      "text/plain": [
       "Train Progress:   0%|          | 0/156 [00:00<?, ?it/s]"
      ]
     },
     "metadata": {},
     "output_type": "display_data"
    },
    {
     "name": "stderr",
     "output_type": "stream",
     "text": [
      "/tmp/ipykernel_20014/2142746445.py:46: FutureWarning: `torch.cuda.amp.autocast(args...)` is deprecated. Please use `torch.amp.autocast('cuda', args...)` instead.\n",
      "  with autocast(enabled=(DEVICE.type == 'cuda')):\n"
     ]
    },
    {
     "name": "stdout",
     "output_type": "stream",
     "text": [
      "Train Epoch Loss: 0.4518 Acc: 0.8367\n",
      "\n",
      "--- Validation Phase ---\n"
     ]
    },
    {
     "data": {
      "application/vnd.jupyter.widget-view+json": {
       "model_id": "0615d6342ed5403fa4a02bb9453a69c3",
       "version_major": 2,
       "version_minor": 0
      },
      "text/plain": [
       "Val Progress:   0%|          | 0/39 [00:00<?, ?it/s]"
      ]
     },
     "metadata": {},
     "output_type": "display_data"
    },
    {
     "name": "stdout",
     "output_type": "stream",
     "text": [
      "Val Epoch Loss: 0.6447 Acc: 0.7669\n",
      "\n",
      "Calculating Validation Performance Metrics...\n",
      "\n",
      "Confusion Matrix:\n",
      "True\\Pred          glioma meningioma    notumor  pituitary\n",
      "----------------------------------------------------------\n",
      "glioma                238         19          2          0\n",
      "meningioma             64        202         23          5\n",
      "notumor                 7         23        330          0\n",
      "pituitary              97         47          3        184\n",
      "----------------------------------------------------------\n",
      "\n",
      "Classification Report (includes Precision, Recall, F1-Score):\n",
      "              precision    recall  f1-score   support\n",
      "\n",
      "      glioma     0.5862    0.9189    0.7158       259\n",
      "  meningioma     0.6942    0.6871    0.6906       294\n",
      "     notumor     0.9218    0.9167    0.9192       360\n",
      "   pituitary     0.9735    0.5559    0.7077       331\n",
      "\n",
      "    accuracy                         0.7669      1244\n",
      "   macro avg     0.7939    0.7696    0.7583      1244\n",
      "weighted avg     0.8119    0.7669    0.7666      1244\n",
      "\n",
      "---------------\n",
      "\n",
      "Epoch 8/25\n",
      "---------------\n",
      "--- Training Phase ---\n"
     ]
    },
    {
     "data": {
      "application/vnd.jupyter.widget-view+json": {
       "model_id": "7aae4ab710a04614b962fd26e22d7191",
       "version_major": 2,
       "version_minor": 0
      },
      "text/plain": [
       "Train Progress:   0%|          | 0/156 [00:00<?, ?it/s]"
      ]
     },
     "metadata": {},
     "output_type": "display_data"
    },
    {
     "name": "stderr",
     "output_type": "stream",
     "text": [
      "/tmp/ipykernel_20014/2142746445.py:46: FutureWarning: `torch.cuda.amp.autocast(args...)` is deprecated. Please use `torch.amp.autocast('cuda', args...)` instead.\n",
      "  with autocast(enabled=(DEVICE.type == 'cuda')):\n"
     ]
    },
    {
     "name": "stdout",
     "output_type": "stream",
     "text": [
      "Train Epoch Loss: 0.4151 Acc: 0.8467\n",
      "\n",
      "--- Validation Phase ---\n"
     ]
    },
    {
     "data": {
      "application/vnd.jupyter.widget-view+json": {
       "model_id": "d11f8d56e88f490788cca950c6a3bdee",
       "version_major": 2,
       "version_minor": 0
      },
      "text/plain": [
       "Val Progress:   0%|          | 0/39 [00:00<?, ?it/s]"
      ]
     },
     "metadata": {},
     "output_type": "display_data"
    },
    {
     "name": "stdout",
     "output_type": "stream",
     "text": [
      "Val Epoch Loss: 0.3859 Acc: 0.8674\n",
      "\n",
      "Calculating Validation Performance Metrics...\n",
      "\n",
      "Confusion Matrix:\n",
      "True\\Pred          glioma meningioma    notumor  pituitary\n",
      "----------------------------------------------------------\n",
      "glioma                228         14          0         17\n",
      "meningioma             13        206         16         59\n",
      "notumor                12         15        326          7\n",
      "pituitary               7          4          1        319\n",
      "----------------------------------------------------------\n",
      "\n",
      "Classification Report (includes Precision, Recall, F1-Score):\n",
      "              precision    recall  f1-score   support\n",
      "\n",
      "      glioma     0.8769    0.8803    0.8786       259\n",
      "  meningioma     0.8619    0.7007    0.7730       294\n",
      "     notumor     0.9504    0.9056    0.9275       360\n",
      "   pituitary     0.7935    0.9637    0.8704       331\n",
      "\n",
      "    accuracy                         0.8674      1244\n",
      "   macro avg     0.8707    0.8626    0.8624      1244\n",
      "weighted avg     0.8725    0.8674    0.8656      1244\n",
      "\n",
      "---------------\n",
      "** New Best Validation Accuracy: 0.8674 -> Saving model weights... **\n",
      "\n",
      "Epoch 9/25\n",
      "---------------\n",
      "--- Training Phase ---\n"
     ]
    },
    {
     "data": {
      "application/vnd.jupyter.widget-view+json": {
       "model_id": "94ec6576d5f44cacb68434ee404d82d2",
       "version_major": 2,
       "version_minor": 0
      },
      "text/plain": [
       "Train Progress:   0%|          | 0/156 [00:00<?, ?it/s]"
      ]
     },
     "metadata": {},
     "output_type": "display_data"
    },
    {
     "name": "stderr",
     "output_type": "stream",
     "text": [
      "/tmp/ipykernel_20014/2142746445.py:46: FutureWarning: `torch.cuda.amp.autocast(args...)` is deprecated. Please use `torch.amp.autocast('cuda', args...)` instead.\n",
      "  with autocast(enabled=(DEVICE.type == 'cuda')):\n"
     ]
    },
    {
     "name": "stdout",
     "output_type": "stream",
     "text": [
      "Train Epoch Loss: 0.3652 Acc: 0.8690\n",
      "\n",
      "--- Validation Phase ---\n"
     ]
    },
    {
     "data": {
      "application/vnd.jupyter.widget-view+json": {
       "model_id": "55b29b8645d342d0b638ab2c08128142",
       "version_major": 2,
       "version_minor": 0
      },
      "text/plain": [
       "Val Progress:   0%|          | 0/39 [00:00<?, ?it/s]"
      ]
     },
     "metadata": {},
     "output_type": "display_data"
    },
    {
     "name": "stdout",
     "output_type": "stream",
     "text": [
      "Val Epoch Loss: 0.4352 Acc: 0.8513\n",
      "\n",
      "Calculating Validation Performance Metrics...\n",
      "\n",
      "Confusion Matrix:\n",
      "True\\Pred          glioma meningioma    notumor  pituitary\n",
      "----------------------------------------------------------\n",
      "glioma                194          5          8         52\n",
      "meningioma              9        189         32         64\n",
      "notumor                 8          3        348          1\n",
      "pituitary               0          1          2        328\n",
      "----------------------------------------------------------\n",
      "\n",
      "Classification Report (includes Precision, Recall, F1-Score):\n",
      "              precision    recall  f1-score   support\n",
      "\n",
      "      glioma     0.9194    0.7490    0.8255       259\n",
      "  meningioma     0.9545    0.6429    0.7683       294\n",
      "     notumor     0.8923    0.9667    0.9280       360\n",
      "   pituitary     0.7371    0.9909    0.8454       331\n",
      "\n",
      "    accuracy                         0.8513      1244\n",
      "   macro avg     0.8758    0.8374    0.8418      1244\n",
      "weighted avg     0.8714    0.8513    0.8469      1244\n",
      "\n",
      "---------------\n",
      "\n",
      "Epoch 10/25\n",
      "---------------\n",
      "--- Training Phase ---\n"
     ]
    },
    {
     "data": {
      "application/vnd.jupyter.widget-view+json": {
       "model_id": "912699d2dc854b649d78bfa14c58e6f5",
       "version_major": 2,
       "version_minor": 0
      },
      "text/plain": [
       "Train Progress:   0%|          | 0/156 [00:00<?, ?it/s]"
      ]
     },
     "metadata": {},
     "output_type": "display_data"
    },
    {
     "name": "stderr",
     "output_type": "stream",
     "text": [
      "/tmp/ipykernel_20014/2142746445.py:46: FutureWarning: `torch.cuda.amp.autocast(args...)` is deprecated. Please use `torch.amp.autocast('cuda', args...)` instead.\n",
      "  with autocast(enabled=(DEVICE.type == 'cuda')):\n"
     ]
    },
    {
     "name": "stdout",
     "output_type": "stream",
     "text": [
      "Train Epoch Loss: 0.3295 Acc: 0.8793\n",
      "\n",
      "--- Validation Phase ---\n"
     ]
    },
    {
     "data": {
      "application/vnd.jupyter.widget-view+json": {
       "model_id": "259c993c76cb46b1b9cbe07e678567cf",
       "version_major": 2,
       "version_minor": 0
      },
      "text/plain": [
       "Val Progress:   0%|          | 0/39 [00:00<?, ?it/s]"
      ]
     },
     "metadata": {},
     "output_type": "display_data"
    },
    {
     "name": "stdout",
     "output_type": "stream",
     "text": [
      "Val Epoch Loss: 0.3390 Acc: 0.8738\n",
      "\n",
      "Calculating Validation Performance Metrics...\n",
      "\n",
      "Confusion Matrix:\n",
      "True\\Pred          glioma meningioma    notumor  pituitary\n",
      "----------------------------------------------------------\n",
      "glioma                240          8          9          2\n",
      "meningioma             58        221         10          5\n",
      "notumor                 4         11        343          2\n",
      "pituitary              39          8          1        283\n",
      "----------------------------------------------------------\n",
      "\n",
      "Classification Report (includes Precision, Recall, F1-Score):\n",
      "              precision    recall  f1-score   support\n",
      "\n",
      "      glioma     0.7038    0.9266    0.8000       259\n",
      "  meningioma     0.8911    0.7517    0.8155       294\n",
      "     notumor     0.9449    0.9528    0.9488       360\n",
      "   pituitary     0.9692    0.8550    0.9085       331\n",
      "\n",
      "    accuracy                         0.8738      1244\n",
      "   macro avg     0.8773    0.8715    0.8682      1244\n",
      "weighted avg     0.8885    0.8738    0.8756      1244\n",
      "\n",
      "---------------\n",
      "** New Best Validation Accuracy: 0.8738 -> Saving model weights... **\n",
      "\n",
      "Epoch 11/25\n",
      "---------------\n",
      "--- Training Phase ---\n"
     ]
    },
    {
     "data": {
      "application/vnd.jupyter.widget-view+json": {
       "model_id": "04be982064f04dfa9ba925de0cff52d8",
       "version_major": 2,
       "version_minor": 0
      },
      "text/plain": [
       "Train Progress:   0%|          | 0/156 [00:00<?, ?it/s]"
      ]
     },
     "metadata": {},
     "output_type": "display_data"
    },
    {
     "name": "stderr",
     "output_type": "stream",
     "text": [
      "/tmp/ipykernel_20014/2142746445.py:46: FutureWarning: `torch.cuda.amp.autocast(args...)` is deprecated. Please use `torch.amp.autocast('cuda', args...)` instead.\n",
      "  with autocast(enabled=(DEVICE.type == 'cuda')):\n"
     ]
    },
    {
     "name": "stdout",
     "output_type": "stream",
     "text": [
      "Train Epoch Loss: 0.3169 Acc: 0.8867\n",
      "\n",
      "--- Validation Phase ---\n"
     ]
    },
    {
     "data": {
      "application/vnd.jupyter.widget-view+json": {
       "model_id": "e10b73173a2e4f2bbfc03494ca9f9805",
       "version_major": 2,
       "version_minor": 0
      },
      "text/plain": [
       "Val Progress:   0%|          | 0/39 [00:00<?, ?it/s]"
      ]
     },
     "metadata": {},
     "output_type": "display_data"
    },
    {
     "name": "stdout",
     "output_type": "stream",
     "text": [
      "Val Epoch Loss: 0.3347 Acc: 0.8834\n",
      "\n",
      "Calculating Validation Performance Metrics...\n",
      "\n",
      "Confusion Matrix:\n",
      "True\\Pred          glioma meningioma    notumor  pituitary\n",
      "----------------------------------------------------------\n",
      "glioma                199         37          6         17\n",
      "meningioma              9        256         10         19\n",
      "notumor                 1         16        339          4\n",
      "pituitary               3         17          6        305\n",
      "----------------------------------------------------------\n",
      "\n",
      "Classification Report (includes Precision, Recall, F1-Score):\n",
      "              precision    recall  f1-score   support\n",
      "\n",
      "      glioma     0.9387    0.7683    0.8450       259\n",
      "  meningioma     0.7853    0.8707    0.8258       294\n",
      "     notumor     0.9391    0.9417    0.9404       360\n",
      "   pituitary     0.8841    0.9215    0.9024       331\n",
      "\n",
      "    accuracy                         0.8834      1244\n",
      "   macro avg     0.8868    0.8756    0.8784      1244\n",
      "weighted avg     0.8880    0.8834    0.8833      1244\n",
      "\n",
      "---------------\n",
      "** New Best Validation Accuracy: 0.8834 -> Saving model weights... **\n",
      "\n",
      "Epoch 12/25\n",
      "---------------\n",
      "--- Training Phase ---\n"
     ]
    },
    {
     "data": {
      "application/vnd.jupyter.widget-view+json": {
       "model_id": "36f0cda970ea497790c62abebbafe073",
       "version_major": 2,
       "version_minor": 0
      },
      "text/plain": [
       "Train Progress:   0%|          | 0/156 [00:00<?, ?it/s]"
      ]
     },
     "metadata": {},
     "output_type": "display_data"
    },
    {
     "name": "stderr",
     "output_type": "stream",
     "text": [
      "/tmp/ipykernel_20014/2142746445.py:46: FutureWarning: `torch.cuda.amp.autocast(args...)` is deprecated. Please use `torch.amp.autocast('cuda', args...)` instead.\n",
      "  with autocast(enabled=(DEVICE.type == 'cuda')):\n"
     ]
    },
    {
     "name": "stdout",
     "output_type": "stream",
     "text": [
      "Train Epoch Loss: 0.2835 Acc: 0.8949\n",
      "\n",
      "--- Validation Phase ---\n"
     ]
    },
    {
     "data": {
      "application/vnd.jupyter.widget-view+json": {
       "model_id": "5d39d43987d14a9290b00e33733e931f",
       "version_major": 2,
       "version_minor": 0
      },
      "text/plain": [
       "Val Progress:   0%|          | 0/39 [00:00<?, ?it/s]"
      ]
     },
     "metadata": {},
     "output_type": "display_data"
    },
    {
     "name": "stdout",
     "output_type": "stream",
     "text": [
      "Val Epoch Loss: 1.3651 Acc: 0.5635\n",
      "\n",
      "Calculating Validation Performance Metrics...\n",
      "\n",
      "Confusion Matrix:\n",
      "True\\Pred          glioma meningioma    notumor  pituitary\n",
      "----------------------------------------------------------\n",
      "glioma                 38          7        213          1\n",
      "meningioma              0        176        116          2\n",
      "notumor                 0         13        346          1\n",
      "pituitary               0          7        183        141\n",
      "----------------------------------------------------------\n",
      "\n",
      "Classification Report (includes Precision, Recall, F1-Score):\n",
      "              precision    recall  f1-score   support\n",
      "\n",
      "      glioma     1.0000    0.1467    0.2559       259\n",
      "  meningioma     0.8670    0.5986    0.7082       294\n",
      "     notumor     0.4033    0.9611    0.5681       360\n",
      "   pituitary     0.9724    0.4260    0.5924       331\n",
      "\n",
      "    accuracy                         0.5635      1244\n",
      "   macro avg     0.8107    0.5331    0.5312      1244\n",
      "weighted avg     0.7885    0.5635    0.5427      1244\n",
      "\n",
      "---------------\n",
      "\n",
      "Epoch 13/25\n",
      "---------------\n",
      "--- Training Phase ---\n"
     ]
    },
    {
     "data": {
      "application/vnd.jupyter.widget-view+json": {
       "model_id": "dc61b86fc6554323ab5d68e55ed013b9",
       "version_major": 2,
       "version_minor": 0
      },
      "text/plain": [
       "Train Progress:   0%|          | 0/156 [00:00<?, ?it/s]"
      ]
     },
     "metadata": {},
     "output_type": "display_data"
    },
    {
     "name": "stderr",
     "output_type": "stream",
     "text": [
      "/tmp/ipykernel_20014/2142746445.py:46: FutureWarning: `torch.cuda.amp.autocast(args...)` is deprecated. Please use `torch.amp.autocast('cuda', args...)` instead.\n",
      "  with autocast(enabled=(DEVICE.type == 'cuda')):\n"
     ]
    },
    {
     "name": "stdout",
     "output_type": "stream",
     "text": [
      "Train Epoch Loss: 0.2720 Acc: 0.9000\n",
      "\n",
      "--- Validation Phase ---\n"
     ]
    },
    {
     "data": {
      "application/vnd.jupyter.widget-view+json": {
       "model_id": "7fad82625f264742a66f7cf8716c2216",
       "version_major": 2,
       "version_minor": 0
      },
      "text/plain": [
       "Val Progress:   0%|          | 0/39 [00:00<?, ?it/s]"
      ]
     },
     "metadata": {},
     "output_type": "display_data"
    },
    {
     "name": "stdout",
     "output_type": "stream",
     "text": [
      "Val Epoch Loss: 0.5667 Acc: 0.8360\n",
      "\n",
      "Calculating Validation Performance Metrics...\n",
      "\n",
      "Confusion Matrix:\n",
      "True\\Pred          glioma meningioma    notumor  pituitary\n",
      "----------------------------------------------------------\n",
      "glioma                213          4          2         40\n",
      "meningioma              3        168          8        115\n",
      "notumor                 5          4        333         18\n",
      "pituitary               3          1          1        326\n",
      "----------------------------------------------------------\n",
      "\n",
      "Classification Report (includes Precision, Recall, F1-Score):\n",
      "              precision    recall  f1-score   support\n",
      "\n",
      "      glioma     0.9509    0.8224    0.8820       259\n",
      "  meningioma     0.9492    0.5714    0.7134       294\n",
      "     notumor     0.9680    0.9250    0.9460       360\n",
      "   pituitary     0.6533    0.9849    0.7855       331\n",
      "\n",
      "    accuracy                         0.8360      1244\n",
      "   macro avg     0.8803    0.8259    0.8317      1244\n",
      "weighted avg     0.8763    0.8360    0.8350      1244\n",
      "\n",
      "---------------\n",
      "\n",
      "Epoch 14/25\n",
      "---------------\n",
      "--- Training Phase ---\n"
     ]
    },
    {
     "data": {
      "application/vnd.jupyter.widget-view+json": {
       "model_id": "a8ab6c54acf9484baf0b00f0d137ee6b",
       "version_major": 2,
       "version_minor": 0
      },
      "text/plain": [
       "Train Progress:   0%|          | 0/156 [00:00<?, ?it/s]"
      ]
     },
     "metadata": {},
     "output_type": "display_data"
    },
    {
     "name": "stderr",
     "output_type": "stream",
     "text": [
      "/tmp/ipykernel_20014/2142746445.py:46: FutureWarning: `torch.cuda.amp.autocast(args...)` is deprecated. Please use `torch.amp.autocast('cuda', args...)` instead.\n",
      "  with autocast(enabled=(DEVICE.type == 'cuda')):\n"
     ]
    },
    {
     "name": "stdout",
     "output_type": "stream",
     "text": [
      "Train Epoch Loss: 0.2550 Acc: 0.9124\n",
      "\n",
      "--- Validation Phase ---\n"
     ]
    },
    {
     "data": {
      "application/vnd.jupyter.widget-view+json": {
       "model_id": "b4474df813ef4d8a8af47f610d581344",
       "version_major": 2,
       "version_minor": 0
      },
      "text/plain": [
       "Val Progress:   0%|          | 0/39 [00:00<?, ?it/s]"
      ]
     },
     "metadata": {},
     "output_type": "display_data"
    },
    {
     "name": "stdout",
     "output_type": "stream",
     "text": [
      "Val Epoch Loss: 0.2418 Acc: 0.9124\n",
      "\n",
      "Calculating Validation Performance Metrics...\n",
      "\n",
      "Confusion Matrix:\n",
      "True\\Pred          glioma meningioma    notumor  pituitary\n",
      "----------------------------------------------------------\n",
      "glioma                217         15         12         15\n",
      "meningioma             10        251          8         25\n",
      "notumor                 0         15        344          1\n",
      "pituitary               0          7          1        323\n",
      "----------------------------------------------------------\n",
      "\n",
      "Classification Report (includes Precision, Recall, F1-Score):\n",
      "              precision    recall  f1-score   support\n",
      "\n",
      "      glioma     0.9559    0.8378    0.8930       259\n",
      "  meningioma     0.8715    0.8537    0.8625       294\n",
      "     notumor     0.9425    0.9556    0.9490       360\n",
      "   pituitary     0.8874    0.9758    0.9295       331\n",
      "\n",
      "    accuracy                         0.9124      1244\n",
      "   macro avg     0.9143    0.9057    0.9085      1244\n",
      "weighted avg     0.9138    0.9124    0.9117      1244\n",
      "\n",
      "---------------\n",
      "** New Best Validation Accuracy: 0.9124 -> Saving model weights... **\n",
      "\n",
      "Epoch 15/25\n",
      "---------------\n",
      "--- Training Phase ---\n"
     ]
    },
    {
     "data": {
      "application/vnd.jupyter.widget-view+json": {
       "model_id": "27f94fe2aaf3424491c6ebf5d97b3bb7",
       "version_major": 2,
       "version_minor": 0
      },
      "text/plain": [
       "Train Progress:   0%|          | 0/156 [00:00<?, ?it/s]"
      ]
     },
     "metadata": {},
     "output_type": "display_data"
    },
    {
     "name": "stderr",
     "output_type": "stream",
     "text": [
      "/tmp/ipykernel_20014/2142746445.py:46: FutureWarning: `torch.cuda.amp.autocast(args...)` is deprecated. Please use `torch.amp.autocast('cuda', args...)` instead.\n",
      "  with autocast(enabled=(DEVICE.type == 'cuda')):\n"
     ]
    },
    {
     "name": "stdout",
     "output_type": "stream",
     "text": [
      "Train Epoch Loss: 0.2378 Acc: 0.9146\n",
      "\n",
      "--- Validation Phase ---\n"
     ]
    },
    {
     "data": {
      "application/vnd.jupyter.widget-view+json": {
       "model_id": "d371ead1d9fe40989ecd0d4e1976b626",
       "version_major": 2,
       "version_minor": 0
      },
      "text/plain": [
       "Val Progress:   0%|          | 0/39 [00:00<?, ?it/s]"
      ]
     },
     "metadata": {},
     "output_type": "display_data"
    },
    {
     "name": "stdout",
     "output_type": "stream",
     "text": [
      "Val Epoch Loss: 0.3379 Acc: 0.8859\n",
      "\n",
      "Calculating Validation Performance Metrics...\n",
      "\n",
      "Confusion Matrix:\n",
      "True\\Pred          glioma meningioma    notumor  pituitary\n",
      "----------------------------------------------------------\n",
      "glioma                241          3         15          0\n",
      "meningioma             28        244         17          5\n",
      "notumor                 9          6        344          1\n",
      "pituitary              15         25         18        273\n",
      "----------------------------------------------------------\n",
      "\n",
      "Classification Report (includes Precision, Recall, F1-Score):\n",
      "              precision    recall  f1-score   support\n",
      "\n",
      "      glioma     0.8225    0.9305    0.8732       259\n",
      "  meningioma     0.8777    0.8299    0.8531       294\n",
      "     notumor     0.8731    0.9556    0.9125       360\n",
      "   pituitary     0.9785    0.8248    0.8951       331\n",
      "\n",
      "    accuracy                         0.8859      1244\n",
      "   macro avg     0.8880    0.8852    0.8835      1244\n",
      "weighted avg     0.8917    0.8859    0.8856      1244\n",
      "\n",
      "---------------\n",
      "\n",
      "Epoch 16/25\n",
      "---------------\n",
      "--- Training Phase ---\n"
     ]
    },
    {
     "data": {
      "application/vnd.jupyter.widget-view+json": {
       "model_id": "1764a671b1784689a2d9e037f40e8c5c",
       "version_major": 2,
       "version_minor": 0
      },
      "text/plain": [
       "Train Progress:   0%|          | 0/156 [00:00<?, ?it/s]"
      ]
     },
     "metadata": {},
     "output_type": "display_data"
    },
    {
     "name": "stderr",
     "output_type": "stream",
     "text": [
      "/tmp/ipykernel_20014/2142746445.py:46: FutureWarning: `torch.cuda.amp.autocast(args...)` is deprecated. Please use `torch.amp.autocast('cuda', args...)` instead.\n",
      "  with autocast(enabled=(DEVICE.type == 'cuda')):\n"
     ]
    },
    {
     "name": "stdout",
     "output_type": "stream",
     "text": [
      "Train Epoch Loss: 0.2142 Acc: 0.9217\n",
      "\n",
      "--- Validation Phase ---\n"
     ]
    },
    {
     "data": {
      "application/vnd.jupyter.widget-view+json": {
       "model_id": "43bc14d27a694e37bc3e27981d94b6dd",
       "version_major": 2,
       "version_minor": 0
      },
      "text/plain": [
       "Val Progress:   0%|          | 0/39 [00:00<?, ?it/s]"
      ]
     },
     "metadata": {},
     "output_type": "display_data"
    },
    {
     "name": "stdout",
     "output_type": "stream",
     "text": [
      "Val Epoch Loss: 0.6024 Acc: 0.8256\n",
      "\n",
      "Calculating Validation Performance Metrics...\n",
      "\n",
      "Confusion Matrix:\n",
      "True\\Pred          glioma meningioma    notumor  pituitary\n",
      "----------------------------------------------------------\n",
      "glioma                213          3          0         43\n",
      "meningioma              2        155          7        130\n",
      "notumor                 4          1        334         21\n",
      "pituitary               3          2          1        325\n",
      "----------------------------------------------------------\n",
      "\n",
      "Classification Report (includes Precision, Recall, F1-Score):\n",
      "              precision    recall  f1-score   support\n",
      "\n",
      "      glioma     0.9595    0.8224    0.8857       259\n",
      "  meningioma     0.9627    0.5272    0.6813       294\n",
      "     notumor     0.9766    0.9278    0.9516       360\n",
      "   pituitary     0.6262    0.9819    0.7647       331\n",
      "\n",
      "    accuracy                         0.8256      1244\n",
      "   macro avg     0.8813    0.8148    0.8208      1244\n",
      "weighted avg     0.8765    0.8256    0.8243      1244\n",
      "\n",
      "---------------\n",
      "\n",
      "Epoch 17/25\n",
      "---------------\n",
      "--- Training Phase ---\n"
     ]
    },
    {
     "data": {
      "application/vnd.jupyter.widget-view+json": {
       "model_id": "39e60de49bb3481384ffc641a488490f",
       "version_major": 2,
       "version_minor": 0
      },
      "text/plain": [
       "Train Progress:   0%|          | 0/156 [00:00<?, ?it/s]"
      ]
     },
     "metadata": {},
     "output_type": "display_data"
    },
    {
     "name": "stderr",
     "output_type": "stream",
     "text": [
      "/tmp/ipykernel_20014/2142746445.py:46: FutureWarning: `torch.cuda.amp.autocast(args...)` is deprecated. Please use `torch.amp.autocast('cuda', args...)` instead.\n",
      "  with autocast(enabled=(DEVICE.type == 'cuda')):\n"
     ]
    },
    {
     "name": "stdout",
     "output_type": "stream",
     "text": [
      "Train Epoch Loss: 0.2211 Acc: 0.9174\n",
      "\n",
      "--- Validation Phase ---\n"
     ]
    },
    {
     "data": {
      "application/vnd.jupyter.widget-view+json": {
       "model_id": "a900011c1ed8470f95b9b5f994041406",
       "version_major": 2,
       "version_minor": 0
      },
      "text/plain": [
       "Val Progress:   0%|          | 0/39 [00:00<?, ?it/s]"
      ]
     },
     "metadata": {},
     "output_type": "display_data"
    },
    {
     "name": "stdout",
     "output_type": "stream",
     "text": [
      "Val Epoch Loss: 0.2483 Acc: 0.9108\n",
      "\n",
      "Calculating Validation Performance Metrics...\n",
      "\n",
      "Confusion Matrix:\n",
      "True\\Pred          glioma meningioma    notumor  pituitary\n",
      "----------------------------------------------------------\n",
      "glioma                230          8          8         13\n",
      "meningioma              6        242         26         20\n",
      "notumor                 3          3        354          0\n",
      "pituitary               1         21          2        307\n",
      "----------------------------------------------------------\n",
      "\n",
      "Classification Report (includes Precision, Recall, F1-Score):\n",
      "              precision    recall  f1-score   support\n",
      "\n",
      "      glioma     0.9583    0.8880    0.9218       259\n",
      "  meningioma     0.8832    0.8231    0.8521       294\n",
      "     notumor     0.9077    0.9833    0.9440       360\n",
      "   pituitary     0.9029    0.9275    0.9151       331\n",
      "\n",
      "    accuracy                         0.9108      1244\n",
      "   macro avg     0.9130    0.9055    0.9083      1244\n",
      "weighted avg     0.9112    0.9108    0.9100      1244\n",
      "\n",
      "---------------\n",
      "\n",
      "Epoch 18/25\n",
      "---------------\n",
      "--- Training Phase ---\n"
     ]
    },
    {
     "data": {
      "application/vnd.jupyter.widget-view+json": {
       "model_id": "289f3428fc85401ab4d52531ad8c1f8e",
       "version_major": 2,
       "version_minor": 0
      },
      "text/plain": [
       "Train Progress:   0%|          | 0/156 [00:00<?, ?it/s]"
      ]
     },
     "metadata": {},
     "output_type": "display_data"
    },
    {
     "name": "stderr",
     "output_type": "stream",
     "text": [
      "/tmp/ipykernel_20014/2142746445.py:46: FutureWarning: `torch.cuda.amp.autocast(args...)` is deprecated. Please use `torch.amp.autocast('cuda', args...)` instead.\n",
      "  with autocast(enabled=(DEVICE.type == 'cuda')):\n"
     ]
    },
    {
     "name": "stdout",
     "output_type": "stream",
     "text": [
      "Train Epoch Loss: 0.2072 Acc: 0.9277\n",
      "\n",
      "--- Validation Phase ---\n"
     ]
    },
    {
     "data": {
      "application/vnd.jupyter.widget-view+json": {
       "model_id": "3b3e217864294aaf8a070ef6ac14a623",
       "version_major": 2,
       "version_minor": 0
      },
      "text/plain": [
       "Val Progress:   0%|          | 0/39 [00:00<?, ?it/s]"
      ]
     },
     "metadata": {},
     "output_type": "display_data"
    },
    {
     "name": "stdout",
     "output_type": "stream",
     "text": [
      "Val Epoch Loss: 0.2579 Acc: 0.9132\n",
      "\n",
      "Calculating Validation Performance Metrics...\n",
      "\n",
      "Confusion Matrix:\n",
      "True\\Pred          glioma meningioma    notumor  pituitary\n",
      "----------------------------------------------------------\n",
      "glioma                235         10          8          6\n",
      "meningioma             10        231          9         44\n",
      "notumor                 6          8        346          0\n",
      "pituitary               2          2          3        324\n",
      "----------------------------------------------------------\n",
      "\n",
      "Classification Report (includes Precision, Recall, F1-Score):\n",
      "              precision    recall  f1-score   support\n",
      "\n",
      "      glioma     0.9289    0.9073    0.9180       259\n",
      "  meningioma     0.9203    0.7857    0.8477       294\n",
      "     notumor     0.9454    0.9611    0.9532       360\n",
      "   pituitary     0.8663    0.9789    0.9191       331\n",
      "\n",
      "    accuracy                         0.9132      1244\n",
      "   macro avg     0.9152    0.9083    0.9095      1244\n",
      "weighted avg     0.9150    0.9132    0.9119      1244\n",
      "\n",
      "---------------\n",
      "** New Best Validation Accuracy: 0.9132 -> Saving model weights... **\n",
      "\n",
      "Epoch 19/25\n",
      "---------------\n",
      "--- Training Phase ---\n"
     ]
    },
    {
     "data": {
      "application/vnd.jupyter.widget-view+json": {
       "model_id": "75ab3cf1926949b3b5bf7add0ab909ff",
       "version_major": 2,
       "version_minor": 0
      },
      "text/plain": [
       "Train Progress:   0%|          | 0/156 [00:00<?, ?it/s]"
      ]
     },
     "metadata": {},
     "output_type": "display_data"
    },
    {
     "name": "stderr",
     "output_type": "stream",
     "text": [
      "/tmp/ipykernel_20014/2142746445.py:46: FutureWarning: `torch.cuda.amp.autocast(args...)` is deprecated. Please use `torch.amp.autocast('cuda', args...)` instead.\n",
      "  with autocast(enabled=(DEVICE.type == 'cuda')):\n"
     ]
    },
    {
     "name": "stdout",
     "output_type": "stream",
     "text": [
      "Train Epoch Loss: 0.2135 Acc: 0.9243\n",
      "\n",
      "--- Validation Phase ---\n"
     ]
    },
    {
     "data": {
      "application/vnd.jupyter.widget-view+json": {
       "model_id": "66fbcc62a0564b21adb9391308017612",
       "version_major": 2,
       "version_minor": 0
      },
      "text/plain": [
       "Val Progress:   0%|          | 0/39 [00:00<?, ?it/s]"
      ]
     },
     "metadata": {},
     "output_type": "display_data"
    },
    {
     "name": "stdout",
     "output_type": "stream",
     "text": [
      "Val Epoch Loss: 0.3490 Acc: 0.8746\n",
      "\n",
      "Calculating Validation Performance Metrics...\n",
      "\n",
      "Confusion Matrix:\n",
      "True\\Pred          glioma meningioma    notumor  pituitary\n",
      "----------------------------------------------------------\n",
      "glioma                226          4         12         17\n",
      "meningioma              9        194         27         64\n",
      "notumor                 4          2        352          2\n",
      "pituitary               7          1          7        316\n",
      "----------------------------------------------------------\n",
      "\n",
      "Classification Report (includes Precision, Recall, F1-Score):\n",
      "              precision    recall  f1-score   support\n",
      "\n",
      "      glioma     0.9187    0.8726    0.8950       259\n",
      "  meningioma     0.9652    0.6599    0.7838       294\n",
      "     notumor     0.8844    0.9778    0.9288       360\n",
      "   pituitary     0.7920    0.9547    0.8658       331\n",
      "\n",
      "    accuracy                         0.8746      1244\n",
      "   macro avg     0.8901    0.8662    0.8684      1244\n",
      "weighted avg     0.8860    0.8746    0.8707      1244\n",
      "\n",
      "---------------\n",
      "\n",
      "Epoch 20/25\n",
      "---------------\n",
      "--- Training Phase ---\n"
     ]
    },
    {
     "data": {
      "application/vnd.jupyter.widget-view+json": {
       "model_id": "945cbfcdc5274cfda6e0b6217c518ee5",
       "version_major": 2,
       "version_minor": 0
      },
      "text/plain": [
       "Train Progress:   0%|          | 0/156 [00:00<?, ?it/s]"
      ]
     },
     "metadata": {},
     "output_type": "display_data"
    },
    {
     "name": "stderr",
     "output_type": "stream",
     "text": [
      "/tmp/ipykernel_20014/2142746445.py:46: FutureWarning: `torch.cuda.amp.autocast(args...)` is deprecated. Please use `torch.amp.autocast('cuda', args...)` instead.\n",
      "  with autocast(enabled=(DEVICE.type == 'cuda')):\n"
     ]
    },
    {
     "name": "stdout",
     "output_type": "stream",
     "text": [
      "Train Epoch Loss: 0.1938 Acc: 0.9297\n",
      "\n",
      "--- Validation Phase ---\n"
     ]
    },
    {
     "data": {
      "application/vnd.jupyter.widget-view+json": {
       "model_id": "1fa1620429e243e887f04915f8b7250a",
       "version_major": 2,
       "version_minor": 0
      },
      "text/plain": [
       "Val Progress:   0%|          | 0/39 [00:00<?, ?it/s]"
      ]
     },
     "metadata": {},
     "output_type": "display_data"
    },
    {
     "name": "stdout",
     "output_type": "stream",
     "text": [
      "Val Epoch Loss: 0.5486 Acc: 0.8119\n",
      "\n",
      "Calculating Validation Performance Metrics...\n",
      "\n",
      "Confusion Matrix:\n",
      "True\\Pred          glioma meningioma    notumor  pituitary\n",
      "----------------------------------------------------------\n",
      "glioma                153          1         33         72\n",
      "meningioma              6        182         30         76\n",
      "notumor                 0          0        356          4\n",
      "pituitary               0          0         12        319\n",
      "----------------------------------------------------------\n",
      "\n",
      "Classification Report (includes Precision, Recall, F1-Score):\n",
      "              precision    recall  f1-score   support\n",
      "\n",
      "      glioma     0.9623    0.5907    0.7321       259\n",
      "  meningioma     0.9945    0.6190    0.7631       294\n",
      "     notumor     0.8260    0.9889    0.9001       360\n",
      "   pituitary     0.6773    0.9637    0.7955       331\n",
      "\n",
      "    accuracy                         0.8119      1244\n",
      "   macro avg     0.8650    0.7906    0.7977      1244\n",
      "weighted avg     0.8546    0.8119    0.8049      1244\n",
      "\n",
      "---------------\n",
      "\n",
      "Epoch 21/25\n",
      "---------------\n",
      "--- Training Phase ---\n"
     ]
    },
    {
     "data": {
      "application/vnd.jupyter.widget-view+json": {
       "model_id": "376678acce7f481b8849e6511c38afec",
       "version_major": 2,
       "version_minor": 0
      },
      "text/plain": [
       "Train Progress:   0%|          | 0/156 [00:00<?, ?it/s]"
      ]
     },
     "metadata": {},
     "output_type": "display_data"
    },
    {
     "name": "stderr",
     "output_type": "stream",
     "text": [
      "/tmp/ipykernel_20014/2142746445.py:46: FutureWarning: `torch.cuda.amp.autocast(args...)` is deprecated. Please use `torch.amp.autocast('cuda', args...)` instead.\n",
      "  with autocast(enabled=(DEVICE.type == 'cuda')):\n"
     ]
    },
    {
     "name": "stdout",
     "output_type": "stream",
     "text": [
      "Train Epoch Loss: 0.1321 Acc: 0.9520\n",
      "\n",
      "--- Validation Phase ---\n"
     ]
    },
    {
     "data": {
      "application/vnd.jupyter.widget-view+json": {
       "model_id": "0cc6ebbafb154aaa86d4eb74c64c9b65",
       "version_major": 2,
       "version_minor": 0
      },
      "text/plain": [
       "Val Progress:   0%|          | 0/39 [00:00<?, ?it/s]"
      ]
     },
     "metadata": {},
     "output_type": "display_data"
    },
    {
     "name": "stdout",
     "output_type": "stream",
     "text": [
      "Val Epoch Loss: 0.1236 Acc: 0.9606\n",
      "\n",
      "Calculating Validation Performance Metrics...\n",
      "\n",
      "Confusion Matrix:\n",
      "True\\Pred          glioma meningioma    notumor  pituitary\n",
      "----------------------------------------------------------\n",
      "glioma                254          2          3          0\n",
      "meningioma             12        264          9          9\n",
      "notumor                 4          3        353          0\n",
      "pituitary               2          4          1        324\n",
      "----------------------------------------------------------\n",
      "\n",
      "Classification Report (includes Precision, Recall, F1-Score):\n",
      "              precision    recall  f1-score   support\n",
      "\n",
      "      glioma     0.9338    0.9807    0.9567       259\n",
      "  meningioma     0.9670    0.8980    0.9312       294\n",
      "     notumor     0.9645    0.9806    0.9725       360\n",
      "   pituitary     0.9730    0.9789    0.9759       331\n",
      "\n",
      "    accuracy                         0.9606      1244\n",
      "   macro avg     0.9596    0.9595    0.9591      1244\n",
      "weighted avg     0.9610    0.9606    0.9603      1244\n",
      "\n",
      "---------------\n",
      "** New Best Validation Accuracy: 0.9606 -> Saving model weights... **\n",
      "\n",
      "Epoch 22/25\n",
      "---------------\n",
      "--- Training Phase ---\n"
     ]
    },
    {
     "data": {
      "application/vnd.jupyter.widget-view+json": {
       "model_id": "6e2ac786b04b452a95e1e07352b6e6b9",
       "version_major": 2,
       "version_minor": 0
      },
      "text/plain": [
       "Train Progress:   0%|          | 0/156 [00:00<?, ?it/s]"
      ]
     },
     "metadata": {},
     "output_type": "display_data"
    },
    {
     "name": "stderr",
     "output_type": "stream",
     "text": [
      "/tmp/ipykernel_20014/2142746445.py:46: FutureWarning: `torch.cuda.amp.autocast(args...)` is deprecated. Please use `torch.amp.autocast('cuda', args...)` instead.\n",
      "  with autocast(enabled=(DEVICE.type == 'cuda')):\n"
     ]
    },
    {
     "name": "stdout",
     "output_type": "stream",
     "text": [
      "Train Epoch Loss: 0.1082 Acc: 0.9608\n",
      "\n",
      "--- Validation Phase ---\n"
     ]
    },
    {
     "data": {
      "application/vnd.jupyter.widget-view+json": {
       "model_id": "723ea9626ddc450598b01c23d5020d07",
       "version_major": 2,
       "version_minor": 0
      },
      "text/plain": [
       "Val Progress:   0%|          | 0/39 [00:00<?, ?it/s]"
      ]
     },
     "metadata": {},
     "output_type": "display_data"
    },
    {
     "name": "stdout",
     "output_type": "stream",
     "text": [
      "Val Epoch Loss: 0.1169 Acc: 0.9654\n",
      "\n",
      "Calculating Validation Performance Metrics...\n",
      "\n",
      "Confusion Matrix:\n",
      "True\\Pred          glioma meningioma    notumor  pituitary\n",
      "----------------------------------------------------------\n",
      "glioma                249          5          5          0\n",
      "meningioma              7        273          7          7\n",
      "notumor                 3          2        355          0\n",
      "pituitary               1          4          2        324\n",
      "----------------------------------------------------------\n",
      "\n",
      "Classification Report (includes Precision, Recall, F1-Score):\n",
      "              precision    recall  f1-score   support\n",
      "\n",
      "      glioma     0.9577    0.9614    0.9595       259\n",
      "  meningioma     0.9613    0.9286    0.9446       294\n",
      "     notumor     0.9621    0.9861    0.9739       360\n",
      "   pituitary     0.9789    0.9789    0.9789       331\n",
      "\n",
      "    accuracy                         0.9654      1244\n",
      "   macro avg     0.9650    0.9637    0.9642      1244\n",
      "weighted avg     0.9654    0.9654    0.9653      1244\n",
      "\n",
      "---------------\n",
      "** New Best Validation Accuracy: 0.9654 -> Saving model weights... **\n",
      "\n",
      "Epoch 23/25\n",
      "---------------\n",
      "--- Training Phase ---\n"
     ]
    },
    {
     "data": {
      "application/vnd.jupyter.widget-view+json": {
       "model_id": "14e00847de25410688ab2c4914d3146e",
       "version_major": 2,
       "version_minor": 0
      },
      "text/plain": [
       "Train Progress:   0%|          | 0/156 [00:00<?, ?it/s]"
      ]
     },
     "metadata": {},
     "output_type": "display_data"
    },
    {
     "name": "stderr",
     "output_type": "stream",
     "text": [
      "/tmp/ipykernel_20014/2142746445.py:46: FutureWarning: `torch.cuda.amp.autocast(args...)` is deprecated. Please use `torch.amp.autocast('cuda', args...)` instead.\n",
      "  with autocast(enabled=(DEVICE.type == 'cuda')):\n"
     ]
    },
    {
     "name": "stdout",
     "output_type": "stream",
     "text": [
      "Train Epoch Loss: 0.0963 Acc: 0.9663\n",
      "\n",
      "--- Validation Phase ---\n"
     ]
    },
    {
     "data": {
      "application/vnd.jupyter.widget-view+json": {
       "model_id": "4488caa8574646b2ae3ad40b1920e6bc",
       "version_major": 2,
       "version_minor": 0
      },
      "text/plain": [
       "Val Progress:   0%|          | 0/39 [00:00<?, ?it/s]"
      ]
     },
     "metadata": {},
     "output_type": "display_data"
    },
    {
     "name": "stdout",
     "output_type": "stream",
     "text": [
      "Val Epoch Loss: 0.1160 Acc: 0.9598\n",
      "\n",
      "Calculating Validation Performance Metrics...\n",
      "\n",
      "Confusion Matrix:\n",
      "True\\Pred          glioma meningioma    notumor  pituitary\n",
      "----------------------------------------------------------\n",
      "glioma                249          4          5          1\n",
      "meningioma              6        273         12          3\n",
      "notumor                 3          1        356          0\n",
      "pituitary               2         11          2        316\n",
      "----------------------------------------------------------\n",
      "\n",
      "Classification Report (includes Precision, Recall, F1-Score):\n",
      "              precision    recall  f1-score   support\n",
      "\n",
      "      glioma     0.9577    0.9614    0.9595       259\n",
      "  meningioma     0.9446    0.9286    0.9365       294\n",
      "     notumor     0.9493    0.9889    0.9687       360\n",
      "   pituitary     0.9875    0.9547    0.9708       331\n",
      "\n",
      "    accuracy                         0.9598      1244\n",
      "   macro avg     0.9598    0.9584    0.9589      1244\n",
      "weighted avg     0.9601    0.9598    0.9598      1244\n",
      "\n",
      "---------------\n",
      "\n",
      "Epoch 24/25\n",
      "---------------\n",
      "--- Training Phase ---\n"
     ]
    },
    {
     "data": {
      "application/vnd.jupyter.widget-view+json": {
       "model_id": "09995ab2aab2454a86d82ead44fd7e8f",
       "version_major": 2,
       "version_minor": 0
      },
      "text/plain": [
       "Train Progress:   0%|          | 0/156 [00:00<?, ?it/s]"
      ]
     },
     "metadata": {},
     "output_type": "display_data"
    },
    {
     "name": "stderr",
     "output_type": "stream",
     "text": [
      "/tmp/ipykernel_20014/2142746445.py:46: FutureWarning: `torch.cuda.amp.autocast(args...)` is deprecated. Please use `torch.amp.autocast('cuda', args...)` instead.\n",
      "  with autocast(enabled=(DEVICE.type == 'cuda')):\n"
     ]
    },
    {
     "name": "stdout",
     "output_type": "stream",
     "text": [
      "Train Epoch Loss: 0.0926 Acc: 0.9697\n",
      "\n",
      "--- Validation Phase ---\n"
     ]
    },
    {
     "data": {
      "application/vnd.jupyter.widget-view+json": {
       "model_id": "ec5e243d8de542ec883bfdf61187546c",
       "version_major": 2,
       "version_minor": 0
      },
      "text/plain": [
       "Val Progress:   0%|          | 0/39 [00:00<?, ?it/s]"
      ]
     },
     "metadata": {},
     "output_type": "display_data"
    },
    {
     "name": "stdout",
     "output_type": "stream",
     "text": [
      "Val Epoch Loss: 0.1091 Acc: 0.9678\n",
      "\n",
      "Calculating Validation Performance Metrics...\n",
      "\n",
      "Confusion Matrix:\n",
      "True\\Pred          glioma meningioma    notumor  pituitary\n",
      "----------------------------------------------------------\n",
      "glioma                253          3          3          0\n",
      "meningioma             10        275          5          4\n",
      "notumor                 3          4        353          0\n",
      "pituitary               0          7          1        323\n",
      "----------------------------------------------------------\n",
      "\n",
      "Classification Report (includes Precision, Recall, F1-Score):\n",
      "              precision    recall  f1-score   support\n",
      "\n",
      "      glioma     0.9511    0.9768    0.9638       259\n",
      "  meningioma     0.9516    0.9354    0.9434       294\n",
      "     notumor     0.9751    0.9806    0.9778       360\n",
      "   pituitary     0.9878    0.9758    0.9818       331\n",
      "\n",
      "    accuracy                         0.9678      1244\n",
      "   macro avg     0.9664    0.9671    0.9667      1244\n",
      "weighted avg     0.9679    0.9678    0.9678      1244\n",
      "\n",
      "---------------\n",
      "** New Best Validation Accuracy: 0.9678 -> Saving model weights... **\n",
      "\n",
      "Epoch 25/25\n",
      "---------------\n",
      "--- Training Phase ---\n"
     ]
    },
    {
     "data": {
      "application/vnd.jupyter.widget-view+json": {
       "model_id": "01d50093cd2d4756af1581a94e934293",
       "version_major": 2,
       "version_minor": 0
      },
      "text/plain": [
       "Train Progress:   0%|          | 0/156 [00:00<?, ?it/s]"
      ]
     },
     "metadata": {},
     "output_type": "display_data"
    },
    {
     "name": "stderr",
     "output_type": "stream",
     "text": [
      "/tmp/ipykernel_20014/2142746445.py:46: FutureWarning: `torch.cuda.amp.autocast(args...)` is deprecated. Please use `torch.amp.autocast('cuda', args...)` instead.\n",
      "  with autocast(enabled=(DEVICE.type == 'cuda')):\n"
     ]
    },
    {
     "name": "stdout",
     "output_type": "stream",
     "text": [
      "Train Epoch Loss: 0.0808 Acc: 0.9717\n",
      "\n",
      "--- Validation Phase ---\n"
     ]
    },
    {
     "data": {
      "application/vnd.jupyter.widget-view+json": {
       "model_id": "c27cf6b0ac9b492b90347456061f9b61",
       "version_major": 2,
       "version_minor": 0
      },
      "text/plain": [
       "Val Progress:   0%|          | 0/39 [00:00<?, ?it/s]"
      ]
     },
     "metadata": {},
     "output_type": "display_data"
    },
    {
     "name": "stdout",
     "output_type": "stream",
     "text": [
      "Val Epoch Loss: 0.1165 Acc: 0.9646\n",
      "\n",
      "Calculating Validation Performance Metrics...\n",
      "\n",
      "Confusion Matrix:\n",
      "True\\Pred          glioma meningioma    notumor  pituitary\n",
      "----------------------------------------------------------\n",
      "glioma                246          4          9          0\n",
      "meningioma              6        273         10          5\n",
      "notumor                 2          1        357          0\n",
      "pituitary               0          4          3        324\n",
      "----------------------------------------------------------\n",
      "\n",
      "Classification Report (includes Precision, Recall, F1-Score):\n",
      "              precision    recall  f1-score   support\n",
      "\n",
      "      glioma     0.9685    0.9498    0.9591       259\n",
      "  meningioma     0.9681    0.9286    0.9479       294\n",
      "     notumor     0.9420    0.9917    0.9662       360\n",
      "   pituitary     0.9848    0.9789    0.9818       331\n",
      "\n",
      "    accuracy                         0.9646      1244\n",
      "   macro avg     0.9658    0.9622    0.9637      1244\n",
      "weighted avg     0.9651    0.9646    0.9645      1244\n",
      "\n",
      "---------------\n",
      "\n",
      "Training complete in 7m 18s\n",
      "Best Validation Accuracy achieved: 0.9678\n",
      "Loading best model weights...\n"
     ]
    },
    {
     "data": {
      "text/plain": [
       "<All keys matched successfully>"
      ]
     },
     "execution_count": 18,
     "metadata": {},
     "output_type": "execute_result"
    }
   ],
   "source": [
    "\n",
    "print(\"\\nStarting training and validation loop...\")\n",
    "start_time = time.time()\n",
    "\n",
    "\n",
    "best_model_wts = copy.deepcopy(model.state_dict())\n",
    "best_acc = 0.0\n",
    "history = {'train_loss': [], 'train_acc': [], 'val_loss': [], 'val_acc': []}\n",
    "\n",
    "for epoch in range(NUM_EPOCHS):\n",
    "    print(f'\\nEpoch {epoch+1}/{NUM_EPOCHS}')\n",
    "    print('-' * 15)\n",
    "\n",
    "  \n",
    "    for phase in ['train', 'val']:\n",
    "        if phase == 'train':\n",
    "            model.train()  \n",
    "            print(\"--- Training Phase ---\")\n",
    "        else:\n",
    "            model.eval()   \n",
    "            print(\"\\n--- Validation Phase ---\")\n",
    "            all_preds_val = []\n",
    "            all_labels_val = []\n",
    "\n",
    "        running_loss = 0.0\n",
    "        running_corrects = 0\n",
    "\n",
    "        dataloader = dataloaders[phase]\n",
    "        batch_num = 0\n",
    "        num_batches = len(dataloader)\n",
    "\n",
    "        for inputs, labels in tqdm(dataloader, desc=f\"{phase.capitalize()} Progress\", leave=False):\n",
    "            batch_num += 1\n",
    "            inputs = inputs.to(DEVICE, non_blocking=pin_memory) \n",
    "            labels = labels.to(DEVICE, non_blocking=pin_memory)\n",
    "\n",
    "            optimizer.zero_grad(set_to_none=True) \n",
    "\n",
    "            with torch.set_grad_enabled(phase == 'train'):\n",
    "                with autocast(enabled=(DEVICE.type == 'cuda')):\n",
    "                    outputs = model(inputs)\n",
    "                    _, preds = torch.max(outputs, 1) \n",
    "                    loss = criterion(outputs, labels)\n",
    "\n",
    "                    if phase == 'train':\n",
    "                        \n",
    "                        if torch.isnan(loss):\n",
    "                            print(f\"WARNING: NaN loss detected at epoch {epoch+1}, batch {batch_num}/{num_batches} ({phase}). Skipping batch gradient update.\")\n",
    "                            continue \n",
    "\n",
    "                        scaler.scale(loss).backward()\n",
    "\n",
    "                        scaler.step(optimizer)\n",
    "\n",
    "                        scaler.update()\n",
    "\n",
    "            batch_loss = loss.item()\n",
    "            batch_corrects = torch.sum(preds == labels.data).item()\n",
    "\n",
    "            running_loss += batch_loss * inputs.size(0)\n",
    "            running_corrects += batch_corrects\n",
    "\n",
    "            if phase == 'val':\n",
    "                all_preds_val.extend(preds.cpu().numpy())\n",
    "                all_labels_val.extend(labels.cpu().numpy())\n",
    "\n",
    "\n",
    "\n",
    "\n",
    "        epoch_loss = running_loss / dataset_sizes[phase]\n",
    "        epoch_acc = running_corrects / dataset_sizes[phase] # This is overall epoch accuracy\n",
    "\n",
    "        history[f'{phase}_loss'].append(epoch_loss)\n",
    "        history[f'{phase}_acc'].append(epoch_acc) # Save overall accuracy\n",
    "\n",
    "        print(f'{phase.capitalize()} Epoch Loss: {epoch_loss:.4f} Acc: {epoch_acc:.4f}')\n",
    "\n",
    "        # --- Validation Phase Specific Actions ---\n",
    "        if phase == 'val':\n",
    "            # Step the scheduler based on validation loss (for ReduceLROnPlateau)\n",
    "            if isinstance(scheduler, torch.optim.lr_scheduler.ReduceLROnPlateau):\n",
    "                 scheduler.step(epoch_loss)\n",
    "            # Step other types of schedulers if used and needed here\n",
    "            # elif isinstance(scheduler, torch.optim.lr_scheduler.StepLR):\n",
    "            #      scheduler.step()\n",
    "\n",
    "            # --- Detailed Validation Performance Metrics ---\n",
    "            print(\"\\nCalculating Validation Performance Metrics...\")\n",
    "            try:\n",
    "                # Use DETECTED_CLASSES obtained during data loading\n",
    "                # classification_report includes Precision, Recall, F1-score, and Support per class\n",
    "                # It also includes overall accuracy and macro/weighted averages for P, R, F1.\n",
    "                report = classification_report(all_labels_val, all_preds_val, target_names=DETECTED_CLASSES, digits=4, zero_division=0)\n",
    "                cm = confusion_matrix(all_labels_val, all_preds_val)\n",
    "\n",
    "                print(\"\\nConfusion Matrix:\")\n",
    "                # Pretty print confusion matrix\n",
    "                header = f\"{'True\\\\Pred':<15}\" + \" \".join([f\"{cls[:10]:>10}\" for cls in DETECTED_CLASSES])\n",
    "                print(header)\n",
    "                print('-' * len(header))\n",
    "                for i, row in enumerate(cm):\n",
    "                    print(f\"{DETECTED_CLASSES[i][:10]:<15}\" + \" \".join([f\"{val:>10}\" for val in row]))\n",
    "                print('-' * len(header))\n",
    "\n",
    "                # Print the main performance report\n",
    "                print(\"\\nClassification Report (includes Precision, Recall, F1-Score):\")\n",
    "                print(report) # This report contains the requested metrics\n",
    "\n",
    "            except NameError:\n",
    "                 print(\"WARNING: Could not calculate sklearn metrics. `DETECTED_CLASSES` not found. Was data loaded correctly?\")\n",
    "            except Exception as e:\n",
    "                print(f\"WARNING: Could not calculate sklearn metrics: {e}\")\n",
    "            print(\"-\" * 15)\n",
    "\n",
    "            # --- Save Best Model ---\n",
    "            # Deep copy the model weights if validation accuracy is the best we've seen so far\n",
    "            if epoch_acc > best_acc:\n",
    "                best_acc = epoch_acc\n",
    "                best_model_wts = copy.deepcopy(model.state_dict())\n",
    "                print(f'** New Best Validation Accuracy: {best_acc:.4f} -> Saving model weights... **')\n",
    "                # Save immediately in case of interruption (optional, but safer)\n",
    "                # torch.save(best_model_wts, MODEL_SAVE_PATH)\n",
    "                # print(f\"   Best model weights temporarily saved to {MODEL_SAVE_PATH}\")\n",
    "\n",
    "    # Step StepLR scheduler if used (after validation phase)\n",
    "    # if isinstance(scheduler, torch.optim.lr_scheduler.StepLR):\n",
    "    #      scheduler.step()\n",
    "\n",
    "\n",
    "# --- Training Complete ---\n",
    "# Performance (Time)\n",
    "time_elapsed = time.time() - start_time\n",
    "print(f'\\nTraining complete in {time_elapsed // 60:.0f}m {time_elapsed % 60:.0f}s')\n",
    "# Performance (Best Accuracy)\n",
    "print(f'Best Validation Accuracy achieved: {best_acc:.4f}')\n",
    "\n",
    "# Load best model weights back into the model object for final saving\n",
    "print(\"Loading best model weights...\")\n",
    "model.load_state_dict(best_model_wts)"
   ]
  },
  {
   "cell_type": "code",
   "execution_count": 19,
   "metadata": {
    "trusted": true
   },
   "outputs": [
    {
     "name": "stdout",
     "output_type": "stream",
     "text": [
      "\n",
      "Best model weights (Val Acc: 0.9678) successfully saved to:\n",
      "/home/theodor/code/facultate/anul3_sem2/daria_proiect/resnet50_tumor_classifier_best_val_acc.pth\n",
      "This file contains the learned parameters and can be loaded for inference later.\n"
     ]
    }
   ],
   "source": [
    "# %%\n",
    "# Save the state dictionary of the best performing model (based on validation accuracy)\n",
    "try:\n",
    "    torch.save(model.state_dict(), MODEL_SAVE_PATH)\n",
    "    print(f\"\\nBest model weights (Val Acc: {best_acc:.4f}) successfully saved to:\\n{os.path.abspath(MODEL_SAVE_PATH)}\")\n",
    "    print(\"This file contains the learned parameters and can be loaded for inference later.\")\n",
    "except Exception as e:\n",
    "    print(f\"\\nERROR: Failed to save model weights to {MODEL_SAVE_PATH}: {e}\")"
   ]
  },
  {
   "cell_type": "code",
   "execution_count": 20,
   "metadata": {
    "trusted": true
   },
   "outputs": [
    {
     "name": "stdout",
     "output_type": "stream",
     "text": [
      "\n",
      "Plotting training and validation history...\n"
     ]
    },
    {
     "data": {
      "image/png": "[encoded data removed]",
      "text/plain": [
       "<Figure size 1200x500 with 2 Axes>"
      ]
     },
     "metadata": {},
     "output_type": "display_data"
    }
   ],
   "source": [
    "# %%\n",
    "print(\"\\nPlotting training and validation history...\")\n",
    "\n",
    "try:\n",
    "    epochs_range = range(1, NUM_EPOCHS + 1) # Ensure x-axis matches epochs run\n",
    "\n",
    "    plt.figure(figsize=(12, 5))\n",
    "\n",
    "    # Plot Loss\n",
    "    plt.subplot(1, 2, 1)\n",
    "    if history['train_loss'] and history['val_loss']: # Check if history has data\n",
    "        plt.plot(epochs_range, history['train_loss'], marker='o', linestyle='-', label='Training Loss')\n",
    "        plt.plot(epochs_range, history['val_loss'], marker='o', linestyle='-', label='Validation Loss')\n",
    "        plt.xlabel('Epoch')\n",
    "        plt.ylabel('Loss')\n",
    "        plt.title('Training and Validation Loss')\n",
    "        plt.legend()\n",
    "        plt.grid(True)\n",
    "    else:\n",
    "        plt.text(0.5, 0.5, 'No loss data to plot.', ha='center', va='center')\n",
    "\n",
    "\n",
    "    # Plot Accuracy\n",
    "    plt.subplot(1, 2, 2)\n",
    "    if history['train_acc'] and history['val_acc']: # Check if history has data\n",
    "        plt.plot(epochs_range, history['train_acc'], marker='o', linestyle='-', label='Training Accuracy')\n",
    "        plt.plot(epochs_range, history['val_acc'], marker='o', linestyle='-', label='Validation Accuracy')\n",
    "        plt.xlabel('Epoch')\n",
    "        plt.ylabel('Accuracy')\n",
    "        plt.title('Training and Validation Accuracy')\n",
    "        plt.legend()\n",
    "        plt.grid(True)\n",
    "        plt.ylim(0, 1.05) # Set y-axis limit for accuracy (0 to 1)\n",
    "    else:\n",
    "        plt.text(0.5, 0.5, 'No accuracy data to plot.', ha='center', va='center')\n",
    "\n",
    "\n",
    "    plt.tight_layout()\n",
    "    plt.show()\n",
    "except Exception as e:\n",
    "     print(f\"Could not plot history: {e}\")"
   ]
  },
  {
   "cell_type": "code",
   "execution_count": null,
   "metadata": {},
   "outputs": [],
   "source": []
  }
 ],
 "metadata": {
  "kaggle": {
   "accelerator": "none",
   "dataSources": [],
   "isGpuEnabled": false,
   "isInternetEnabled": false,
   "language": "python",
   "sourceType": "notebook"
  },
  "kernelspec": {
   "display_name": "myvenv",
   "language": "python",
   "name": "python3"
  },
  "language_info": {
   "codemirror_mode": {
    "name": "ipython",
    "version": 3
   },
   "file_extension": ".py",
   "mimetype": "text/x-python",
   "name": "python",
   "nbconvert_exporter": "python",
   "pygments_lexer": "ipython3",
   "version": "3.12.3"
  }
 },
 "nbformat": 4,
 "nbformat_minor": 4
}
