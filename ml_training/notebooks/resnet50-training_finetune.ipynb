{
 "cells": [
  {
   "cell_type": "code",
   "execution_count": 8,
   "metadata": {
    "_cell_guid": "b1076dfc-b9ad-4769-8c92-a6c4dae69d19",
    "_uuid": "8f2839f25d086af736a60e9eeb907d3b93b6e0e5",
    "trusted": true
   },
   "outputs": [
    {
     "name": "stdout",
     "output_type": "stream",
     "text": [
      "Libraries imported.\n"
     ]
    }
   ],
   "source": [
    "# %%\n",
    "import torch\n",
    "import torch.nn as nn\n",
    "import torch.optim as optim\n",
    "from torchvision import datasets, transforms, models\n",
    "from torchvision.models import ResNet50_Weights # Use recommended weights enum\n",
    "from torch.utils.data import DataLoader, random_split, Subset\n",
    "from sklearn.metrics import classification_report, confusion_matrix\n",
    "from torch.cuda.amp import GradScaler, autocast # For mixed precision\n",
    "import numpy as np\n",
    "import cv2\n",
    "import os\n",
    "import imutils # Ensure installed: pip install imutils\n",
    "from tqdm.notebook import tqdm # Progress bars for Jupyter\n",
    "import time\n",
    "import copy\n",
    "import matplotlib.pyplot as plt\n",
    "\n",
    "print(\"Libraries imported.\")"
   ]
  },
  {
   "cell_type": "code",
   "execution_count": 9,
   "metadata": {
    "trusted": true
   },
   "outputs": [
    {
     "name": "stdout",
     "output_type": "stream",
     "text": [
      "Using device: cuda:0\n",
      "cuDNN Benchmark enabled.\n",
      "Configuration set.\n"
     ]
    }
   ],
   "source": [
    "# %%\n",
    "# --- Directories ---\n",
    "# Assumes your original data is in './Training/class1', './Training/class2', etc.\n",
    "# Modify if your structure is different (e.g., '/kaggle/input/your_dataset/Training')\n",
    "INPUT_TRAIN_DIR = './Training' # <--- Point this to your ORIGINAL training data directory\n",
    "\n",
    "# Directory where preprocessed images will be saved\n",
    "OUTPUT_PREPROC_DIR = './Training_preproc'\n",
    "\n",
    "# --- Preprocessing Parameters ---\n",
    "# Target size for images AFTER preprocessing and BEFORE transforms\n",
    "# Should match the input size expected by the model\n",
    "IMG_SIZE = 224\n",
    "\n",
    "# --- Model & Training Parameters ---\n",
    "NUM_CLASSES = 4       # Adjust based on your dataset (glioma, meningioma, notumor, pituitary)\n",
    "BATCH_SIZE = 32\n",
    "NUM_EPOCHS = 25       # Adjust as needed\n",
    "LEARNING_RATE = 0.001\n",
    "VAL_SPLIT = 0.2       # 20% of the data for validation\n",
    "\n",
    "# --- Device Setup ---\n",
    "DEVICE = torch.device(\"cuda:0\" if torch.cuda.is_available() else \"cpu\")\n",
    "print(f\"Using device: {DEVICE}\")\n",
    "\n",
    "# Enable cuDNN benchmark for potential speedup on GPU\n",
    "if torch.cuda.is_available():\n",
    "    torch.backends.cudnn.benchmark = True\n",
    "    print(\"cuDNN Benchmark enabled.\")\n",
    "\n",
    "# --- Model Saving ---\n",
    "MODEL_SAVE_PATH = 'resnet50_tumor_classifier_best_val_acc.pth'\n",
    "\n",
    "# --- Reproducibility ---\n",
    "SEED = 42\n",
    "np.random.seed(SEED)\n",
    "torch.manual_seed(SEED)\n",
    "if torch.cuda.is_available():\n",
    "    torch.cuda.manual_seed(SEED)\n",
    "\n",
    "print(\"Configuration set.\")"
   ]
  },
  {
   "cell_type": "code",
   "execution_count": 10,
   "metadata": {
    "trusted": true
   },
   "outputs": [
    {
     "name": "stdout",
     "output_type": "stream",
     "text": [
      "\n",
      "Starting preprocessing...\n",
      "Input directory: ./Training\n",
      "Output directory: ./Training_preproc\n",
      "Target image size: 224x224\n",
      "\n",
      "Processing dataset type: Training\n",
      "Found class subdirectories: ['notumor', 'glioma', 'pituitary', 'meningioma']\n"
     ]
    },
    {
     "data": {
      "application/vnd.jupyter.widget-view+json": {
       "model_id": "f433f5ea42f94379b3c32dd497a5bc68",
       "version_major": 2,
       "version_minor": 0
      },
      "text/plain": [
       "Processing classes in Training:   0%|          | 0/4 [00:00<?, ?it/s]"
      ]
     },
     "metadata": {},
     "output_type": "display_data"
    },
    {
     "name": "stdout",
     "output_type": "stream",
     "text": [
      "Created output directory: ./Training_preproc/Training/notumor\n"
     ]
    },
    {
     "data": {
      "application/vnd.jupyter.widget-view+json": {
       "model_id": "033cea14ae61464e82be407a5f582ecf",
       "version_major": 2,
       "version_minor": 0
      },
      "text/plain": [
       "  Processing images in notumor:   0%|          | 0/1745 [00:00<?, ?it/s]"
      ]
     },
     "metadata": {},
     "output_type": "display_data"
    },
    {
     "name": "stdout",
     "output_type": "stream",
     "text": [
      "  Finished class notumor: Processed=1745, Skipped/Errors=0\n",
      "Created output directory: ./Training_preproc/Training/glioma\n"
     ]
    },
    {
     "data": {
      "application/vnd.jupyter.widget-view+json": {
       "model_id": "43d809fb6fba4c398f129a4db58205f6",
       "version_major": 2,
       "version_minor": 0
      },
      "text/plain": [
       "  Processing images in glioma:   0%|          | 0/1441 [00:00<?, ?it/s]"
      ]
     },
     "metadata": {},
     "output_type": "display_data"
    },
    {
     "name": "stdout",
     "output_type": "stream",
     "text": [
      "  Finished class glioma: Processed=1441, Skipped/Errors=0\n",
      "Created output directory: ./Training_preproc/Training/pituitary\n"
     ]
    },
    {
     "data": {
      "application/vnd.jupyter.widget-view+json": {
       "model_id": "56ea7d3c6fe341969141c2081cefc76a",
       "version_major": 2,
       "version_minor": 0
      },
      "text/plain": [
       "  Processing images in pituitary:   0%|          | 0/1577 [00:00<?, ?it/s]"
      ]
     },
     "metadata": {},
     "output_type": "display_data"
    },
    {
     "name": "stdout",
     "output_type": "stream",
     "text": [
      "  Finished class pituitary: Processed=1577, Skipped/Errors=0\n",
      "Created output directory: ./Training_preproc/Training/meningioma\n"
     ]
    },
    {
     "data": {
      "application/vnd.jupyter.widget-view+json": {
       "model_id": "b092c26b2aaa42abbba20212494412b9",
       "version_major": 2,
       "version_minor": 0
      },
      "text/plain": [
       "  Processing images in meningioma:   0%|          | 0/1459 [00:00<?, ?it/s]"
      ]
     },
     "metadata": {},
     "output_type": "display_data"
    },
    {
     "name": "stdout",
     "output_type": "stream",
     "text": [
      "  Finished class meningioma: Processed=1459, Skipped/Errors=0\n",
      "\n",
      "Preprocessing for 'Training' complete. Processed images saved to: ./Training_preproc/Training\n"
     ]
    }
   ],
   "source": [
    "# %%\n",
    "# --- Define the Cropping Function (from original notebook) ---\n",
    "def crop_img(img, target_size):\n",
    "    \"\"\"\n",
    "    Finds the presumed tumor area based on contours, crops, and resizes the image.\n",
    "    Handles grayscale, color, and alpha channel images.\n",
    "    Returns None if cropping or resizing fails critically.\n",
    "    \"\"\"\n",
    "    # Input validation\n",
    "    if img is None:\n",
    "        print(\"Warning: crop_img received a None image.\")\n",
    "        return None\n",
    "    if not isinstance(img, np.ndarray) or img.ndim < 2:\n",
    "         print(f\"Warning: crop_img received invalid image data type/dims: {type(img)}, ndim={img.ndim if isinstance(img, np.ndarray) else 'N/A'}\")\n",
    "         return None\n",
    "    if img.shape[0] <= 0 or img.shape[1] <= 0:\n",
    "        print(f\"Warning: crop_img received image with invalid dimensions: {img.shape}\")\n",
    "        return None\n",
    "\n",
    "    # Ensure image is BGR\n",
    "    if len(img.shape) == 2 or img.shape[2] == 1: # Grayscale\n",
    "        img_bgr = cv2.cvtColor(img, cv2.COLOR_GRAY2BGR)\n",
    "    elif img.shape[2] == 4: # BGRA\n",
    "        img_bgr = cv2.cvtColor(img, cv2.COLOR_BGRA2BGR)\n",
    "    elif img.shape[2] == 3: # BGR\n",
    "        img_bgr = img\n",
    "    else:\n",
    "        print(f\"Warning: Unsupported number of channels ({img.shape[2]}) in image. Cannot process.\")\n",
    "        # Fallback: Resize original image if dimensions are valid\n",
    "        try:\n",
    "            return cv2.resize(img, (target_size, target_size))\n",
    "        except Exception as e:\n",
    "            print(f\"  Fallback resize also failed: {e}\")\n",
    "            return None\n",
    "\n",
    "\n",
    "    gray = cv2.cvtColor(img_bgr, cv2.COLOR_BGR2GRAY)\n",
    "    gray = cv2.GaussianBlur(gray, (5, 5), 0)\n",
    "\n",
    "    # Thresholding\n",
    "    thresh = cv2.threshold(gray, 45, 255, cv2.THRESH_BINARY)[1]\n",
    "    thresh = cv2.erode(thresh, None, iterations=2)\n",
    "    thresh = cv2.dilate(thresh, None, iterations=2)\n",
    "\n",
    "    # Find contours\n",
    "    cnts = cv2.findContours(thresh.copy(), cv2.RETR_EXTERNAL, cv2.CHAIN_APPROX_SIMPLE)\n",
    "    cnts = imutils.grab_contours(cnts)\n",
    "\n",
    "    # Fallback: If no contours, resize the original BGR image\n",
    "    if not cnts:\n",
    "        print(\"Warning: No contours found. Resizing original image.\")\n",
    "        try:\n",
    "            return cv2.resize(img_bgr, (target_size, target_size))\n",
    "        except Exception as e:\n",
    "             print(f\"  Fallback resize failed for no-contour image: {e}\")\n",
    "             return None # Indicate failure\n",
    "\n",
    "    # Find the largest contour and its bounding box\n",
    "    c = max(cnts, key=cv2.contourArea)\n",
    "    extLeft = tuple(c[c[:, :, 0].argmin()][0])\n",
    "    extRight = tuple(c[c[:, :, 0].argmax()][0])\n",
    "    extTop = tuple(c[c[:, :, 1].argmin()][0])\n",
    "    extBot = tuple(c[c[:, :, 1].argmax()][0])\n",
    "\n",
    "    # Crop using bounding box coordinates (with bounds checking)\n",
    "    ADD_PIXELS = 0 # Optional buffer\n",
    "    top = max(0, extTop[1] - ADD_PIXELS)\n",
    "    bottom = min(img_bgr.shape[0], extBot[1] + ADD_PIXELS)\n",
    "    left = max(0, extLeft[0] - ADD_PIXELS)\n",
    "    right = min(img_bgr.shape[1], extRight[0] + ADD_PIXELS)\n",
    "\n",
    "    # Validate crop dimensions\n",
    "    if top >= bottom or left >= right:\n",
    "        print(f\"Warning: Invalid crop dimensions calculated ({top}:{bottom}, {left}:{right}). Resizing original image.\")\n",
    "        try:\n",
    "            return cv2.resize(img_bgr, (target_size, target_size))\n",
    "        except Exception as e:\n",
    "             print(f\"  Fallback resize failed for invalid crop dims: {e}\")\n",
    "             return None # Indicate failure\n",
    "\n",
    "    cropped_img = img_bgr[top:bottom, left:right].copy()\n",
    "\n",
    "    # Final resize of the cropped image\n",
    "    try:\n",
    "        resized_img = cv2.resize(cropped_img, (target_size, target_size))\n",
    "        return resized_img\n",
    "    except Exception as e:\n",
    "        print(f\"Error resizing cropped image: {e}. Image shape was {cropped_img.shape}\")\n",
    "        # Attempt to resize original as last resort\n",
    "        try:\n",
    "             print(\"  Attempting resize of original image instead.\")\n",
    "             return cv2.resize(img_bgr, (target_size, target_size))\n",
    "        except Exception as e_orig:\n",
    "             print(f\"    Resize of original image also failed: {e_orig}\")\n",
    "             return None # Indicate critical failure\n",
    "\n",
    "\n",
    "# --- Main Preprocessing Logic ---\n",
    "print(f\"\\nStarting preprocessing...\")\n",
    "print(f\"Input directory: {INPUT_TRAIN_DIR}\")\n",
    "print(f\"Output directory: {OUTPUT_PREPROC_DIR}\")\n",
    "print(f\"Target image size: {IMG_SIZE}x{IMG_SIZE}\")\n",
    "\n",
    "# We only process the 'Training' data as per the request focus\n",
    "dataset_type = 'Training' # Focus only on training data for train/val split later\n",
    "input_dir_path = INPUT_TRAIN_DIR # Use the base training dir\n",
    "output_dir_path_base = os.path.join(OUTPUT_PREPROC_DIR, dataset_type)\n",
    "\n",
    "print(f\"\\nProcessing dataset type: {dataset_type}\")\n",
    "if not os.path.isdir(input_dir_path):\n",
    "    print(f\"ERROR: Input directory not found: {input_dir_path}. Please check the INPUT_TRAIN_DIR path.\")\n",
    "    # Optional: raise an error here if needed\n",
    "    # raise FileNotFoundError(f\"Input directory not found: {input_dir_path}\")\n",
    "else:\n",
    "    sub_dirs = [d for d in os.listdir(input_dir_path) if os.path.isdir(os.path.join(input_dir_path, d))]\n",
    "    if not sub_dirs:\n",
    "         print(f\"ERROR: No class subdirectories found in {input_dir_path}.\")\n",
    "         # Optional: raise an error\n",
    "    else:\n",
    "        print(f\"Found class subdirectories: {sub_dirs}\")\n",
    "\n",
    "        for class_dir in tqdm(sub_dirs, desc=f\"Processing classes in {dataset_type}\"):\n",
    "            input_class_path = os.path.join(input_dir_path, class_dir)\n",
    "            output_class_path = os.path.join(output_dir_path_base, class_dir)\n",
    "\n",
    "            if not os.path.exists(output_class_path):\n",
    "                os.makedirs(output_class_path)\n",
    "                print(f\"Created output directory: {output_class_path}\")\n",
    "\n",
    "            image_files = [f for f in os.listdir(input_class_path) if os.path.isfile(os.path.join(input_class_path, f))]\n",
    "\n",
    "            num_processed = 0\n",
    "            num_skipped = 0\n",
    "            for img_file in tqdm(image_files, desc=f\"  Processing images in {class_dir}\", leave=False):\n",
    "                input_img_path = os.path.join(input_class_path, img_file)\n",
    "                output_img_path = os.path.join(output_class_path, img_file)\n",
    "\n",
    "                # Optional: Skip if already processed\n",
    "                # if os.path.exists(output_img_path):\n",
    "                #    continue\n",
    "\n",
    "                try:\n",
    "                    image = cv2.imread(input_img_path)\n",
    "                    if image is None:\n",
    "                        print(f\"Warning: Could not read image {input_img_path}. Skipping.\")\n",
    "                        num_skipped += 1\n",
    "                        continue\n",
    "\n",
    "                    # Crop and resize\n",
    "                    processed_img = crop_img(image, IMG_SIZE)\n",
    "\n",
    "                    if processed_img is None:\n",
    "                         print(f\"Warning: Preprocessing failed for image {input_img_path}. Skipping save.\")\n",
    "                         num_skipped += 1\n",
    "                         continue\n",
    "\n",
    "                    # Save the processed image\n",
    "                    success = cv2.imwrite(output_img_path, processed_img)\n",
    "                    if not success:\n",
    "                        print(f\"Warning: Failed to write processed image to {output_img_path}. Skipping.\")\n",
    "                        num_skipped += 1\n",
    "                    else:\n",
    "                         num_processed += 1\n",
    "\n",
    "                except Exception as e:\n",
    "                    print(f\"Error processing image {input_img_path}: {e}\")\n",
    "                    num_skipped += 1\n",
    "            print(f\"  Finished class {class_dir}: Processed={num_processed}, Skipped/Errors={num_skipped}\")\n",
    "\n",
    "    print(f\"\\nPreprocessing for '{dataset_type}' complete. Processed images saved to: {output_dir_path_base}\")"
   ]
  },
  {
   "cell_type": "code",
   "execution_count": 11,
   "metadata": {
    "trusted": true
   },
   "outputs": [
    {
     "name": "stdout",
     "output_type": "stream",
     "text": [
      "Training and Validation data transforms defined.\n"
     ]
    }
   ],
   "source": [
    "# %%\n",
    "# Define transforms for training (with augmentation) and validation (no augmentation)\n",
    "# Using ImageNet mean and std is standard practice for pre-trained models\n",
    "imagenet_mean = [0.485, 0.456, 0.406]\n",
    "imagenet_std = [0.229, 0.224, 0.225]\n",
    "\n",
    "data_transforms = {\n",
    "    'train': transforms.Compose([\n",
    "        # Augmentations\n",
    "        transforms.RandomResizedCrop(IMG_SIZE, scale=(0.8, 1.0)), # Crop a random portion and resize\n",
    "        transforms.RandomHorizontalFlip(),\n",
    "        transforms.RandomRotation(15),\n",
    "        transforms.ColorJitter(brightness=0.2, contrast=0.2, saturation=0.1, hue=0.1),\n",
    "        # Basic Preprocessing\n",
    "        transforms.ToTensor(), # Convert PIL Image to tensor\n",
    "        transforms.Normalize(imagenet_mean, imagenet_std) # Normalize with ImageNet stats\n",
    "    ]),\n",
    "    'val': transforms.Compose([\n",
    "        # Validation: Only resize, center crop, and normalize\n",
    "        transforms.Resize(IMG_SIZE + 32), # Resize slightly larger than target\n",
    "        transforms.CenterCrop(IMG_SIZE), # Crop the center to target size\n",
    "        transforms.ToTensor(),\n",
    "        transforms.Normalize(imagenet_mean, imagenet_std)\n",
    "    ])\n",
    "}\n",
    "\n",
    "print(\"Training and Validation data transforms defined.\")"
   ]
  },
  {
   "cell_type": "code",
   "execution_count": 12,
   "metadata": {
    "trusted": true
   },
   "outputs": [
    {
     "name": "stdout",
     "output_type": "stream",
     "text": [
      "Loading data from PREPROCESSED directory: ./Training_preproc/Training\n",
      "Successfully loaded PREPROCESSED dataset structure.\n",
      "Total images found: 6222\n",
      "Classes detected: ['glioma', 'meningioma', 'notumor', 'pituitary']\n",
      "Class to index mapping: {'glioma': 0, 'meningioma': 1, 'notumor': 2, 'pituitary': 3}\n",
      "\n",
      "Splitting dataset:\n",
      "  Total samples: 6222\n",
      "  Training samples: 4978\n",
      "  Validation samples: 1244\n",
      "\n",
      "DataLoaders created for training and validation.\n",
      "Using num_workers=6, pin_memory=True\n"
     ]
    }
   ],
   "source": [
    "# %%\n",
    "# --- Load Data Using the PREPROCESSED Path ---\n",
    "# This is the directory created by the preprocessing step\n",
    "PREPROCESSED_TRAIN_DATA_DIR = os.path.join(OUTPUT_PREPROC_DIR, 'Training')\n",
    "\n",
    "print(f\"Loading data from PREPROCESSED directory: {PREPROCESSED_TRAIN_DATA_DIR}\")\n",
    "\n",
    "# We need TWO dataset instances pointing to the SAME preprocessed data,\n",
    "# but applying DIFFERENT transforms.\n",
    "try:\n",
    "    # Dataset instance for applying TRAINING transforms\n",
    "    full_dataset_train_transforms = datasets.ImageFolder(PREPROCESSED_TRAIN_DATA_DIR,\n",
    "                                                        transform=data_transforms['train'])\n",
    "\n",
    "    # Dataset instance for applying VALIDATION transforms\n",
    "    full_dataset_val_transforms = datasets.ImageFolder(PREPROCESSED_TRAIN_DATA_DIR,\n",
    "                                                      transform=data_transforms['val'])\n",
    "\n",
    "    print(f\"Successfully loaded PREPROCESSED dataset structure.\")\n",
    "    print(f\"Total images found: {len(full_dataset_train_transforms)}\") # Length should be the same\n",
    "\n",
    "    # Get class names and mapping - crucial for metrics and model output layer\n",
    "    DETECTED_CLASSES = full_dataset_train_transforms.classes\n",
    "    CLASS_TO_IDX = full_dataset_train_transforms.class_to_idx\n",
    "    IDX_TO_CLASS = {v: k for k, v in CLASS_TO_IDX.items()}\n",
    "    print(f\"Classes detected: {DETECTED_CLASSES}\")\n",
    "    print(f\"Class to index mapping: {CLASS_TO_IDX}\")\n",
    "\n",
    "    # Verify NUM_CLASSES matches detected classes\n",
    "    if NUM_CLASSES != len(DETECTED_CLASSES):\n",
    "         print(f\"WARNING: NUM_CLASSES in config ({NUM_CLASSES}) does not match detected classes ({len(DETECTED_CLASSES)}). Adjust NUM_CLASSES.\")\n",
    "         # Potentially update NUM_CLASSES here automatically, or raise error\n",
    "         # NUM_CLASSES = len(DETECTED_CLASSES)\n",
    "         # print(f\"Updated NUM_CLASSES to {NUM_CLASSES}\")\n",
    "\n",
    "\n",
    "except FileNotFoundError:\n",
    "    print(f\"ERROR: PREPROCESSED dataset folder not found at '{PREPROCESSED_TRAIN_DATA_DIR}'.\")\n",
    "    print(\"Did the preprocessing step (Cell 6) complete successfully and create this directory?\")\n",
    "    raise # Stop execution if data isn't found\n",
    "except Exception as e:\n",
    "    print(f\"An error occurred loading the PREPROCESSED dataset: {e}\")\n",
    "    raise\n",
    "\n",
    "# --- Split the Data ---\n",
    "dataset_size = len(full_dataset_train_transforms)\n",
    "val_size = int(VAL_SPLIT * dataset_size)\n",
    "train_size = dataset_size - val_size\n",
    "print(f\"\\nSplitting dataset:\")\n",
    "print(f\"  Total samples: {dataset_size}\")\n",
    "print(f\"  Training samples: {train_size}\")\n",
    "print(f\"  Validation samples: {val_size}\")\n",
    "\n",
    "# Create indices for splitting\n",
    "indices = list(range(dataset_size))\n",
    "# We shuffle indices BEFORE splitting\n",
    "np.random.shuffle(indices) # Uses the SEED set earlier\n",
    "train_indices, val_indices = indices[:train_size], indices[train_size:]\n",
    "\n",
    "# Create Subset datasets using the indices AND the appropriate transform dataset\n",
    "# Training subset uses the dataset with training transforms\n",
    "train_dataset_subset = Subset(full_dataset_train_transforms, train_indices)\n",
    "# Validation subset uses the dataset with validation transforms\n",
    "val_dataset_subset = Subset(full_dataset_val_transforms, val_indices)\n",
    "\n",
    "# --- Create DataLoaders ---\n",
    "# Use num_workers > 0 for faster data loading if possible (adjust based on system)\n",
    "# Use pin_memory=True if using GPU for potential speedup\n",
    "num_workers = os.cpu_count() // 2 if os.cpu_count() else 2 # Heuristic\n",
    "pin_memory = True if DEVICE.type == 'cuda' else False\n",
    "\n",
    "dataloaders = {\n",
    "    'train': DataLoader(train_dataset_subset, batch_size=BATCH_SIZE, shuffle=True,\n",
    "                        num_workers=num_workers, pin_memory=pin_memory),\n",
    "    'val': DataLoader(val_dataset_subset, batch_size=BATCH_SIZE, shuffle=False, # No shuffle for validation\n",
    "                      num_workers=num_workers, pin_memory=pin_memory)\n",
    "}\n",
    "dataset_sizes = {'train': len(train_dataset_subset), 'val': len(val_dataset_subset)}\n",
    "\n",
    "print(f\"\\nDataLoaders created for training and validation.\")\n",
    "print(f\"Using num_workers={num_workers}, pin_memory={pin_memory}\")"
   ]
  },
  {
   "cell_type": "code",
   "execution_count": 13,
   "metadata": {
    "trusted": true
   },
   "outputs": [
    {
     "name": "stdout",
     "output_type": "stream",
     "text": [
      "Loading ResNet50 model for Fine-Tuning...\n",
      "Loaded ResNet50 with DEFAULT pre-trained weights (ImageNet).\n",
      "Freezing parameters of pre-trained layers...\n",
      "Done freezing.\n",
      "Original classifier input features: 2048\n",
      "Replaced final layer (model.fc): Input features=2048, Output classes=4\n",
      "New classifier layer parameters require gradients: True\n",
      "Model (ready for fine-tuning) moved to device: cuda:0\n",
      "\n",
      "Parameters that require gradients (should be only the new fc layer):\n",
      "\tfc.weight\n",
      "\tfc.bias\n"
     ]
    }
   ],
   "source": [
    "# %%\n",
    "print(\"Loading ResNet50 model for Fine-Tuning...\")\n",
    "\n",
    "# --- FINE-TUNING Step 1: Load pre-trained weights ---\n",
    "# Load a ResNet50 model using pre-trained weights from ImageNet\n",
    "# Using DEFAULT is generally recommended for the latest best weights\n",
    "try:\n",
    "    # Option 1: Use pre-trained weights (recommended for fine-tuning)\n",
    "    model = models.resnet50(weights=ResNet50_Weights.DEFAULT) # <<< CHANGED\n",
    "    print(\"Loaded ResNet50 with DEFAULT pre-trained weights (ImageNet).\")\n",
    "\n",
    "    # Option 2: If DEFAULT causes issues, try the older V1 weights\n",
    "    # model = models.resnet50(weights=ResNet50_Weights.IMAGENET1K_V1)\n",
    "    # print(\"Loaded ResNet50 with IMAGENET1K_V1 pre-trained weights.\")\n",
    "\n",
    "except Exception as e:\n",
    "    print(f\"Could not load pre-trained ResNet50 weights: {e}. Aborting.\")\n",
    "    raise\n",
    "\n",
    "# --- FINE-TUNING Step 2: Freeze backbone parameters ---\n",
    "# (Strategy 1: Freeze feature extractor, train only the head)\n",
    "# If you want to train *all* layers (Strategy 2), comment out this block.\n",
    "print(\"Freezing parameters of pre-trained layers...\")\n",
    "for param in model.parameters():\n",
    "    param.requires_grad = False # Freeze all layers initially\n",
    "print(\"Done freezing.\")\n",
    "\n",
    "# --- FINE-TUNING Step 3: Replace the final classifier layer ---\n",
    "# Get the number of input features for the original classifier layer\n",
    "num_ftrs = model.fc.in_features\n",
    "print(f\"Original classifier input features: {num_ftrs}\")\n",
    "\n",
    "# Create a new final layer matching the number of your classes (NUM_CLASSES)\n",
    "# Parameters of newly constructed modules have requires_grad=True by default.\n",
    "try:\n",
    "    model.fc = nn.Linear(num_ftrs, NUM_CLASSES) # Replace the head\n",
    "    print(f\"Replaced final layer (model.fc): Input features={num_ftrs}, Output classes={NUM_CLASSES}\")\n",
    "    print(f\"New classifier layer parameters require gradients: {model.fc.weight.requires_grad}\")\n",
    "except NameError:\n",
    "     print(\"ERROR: NUM_CLASSES not defined. Was the Configuration cell run?\")\n",
    "     raise\n",
    "except AttributeError:\n",
    "     print(\"ERROR: Could not find 'fc' layer in the model. Is it the correct ResNet model?\")\n",
    "     raise\n",
    "\n",
    "# Move the model to the specified device (GPU or CPU)\n",
    "model = model.to(DEVICE)\n",
    "print(f\"Model (ready for fine-tuning) moved to device: {DEVICE}\")\n",
    "\n",
    "# --- Optional: Verify which parameters require gradients ---\n",
    "print(\"\\nParameters that require gradients (should be only the new fc layer):\")\n",
    "params_to_update = []\n",
    "for name, param in model.named_parameters():\n",
    "    if param.requires_grad:\n",
    "        print(f\"\\t{name}\")\n",
    "        params_to_update.append(param)\n",
    "# Make sure only model.fc.weight and model.fc.bias are listed above if freezing!"
   ]
  },
  {
   "cell_type": "code",
   "execution_count": 16,
   "metadata": {
    "trusted": true
   },
   "outputs": [
    {
     "name": "stdout",
     "output_type": "stream",
     "text": [
      "Loss function: CrossEntropyLoss()\n",
      "Configuring optimizer for the new classifier layer (model.fc) only...\n",
      "  Adding param to optimizer: fc.weight\n",
      "  Adding param to optimizer: fc.bias\n",
      "Optimizer: Adam (lr=0.001) - Optimizing selected parameters\n",
      "Scheduler: ReduceLROnPlateau (factor=0.1, patience=5, monitoring val_loss)\n",
      "Mixed Precision GradScaler enabled: True\n"
     ]
    },
    {
     "name": "stderr",
     "output_type": "stream",
     "text": [
      "/tmp/ipykernel_57228/886563766.py:43: FutureWarning: `torch.cuda.amp.GradScaler(args...)` is deprecated. Please use `torch.amp.GradScaler('cuda', args...)` instead.\n",
      "  scaler = GradScaler(enabled=(DEVICE.type == 'cuda'))\n"
     ]
    }
   ],
   "source": [
    "# %%\n",
    "# Loss Function (suitable for multi-class classification)\n",
    "criterion = nn.CrossEntropyLoss()\n",
    "print(f\"Loss function: {criterion}\")\n",
    "\n",
    "# --- FINE-TUNING Step 4: Configure the Optimizer ---\n",
    "# Pass only the parameters of the layers to be trained to the optimizer.\n",
    "\n",
    "# Strategy 1: Train only the new classifier head (model.fc)\n",
    "# First, ensure we identified the parameters correctly in the previous cell\n",
    "print(\"Configuring optimizer for the new classifier layer (model.fc) only...\")\n",
    "params_to_optimize = []\n",
    "for name, param in model.named_parameters():\n",
    "    if param.requires_grad:\n",
    "        params_to_optimize.append(param)\n",
    "        print(f\"  Adding param to optimizer: {name}\")\n",
    "\n",
    "if not params_to_optimize:\n",
    "     # This happens if you didn't replace the head or uncommented the freezing block\n",
    "     print(\"\\nWARNING: No parameters require gradients! Falling back to optimizing all parameters.\")\n",
    "     print(\"         If fine-tuning the head was intended, check the freezing logic in the model definition cell.\")\n",
    "     optimizer = optim.Adam(model.parameters(), lr=LEARNING_RATE)\n",
    "     print(f\"Optimizer (fallback): Adam (lr={LEARNING_RATE}) - Optimizing ALL parameters\")\n",
    "else:\n",
    "     optimizer = optim.Adam(params_to_optimize, lr=LEARNING_RATE)\n",
    "     print(f\"Optimizer: Adam (lr={LEARNING_RATE}) - Optimizing selected parameters\")\n",
    "\n",
    "\n",
    "# Strategy 2: Train all layers (load pre-trained weights, but don't freeze)\n",
    "# If you commented out the freezing block in the previous cell, use this:\n",
    "# print(\"Configuring optimizer to fine-tune ALL layers...\")\n",
    "# optimizer = optim.Adam(model.parameters(), lr=LEARNING_RATE) # Adjust LEARNING_RATE - often lower for fine-tuning all layers (e.g., 0.0001)\n",
    "# print(f\"Optimizer: Adam (lr={LEARNING_RATE}) - Optimizing ALL parameters\")\n",
    "#-----------------------------------------------------------------------------\n",
    "\n",
    "\n",
    "# Learning Rate Scheduler (Optional but often helpful)\n",
    "scheduler = optim.lr_scheduler.ReduceLROnPlateau(optimizer, mode='min', factor=0.1, patience=5) # Added verbose=True\n",
    "print(f\"Scheduler: ReduceLROnPlateau (factor=0.1, patience=5, monitoring val_loss)\")\n",
    "\n",
    "# Initialize GradScaler for Mixed Precision Training\n",
    "# Note: The warning about deprecation is normal if using slightly older PyTorch/CUDA versions\n",
    "scaler = GradScaler(enabled=(DEVICE.type == 'cuda'))\n",
    "print(f\"Mixed Precision GradScaler enabled: {scaler.is_enabled()}\")"
   ]
  },
  {
   "cell_type": "code",
   "execution_count": 17,
   "metadata": {
    "trusted": true
   },
   "outputs": [
    {
     "name": "stdout",
     "output_type": "stream",
     "text": [
      "\n",
      "Starting training and validation loop...\n",
      "\n",
      "Epoch 1/25\n",
      "---------------\n",
      "--- Training Phase ---\n"
     ]
    },
    {
     "data": {
      "application/vnd.jupyter.widget-view+json": {
       "model_id": "a91ae4adc72740e1ab8f0d317d81f581",
       "version_major": 2,
       "version_minor": 0
      },
      "text/plain": [
       "Train Progress:   0%|          | 0/156 [00:00<?, ?it/s]"
      ]
     },
     "metadata": {},
     "output_type": "display_data"
    },
    {
     "name": "stderr",
     "output_type": "stream",
     "text": [
      "/tmp/ipykernel_57228/2142746445.py:46: FutureWarning: `torch.cuda.amp.autocast(args...)` is deprecated. Please use `torch.amp.autocast('cuda', args...)` instead.\n",
      "  with autocast(enabled=(DEVICE.type == 'cuda')):\n"
     ]
    },
    {
     "name": "stdout",
     "output_type": "stream",
     "text": [
      "Train Epoch Loss: 0.8190 Acc: 0.7401\n",
      "\n",
      "--- Validation Phase ---\n"
     ]
    },
    {
     "data": {
      "application/vnd.jupyter.widget-view+json": {
       "model_id": "7a40febfb9354ae9a24347d750fac2ae",
       "version_major": 2,
       "version_minor": 0
      },
      "text/plain": [
       "Val Progress:   0%|          | 0/39 [00:00<?, ?it/s]"
      ]
     },
     "metadata": {},
     "output_type": "display_data"
    },
    {
     "name": "stdout",
     "output_type": "stream",
     "text": [
      "Val Epoch Loss: 0.6334 Acc: 0.8248\n",
      "\n",
      "Calculating Validation Performance Metrics...\n",
      "\n",
      "Confusion Matrix:\n",
      "True\\Pred          glioma meningioma    notumor  pituitary\n",
      "----------------------------------------------------------\n",
      "glioma                208         30          7         14\n",
      "meningioma             24        172         38         60\n",
      "notumor                 6          6        338         10\n",
      "pituitary              11         10          2        308\n",
      "----------------------------------------------------------\n",
      "\n",
      "Classification Report (includes Precision, Recall, F1-Score):\n",
      "              precision    recall  f1-score   support\n",
      "\n",
      "      glioma     0.8353    0.8031    0.8189       259\n",
      "  meningioma     0.7890    0.5850    0.6719       294\n",
      "     notumor     0.8779    0.9389    0.9074       360\n",
      "   pituitary     0.7857    0.9305    0.8520       331\n",
      "\n",
      "    accuracy                         0.8248      1244\n",
      "   macro avg     0.8220    0.8144    0.8125      1244\n",
      "weighted avg     0.8235    0.8248    0.8186      1244\n",
      "\n",
      "---------------\n",
      "** New Best Validation Accuracy: 0.8248 -> Saving model weights... **\n",
      "\n",
      "Epoch 2/25\n",
      "---------------\n",
      "--- Training Phase ---\n"
     ]
    },
    {
     "data": {
      "application/vnd.jupyter.widget-view+json": {
       "model_id": "cd7de035a05a45cf8781eb6af2afe09f",
       "version_major": 2,
       "version_minor": 0
      },
      "text/plain": [
       "Train Progress:   0%|          | 0/156 [00:00<?, ?it/s]"
      ]
     },
     "metadata": {},
     "output_type": "display_data"
    },
    {
     "name": "stderr",
     "output_type": "stream",
     "text": [
      "/tmp/ipykernel_57228/2142746445.py:46: FutureWarning: `torch.cuda.amp.autocast(args...)` is deprecated. Please use `torch.amp.autocast('cuda', args...)` instead.\n",
      "  with autocast(enabled=(DEVICE.type == 'cuda')):\n"
     ]
    },
    {
     "name": "stdout",
     "output_type": "stream",
     "text": [
      "Train Epoch Loss: 0.5430 Acc: 0.8228\n",
      "\n",
      "--- Validation Phase ---\n"
     ]
    },
    {
     "data": {
      "application/vnd.jupyter.widget-view+json": {
       "model_id": "33018bf77bf84411a1a4caf1fbaa87fe",
       "version_major": 2,
       "version_minor": 0
      },
      "text/plain": [
       "Val Progress:   0%|          | 0/39 [00:00<?, ?it/s]"
      ]
     },
     "metadata": {},
     "output_type": "display_data"
    },
    {
     "name": "stdout",
     "output_type": "stream",
     "text": [
      "Val Epoch Loss: 0.4975 Acc: 0.8489\n",
      "\n",
      "Calculating Validation Performance Metrics...\n",
      "\n",
      "Confusion Matrix:\n",
      "True\\Pred          glioma meningioma    notumor  pituitary\n",
      "----------------------------------------------------------\n",
      "glioma                194         49          5         11\n",
      "meningioma             11        214         30         39\n",
      "notumor                 5          7        344          4\n",
      "pituitary               9         15          3        304\n",
      "----------------------------------------------------------\n",
      "\n",
      "Classification Report (includes Precision, Recall, F1-Score):\n",
      "              precision    recall  f1-score   support\n",
      "\n",
      "      glioma     0.8858    0.7490    0.8117       259\n",
      "  meningioma     0.7509    0.7279    0.7392       294\n",
      "     notumor     0.9005    0.9556    0.9272       360\n",
      "   pituitary     0.8492    0.9184    0.8824       331\n",
      "\n",
      "    accuracy                         0.8489      1244\n",
      "   macro avg     0.8466    0.8377    0.8401      1244\n",
      "weighted avg     0.8484    0.8489    0.8468      1244\n",
      "\n",
      "---------------\n",
      "** New Best Validation Accuracy: 0.8489 -> Saving model weights... **\n",
      "\n",
      "Epoch 3/25\n",
      "---------------\n",
      "--- Training Phase ---\n"
     ]
    },
    {
     "data": {
      "application/vnd.jupyter.widget-view+json": {
       "model_id": "725e68e2c158418aa41101ec5638ce6b",
       "version_major": 2,
       "version_minor": 0
      },
      "text/plain": [
       "Train Progress:   0%|          | 0/156 [00:00<?, ?it/s]"
      ]
     },
     "metadata": {},
     "output_type": "display_data"
    },
    {
     "name": "stderr",
     "output_type": "stream",
     "text": [
      "/tmp/ipykernel_57228/2142746445.py:46: FutureWarning: `torch.cuda.amp.autocast(args...)` is deprecated. Please use `torch.amp.autocast('cuda', args...)` instead.\n",
      "  with autocast(enabled=(DEVICE.type == 'cuda')):\n"
     ]
    },
    {
     "name": "stdout",
     "output_type": "stream",
     "text": [
      "Train Epoch Loss: 0.4862 Acc: 0.8319\n",
      "\n",
      "--- Validation Phase ---\n"
     ]
    },
    {
     "data": {
      "application/vnd.jupyter.widget-view+json": {
       "model_id": "9bdc6dd116854e6cadc7e31f17015fb6",
       "version_major": 2,
       "version_minor": 0
      },
      "text/plain": [
       "Val Progress:   0%|          | 0/39 [00:00<?, ?it/s]"
      ]
     },
     "metadata": {},
     "output_type": "display_data"
    },
    {
     "name": "stdout",
     "output_type": "stream",
     "text": [
      "Val Epoch Loss: 0.4470 Acc: 0.8561\n",
      "\n",
      "Calculating Validation Performance Metrics...\n",
      "\n",
      "Confusion Matrix:\n",
      "True\\Pred          glioma meningioma    notumor  pituitary\n",
      "----------------------------------------------------------\n",
      "glioma                202         46          3          8\n",
      "meningioma              9        216         27         42\n",
      "notumor                 5          8        343          4\n",
      "pituitary               7         18          2        304\n",
      "----------------------------------------------------------\n",
      "\n",
      "Classification Report (includes Precision, Recall, F1-Score):\n",
      "              precision    recall  f1-score   support\n",
      "\n",
      "      glioma     0.9058    0.7799    0.8382       259\n",
      "  meningioma     0.7500    0.7347    0.7423       294\n",
      "     notumor     0.9147    0.9528    0.9333       360\n",
      "   pituitary     0.8492    0.9184    0.8824       331\n",
      "\n",
      "    accuracy                         0.8561      1244\n",
      "   macro avg     0.8549    0.8465    0.8491      1244\n",
      "weighted avg     0.8565    0.8561    0.8548      1244\n",
      "\n",
      "---------------\n",
      "** New Best Validation Accuracy: 0.8561 -> Saving model weights... **\n",
      "\n",
      "Epoch 4/25\n",
      "---------------\n",
      "--- Training Phase ---\n"
     ]
    },
    {
     "data": {
      "application/vnd.jupyter.widget-view+json": {
       "model_id": "20ed97736e61416f9ec0243478dddd91",
       "version_major": 2,
       "version_minor": 0
      },
      "text/plain": [
       "Train Progress:   0%|          | 0/156 [00:00<?, ?it/s]"
      ]
     },
     "metadata": {},
     "output_type": "display_data"
    },
    {
     "name": "stderr",
     "output_type": "stream",
     "text": [
      "/tmp/ipykernel_57228/2142746445.py:46: FutureWarning: `torch.cuda.amp.autocast(args...)` is deprecated. Please use `torch.amp.autocast('cuda', args...)` instead.\n",
      "  with autocast(enabled=(DEVICE.type == 'cuda')):\n"
     ]
    },
    {
     "name": "stdout",
     "output_type": "stream",
     "text": [
      "Train Epoch Loss: 0.4395 Acc: 0.8532\n",
      "\n",
      "--- Validation Phase ---\n"
     ]
    },
    {
     "data": {
      "application/vnd.jupyter.widget-view+json": {
       "model_id": "79dfdfe45890480099489d5c40d305a6",
       "version_major": 2,
       "version_minor": 0
      },
      "text/plain": [
       "Val Progress:   0%|          | 0/39 [00:00<?, ?it/s]"
      ]
     },
     "metadata": {},
     "output_type": "display_data"
    },
    {
     "name": "stdout",
     "output_type": "stream",
     "text": [
      "Val Epoch Loss: 0.4622 Acc: 0.8457\n",
      "\n",
      "Calculating Validation Performance Metrics...\n",
      "\n",
      "Confusion Matrix:\n",
      "True\\Pred          glioma meningioma    notumor  pituitary\n",
      "----------------------------------------------------------\n",
      "glioma                211         21         12         15\n",
      "meningioma             25        169         42         58\n",
      "notumor                 3          1        353          3\n",
      "pituitary               6          1          5        319\n",
      "----------------------------------------------------------\n",
      "\n",
      "Classification Report (includes Precision, Recall, F1-Score):\n",
      "              precision    recall  f1-score   support\n",
      "\n",
      "      glioma     0.8612    0.8147    0.8373       259\n",
      "  meningioma     0.8802    0.5748    0.6955       294\n",
      "     notumor     0.8568    0.9806    0.9145       360\n",
      "   pituitary     0.8076    0.9637    0.8788       331\n",
      "\n",
      "    accuracy                         0.8457      1244\n",
      "   macro avg     0.8515    0.8335    0.8315      1244\n",
      "weighted avg     0.8502    0.8457    0.8372      1244\n",
      "\n",
      "---------------\n",
      "\n",
      "Epoch 5/25\n",
      "---------------\n",
      "--- Training Phase ---\n"
     ]
    },
    {
     "data": {
      "application/vnd.jupyter.widget-view+json": {
       "model_id": "d1c59eabab2144309692b7b195dcd74e",
       "version_major": 2,
       "version_minor": 0
      },
      "text/plain": [
       "Train Progress:   0%|          | 0/156 [00:00<?, ?it/s]"
      ]
     },
     "metadata": {},
     "output_type": "display_data"
    },
    {
     "name": "stderr",
     "output_type": "stream",
     "text": [
      "/tmp/ipykernel_57228/2142746445.py:46: FutureWarning: `torch.cuda.amp.autocast(args...)` is deprecated. Please use `torch.amp.autocast('cuda', args...)` instead.\n",
      "  with autocast(enabled=(DEVICE.type == 'cuda')):\n"
     ]
    },
    {
     "name": "stdout",
     "output_type": "stream",
     "text": [
      "Train Epoch Loss: 0.4155 Acc: 0.8580\n",
      "\n",
      "--- Validation Phase ---\n"
     ]
    },
    {
     "data": {
      "application/vnd.jupyter.widget-view+json": {
       "model_id": "2bae1e2ae6104a65ad6ca8c6d01d9540",
       "version_major": 2,
       "version_minor": 0
      },
      "text/plain": [
       "Val Progress:   0%|          | 0/39 [00:00<?, ?it/s]"
      ]
     },
     "metadata": {},
     "output_type": "display_data"
    },
    {
     "name": "stdout",
     "output_type": "stream",
     "text": [
      "Val Epoch Loss: 0.4052 Acc: 0.8738\n",
      "\n",
      "Calculating Validation Performance Metrics...\n",
      "\n",
      "Confusion Matrix:\n",
      "True\\Pred          glioma meningioma    notumor  pituitary\n",
      "----------------------------------------------------------\n",
      "glioma                206         39          6          8\n",
      "meningioma             12        219         30         33\n",
      "notumor                 3          5        350          2\n",
      "pituitary               6          8          5        312\n",
      "----------------------------------------------------------\n",
      "\n",
      "Classification Report (includes Precision, Recall, F1-Score):\n",
      "              precision    recall  f1-score   support\n",
      "\n",
      "      glioma     0.9075    0.7954    0.8477       259\n",
      "  meningioma     0.8081    0.7449    0.7752       294\n",
      "     notumor     0.8951    0.9722    0.9321       360\n",
      "   pituitary     0.8789    0.9426    0.9096       331\n",
      "\n",
      "    accuracy                         0.8738      1244\n",
      "   macro avg     0.8724    0.8638    0.8662      1244\n",
      "weighted avg     0.8728    0.8738    0.8715      1244\n",
      "\n",
      "---------------\n",
      "** New Best Validation Accuracy: 0.8738 -> Saving model weights... **\n",
      "\n",
      "Epoch 6/25\n",
      "---------------\n",
      "--- Training Phase ---\n"
     ]
    },
    {
     "data": {
      "application/vnd.jupyter.widget-view+json": {
       "model_id": "f4da41a13a554994802e17cbf8a459f4",
       "version_major": 2,
       "version_minor": 0
      },
      "text/plain": [
       "Train Progress:   0%|          | 0/156 [00:00<?, ?it/s]"
      ]
     },
     "metadata": {},
     "output_type": "display_data"
    },
    {
     "name": "stderr",
     "output_type": "stream",
     "text": [
      "/tmp/ipykernel_57228/2142746445.py:46: FutureWarning: `torch.cuda.amp.autocast(args...)` is deprecated. Please use `torch.amp.autocast('cuda', args...)` instead.\n",
      "  with autocast(enabled=(DEVICE.type == 'cuda')):\n"
     ]
    },
    {
     "name": "stdout",
     "output_type": "stream",
     "text": [
      "Train Epoch Loss: 0.3991 Acc: 0.8614\n",
      "\n",
      "--- Validation Phase ---\n"
     ]
    },
    {
     "data": {
      "application/vnd.jupyter.widget-view+json": {
       "model_id": "798a155491c54ba0b7996946f17ddb11",
       "version_major": 2,
       "version_minor": 0
      },
      "text/plain": [
       "Val Progress:   0%|          | 0/39 [00:00<?, ?it/s]"
      ]
     },
     "metadata": {},
     "output_type": "display_data"
    },
    {
     "name": "stdout",
     "output_type": "stream",
     "text": [
      "Val Epoch Loss: 0.3936 Acc: 0.8682\n",
      "\n",
      "Calculating Validation Performance Metrics...\n",
      "\n",
      "Confusion Matrix:\n",
      "True\\Pred          glioma meningioma    notumor  pituitary\n",
      "----------------------------------------------------------\n",
      "glioma                211         30          7         11\n",
      "meningioma             16        199         32         47\n",
      "notumor                 5          2        350          3\n",
      "pituitary               6          2          3        320\n",
      "----------------------------------------------------------\n",
      "\n",
      "Classification Report (includes Precision, Recall, F1-Score):\n",
      "              precision    recall  f1-score   support\n",
      "\n",
      "      glioma     0.8866    0.8147    0.8491       259\n",
      "  meningioma     0.8541    0.6769    0.7552       294\n",
      "     notumor     0.8929    0.9722    0.9309       360\n",
      "   pituitary     0.8399    0.9668    0.8989       331\n",
      "\n",
      "    accuracy                         0.8682      1244\n",
      "   macro avg     0.8683    0.8576    0.8585      1244\n",
      "weighted avg     0.8683    0.8682    0.8638      1244\n",
      "\n",
      "---------------\n",
      "\n",
      "Epoch 7/25\n",
      "---------------\n",
      "--- Training Phase ---\n"
     ]
    },
    {
     "data": {
      "application/vnd.jupyter.widget-view+json": {
       "model_id": "fa829be729904a4d82adf66fdd111c49",
       "version_major": 2,
       "version_minor": 0
      },
      "text/plain": [
       "Train Progress:   0%|          | 0/156 [00:00<?, ?it/s]"
      ]
     },
     "metadata": {},
     "output_type": "display_data"
    },
    {
     "name": "stderr",
     "output_type": "stream",
     "text": [
      "/tmp/ipykernel_57228/2142746445.py:46: FutureWarning: `torch.cuda.amp.autocast(args...)` is deprecated. Please use `torch.amp.autocast('cuda', args...)` instead.\n",
      "  with autocast(enabled=(DEVICE.type == 'cuda')):\n"
     ]
    },
    {
     "name": "stdout",
     "output_type": "stream",
     "text": [
      "Train Epoch Loss: 0.3854 Acc: 0.8686\n",
      "\n",
      "--- Validation Phase ---\n"
     ]
    },
    {
     "data": {
      "application/vnd.jupyter.widget-view+json": {
       "model_id": "0fd2a736079b47bdb55d923b96b3f2bc",
       "version_major": 2,
       "version_minor": 0
      },
      "text/plain": [
       "Val Progress:   0%|          | 0/39 [00:00<?, ?it/s]"
      ]
     },
     "metadata": {},
     "output_type": "display_data"
    },
    {
     "name": "stdout",
     "output_type": "stream",
     "text": [
      "Val Epoch Loss: 0.3809 Acc: 0.8778\n",
      "\n",
      "Calculating Validation Performance Metrics...\n",
      "\n",
      "Confusion Matrix:\n",
      "True\\Pred          glioma meningioma    notumor  pituitary\n",
      "----------------------------------------------------------\n",
      "glioma                206         40          6          7\n",
      "meningioma              5        220         30         39\n",
      "notumor                 2          3        352          3\n",
      "pituitary               5          7          5        314\n",
      "----------------------------------------------------------\n",
      "\n",
      "Classification Report (includes Precision, Recall, F1-Score):\n",
      "              precision    recall  f1-score   support\n",
      "\n",
      "      glioma     0.9450    0.7954    0.8637       259\n",
      "  meningioma     0.8148    0.7483    0.7801       294\n",
      "     notumor     0.8957    0.9778    0.9349       360\n",
      "   pituitary     0.8650    0.9486    0.9049       331\n",
      "\n",
      "    accuracy                         0.8778      1244\n",
      "   macro avg     0.8801    0.8675    0.8709      1244\n",
      "weighted avg     0.8787    0.8778    0.8755      1244\n",
      "\n",
      "---------------\n",
      "** New Best Validation Accuracy: 0.8778 -> Saving model weights... **\n",
      "\n",
      "Epoch 8/25\n",
      "---------------\n",
      "--- Training Phase ---\n"
     ]
    },
    {
     "data": {
      "application/vnd.jupyter.widget-view+json": {
       "model_id": "7a66ec1f17d3445db713630ed51a3521",
       "version_major": 2,
       "version_minor": 0
      },
      "text/plain": [
       "Train Progress:   0%|          | 0/156 [00:00<?, ?it/s]"
      ]
     },
     "metadata": {},
     "output_type": "display_data"
    },
    {
     "name": "stderr",
     "output_type": "stream",
     "text": [
      "/tmp/ipykernel_57228/2142746445.py:46: FutureWarning: `torch.cuda.amp.autocast(args...)` is deprecated. Please use `torch.amp.autocast('cuda', args...)` instead.\n",
      "  with autocast(enabled=(DEVICE.type == 'cuda')):\n"
     ]
    },
    {
     "name": "stdout",
     "output_type": "stream",
     "text": [
      "Train Epoch Loss: 0.3767 Acc: 0.8700\n",
      "\n",
      "--- Validation Phase ---\n"
     ]
    },
    {
     "data": {
      "application/vnd.jupyter.widget-view+json": {
       "model_id": "3d79607148cc424b8c919fdefe31f150",
       "version_major": 2,
       "version_minor": 0
      },
      "text/plain": [
       "Val Progress:   0%|          | 0/39 [00:00<?, ?it/s]"
      ]
     },
     "metadata": {},
     "output_type": "display_data"
    },
    {
     "name": "stdout",
     "output_type": "stream",
     "text": [
      "Val Epoch Loss: 0.3697 Acc: 0.8754\n",
      "\n",
      "Calculating Validation Performance Metrics...\n",
      "\n",
      "Confusion Matrix:\n",
      "True\\Pred          glioma meningioma    notumor  pituitary\n",
      "----------------------------------------------------------\n",
      "glioma                211         31          6         11\n",
      "meningioma             15        207         29         43\n",
      "notumor                 6          2        349          3\n",
      "pituitary               5          1          3        322\n",
      "----------------------------------------------------------\n",
      "\n",
      "Classification Report (includes Precision, Recall, F1-Score):\n",
      "              precision    recall  f1-score   support\n",
      "\n",
      "      glioma     0.8903    0.8147    0.8508       259\n",
      "  meningioma     0.8589    0.7041    0.7738       294\n",
      "     notumor     0.9018    0.9694    0.9344       360\n",
      "   pituitary     0.8496    0.9728    0.9070       331\n",
      "\n",
      "    accuracy                         0.8754      1244\n",
      "   macro avg     0.8752    0.8653    0.8665      1244\n",
      "weighted avg     0.8754    0.8754    0.8718      1244\n",
      "\n",
      "---------------\n",
      "\n",
      "Epoch 9/25\n",
      "---------------\n",
      "--- Training Phase ---\n"
     ]
    },
    {
     "data": {
      "application/vnd.jupyter.widget-view+json": {
       "model_id": "1ead0ed7e1f24e29b89f7a110acc14c9",
       "version_major": 2,
       "version_minor": 0
      },
      "text/plain": [
       "Train Progress:   0%|          | 0/156 [00:00<?, ?it/s]"
      ]
     },
     "metadata": {},
     "output_type": "display_data"
    },
    {
     "name": "stderr",
     "output_type": "stream",
     "text": [
      "/tmp/ipykernel_57228/2142746445.py:46: FutureWarning: `torch.cuda.amp.autocast(args...)` is deprecated. Please use `torch.amp.autocast('cuda', args...)` instead.\n",
      "  with autocast(enabled=(DEVICE.type == 'cuda')):\n"
     ]
    },
    {
     "name": "stdout",
     "output_type": "stream",
     "text": [
      "Train Epoch Loss: 0.3673 Acc: 0.8704\n",
      "\n",
      "--- Validation Phase ---\n"
     ]
    },
    {
     "data": {
      "application/vnd.jupyter.widget-view+json": {
       "model_id": "bdc4bbb3a8214ea1b922447c2d6994af",
       "version_major": 2,
       "version_minor": 0
      },
      "text/plain": [
       "Val Progress:   0%|          | 0/39 [00:00<?, ?it/s]"
      ]
     },
     "metadata": {},
     "output_type": "display_data"
    },
    {
     "name": "stdout",
     "output_type": "stream",
     "text": [
      "Val Epoch Loss: 0.3734 Acc: 0.8802\n",
      "\n",
      "Calculating Validation Performance Metrics...\n",
      "\n",
      "Confusion Matrix:\n",
      "True\\Pred          glioma meningioma    notumor  pituitary\n",
      "----------------------------------------------------------\n",
      "glioma                205         36          6         12\n",
      "meningioma              7        215         29         43\n",
      "notumor                 2          3        352          3\n",
      "pituitary               4          1          3        323\n",
      "----------------------------------------------------------\n",
      "\n",
      "Classification Report (includes Precision, Recall, F1-Score):\n",
      "              precision    recall  f1-score   support\n",
      "\n",
      "      glioma     0.9404    0.7915    0.8595       259\n",
      "  meningioma     0.8431    0.7313    0.7832       294\n",
      "     notumor     0.9026    0.9778    0.9387       360\n",
      "   pituitary     0.8478    0.9758    0.9073       331\n",
      "\n",
      "    accuracy                         0.8802      1244\n",
      "   macro avg     0.8835    0.8691    0.8722      1244\n",
      "weighted avg     0.8818    0.8802    0.8771      1244\n",
      "\n",
      "---------------\n",
      "** New Best Validation Accuracy: 0.8802 -> Saving model weights... **\n",
      "\n",
      "Epoch 10/25\n",
      "---------------\n",
      "--- Training Phase ---\n"
     ]
    },
    {
     "data": {
      "application/vnd.jupyter.widget-view+json": {
       "model_id": "a0367cd9e7634916bf54ecd0e6a2b176",
       "version_major": 2,
       "version_minor": 0
      },
      "text/plain": [
       "Train Progress:   0%|          | 0/156 [00:00<?, ?it/s]"
      ]
     },
     "metadata": {},
     "output_type": "display_data"
    },
    {
     "name": "stderr",
     "output_type": "stream",
     "text": [
      "/tmp/ipykernel_57228/2142746445.py:46: FutureWarning: `torch.cuda.amp.autocast(args...)` is deprecated. Please use `torch.amp.autocast('cuda', args...)` instead.\n",
      "  with autocast(enabled=(DEVICE.type == 'cuda')):\n"
     ]
    },
    {
     "name": "stdout",
     "output_type": "stream",
     "text": [
      "Train Epoch Loss: 0.3588 Acc: 0.8676\n",
      "\n",
      "--- Validation Phase ---\n"
     ]
    },
    {
     "data": {
      "application/vnd.jupyter.widget-view+json": {
       "model_id": "0af014bfb1d9459f885ac1639d573861",
       "version_major": 2,
       "version_minor": 0
      },
      "text/plain": [
       "Val Progress:   0%|          | 0/39 [00:00<?, ?it/s]"
      ]
     },
     "metadata": {},
     "output_type": "display_data"
    },
    {
     "name": "stdout",
     "output_type": "stream",
     "text": [
      "Val Epoch Loss: 0.3441 Acc: 0.8883\n",
      "\n",
      "Calculating Validation Performance Metrics...\n",
      "\n",
      "Confusion Matrix:\n",
      "True\\Pred          glioma meningioma    notumor  pituitary\n",
      "----------------------------------------------------------\n",
      "glioma                207         46          3          3\n",
      "meningioma              6        238         26         24\n",
      "notumor                 3          3        352          2\n",
      "pituitary               5         13          5        308\n",
      "----------------------------------------------------------\n",
      "\n",
      "Classification Report (includes Precision, Recall, F1-Score):\n",
      "              precision    recall  f1-score   support\n",
      "\n",
      "      glioma     0.9367    0.7992    0.8625       259\n",
      "  meningioma     0.7933    0.8095    0.8013       294\n",
      "     notumor     0.9119    0.9778    0.9437       360\n",
      "   pituitary     0.9139    0.9305    0.9222       331\n",
      "\n",
      "    accuracy                         0.8883      1244\n",
      "   macro avg     0.8890    0.8793    0.8824      1244\n",
      "weighted avg     0.8896    0.8883    0.8874      1244\n",
      "\n",
      "---------------\n",
      "** New Best Validation Accuracy: 0.8883 -> Saving model weights... **\n",
      "\n",
      "Epoch 11/25\n",
      "---------------\n",
      "--- Training Phase ---\n"
     ]
    },
    {
     "data": {
      "application/vnd.jupyter.widget-view+json": {
       "model_id": "8f94d56029014060ae3ea071a525feb3",
       "version_major": 2,
       "version_minor": 0
      },
      "text/plain": [
       "Train Progress:   0%|          | 0/156 [00:00<?, ?it/s]"
      ]
     },
     "metadata": {},
     "output_type": "display_data"
    },
    {
     "name": "stderr",
     "output_type": "stream",
     "text": [
      "/tmp/ipykernel_57228/2142746445.py:46: FutureWarning: `torch.cuda.amp.autocast(args...)` is deprecated. Please use `torch.amp.autocast('cuda', args...)` instead.\n",
      "  with autocast(enabled=(DEVICE.type == 'cuda')):\n"
     ]
    },
    {
     "name": "stdout",
     "output_type": "stream",
     "text": [
      "Train Epoch Loss: 0.3397 Acc: 0.8837\n",
      "\n",
      "--- Validation Phase ---\n"
     ]
    },
    {
     "data": {
      "application/vnd.jupyter.widget-view+json": {
       "model_id": "35014664864146afaeeff3628c167124",
       "version_major": 2,
       "version_minor": 0
      },
      "text/plain": [
       "Val Progress:   0%|          | 0/39 [00:00<?, ?it/s]"
      ]
     },
     "metadata": {},
     "output_type": "display_data"
    },
    {
     "name": "stdout",
     "output_type": "stream",
     "text": [
      "Val Epoch Loss: 0.3589 Acc: 0.8754\n",
      "\n",
      "Calculating Validation Performance Metrics...\n",
      "\n",
      "Confusion Matrix:\n",
      "True\\Pred          glioma meningioma    notumor  pituitary\n",
      "----------------------------------------------------------\n",
      "glioma                214         29          3         13\n",
      "meningioma             14        201         26         53\n",
      "notumor                 5          2        350          3\n",
      "pituitary               5          0          2        324\n",
      "----------------------------------------------------------\n",
      "\n",
      "Classification Report (includes Precision, Recall, F1-Score):\n",
      "              precision    recall  f1-score   support\n",
      "\n",
      "      glioma     0.8992    0.8263    0.8612       259\n",
      "  meningioma     0.8664    0.6837    0.7643       294\n",
      "     notumor     0.9186    0.9722    0.9447       360\n",
      "   pituitary     0.8244    0.9789    0.8950       331\n",
      "\n",
      "    accuracy                         0.8754      1244\n",
      "   macro avg     0.8772    0.8653    0.8663      1244\n",
      "weighted avg     0.8772    0.8754    0.8714      1244\n",
      "\n",
      "---------------\n",
      "\n",
      "Epoch 12/25\n",
      "---------------\n",
      "--- Training Phase ---\n"
     ]
    },
    {
     "data": {
      "application/vnd.jupyter.widget-view+json": {
       "model_id": "db718284fcb8433aab0e8bd45667e283",
       "version_major": 2,
       "version_minor": 0
      },
      "text/plain": [
       "Train Progress:   0%|          | 0/156 [00:00<?, ?it/s]"
      ]
     },
     "metadata": {},
     "output_type": "display_data"
    },
    {
     "name": "stderr",
     "output_type": "stream",
     "text": [
      "/tmp/ipykernel_57228/2142746445.py:46: FutureWarning: `torch.cuda.amp.autocast(args...)` is deprecated. Please use `torch.amp.autocast('cuda', args...)` instead.\n",
      "  with autocast(enabled=(DEVICE.type == 'cuda')):\n"
     ]
    },
    {
     "name": "stdout",
     "output_type": "stream",
     "text": [
      "Train Epoch Loss: 0.3507 Acc: 0.8759\n",
      "\n",
      "--- Validation Phase ---\n"
     ]
    },
    {
     "data": {
      "application/vnd.jupyter.widget-view+json": {
       "model_id": "b9d54000b379495d94bbcfa2332eb942",
       "version_major": 2,
       "version_minor": 0
      },
      "text/plain": [
       "Val Progress:   0%|          | 0/39 [00:00<?, ?it/s]"
      ]
     },
     "metadata": {},
     "output_type": "display_data"
    },
    {
     "name": "stdout",
     "output_type": "stream",
     "text": [
      "Val Epoch Loss: 0.3745 Acc: 0.8850\n",
      "\n",
      "Calculating Validation Performance Metrics...\n",
      "\n",
      "Confusion Matrix:\n",
      "True\\Pred          glioma meningioma    notumor  pituitary\n",
      "----------------------------------------------------------\n",
      "glioma                204         35          7         13\n",
      "meningioma              3        218         29         44\n",
      "notumor                 1          2        354          3\n",
      "pituitary               2          0          4        325\n",
      "----------------------------------------------------------\n",
      "\n",
      "Classification Report (includes Precision, Recall, F1-Score):\n",
      "              precision    recall  f1-score   support\n",
      "\n",
      "      glioma     0.9714    0.7876    0.8699       259\n",
      "  meningioma     0.8549    0.7415    0.7942       294\n",
      "     notumor     0.8985    0.9833    0.9390       360\n",
      "   pituitary     0.8442    0.9819    0.9078       331\n",
      "\n",
      "    accuracy                         0.8850      1244\n",
      "   macro avg     0.8922    0.8736    0.8777      1244\n",
      "weighted avg     0.8889    0.8850    0.8821      1244\n",
      "\n",
      "---------------\n",
      "\n",
      "Epoch 13/25\n",
      "---------------\n",
      "--- Training Phase ---\n"
     ]
    },
    {
     "data": {
      "application/vnd.jupyter.widget-view+json": {
       "model_id": "85f8577affe74ee3ad6bd716d0868001",
       "version_major": 2,
       "version_minor": 0
      },
      "text/plain": [
       "Train Progress:   0%|          | 0/156 [00:00<?, ?it/s]"
      ]
     },
     "metadata": {},
     "output_type": "display_data"
    },
    {
     "name": "stderr",
     "output_type": "stream",
     "text": [
      "/tmp/ipykernel_57228/2142746445.py:46: FutureWarning: `torch.cuda.amp.autocast(args...)` is deprecated. Please use `torch.amp.autocast('cuda', args...)` instead.\n",
      "  with autocast(enabled=(DEVICE.type == 'cuda')):\n"
     ]
    },
    {
     "name": "stdout",
     "output_type": "stream",
     "text": [
      "Train Epoch Loss: 0.3202 Acc: 0.8853\n",
      "\n",
      "--- Validation Phase ---\n"
     ]
    },
    {
     "data": {
      "application/vnd.jupyter.widget-view+json": {
       "model_id": "8f33ce03cb324082a5f584dd17bd1ae1",
       "version_major": 2,
       "version_minor": 0
      },
      "text/plain": [
       "Val Progress:   0%|          | 0/39 [00:00<?, ?it/s]"
      ]
     },
     "metadata": {},
     "output_type": "display_data"
    },
    {
     "name": "stdout",
     "output_type": "stream",
     "text": [
      "Val Epoch Loss: 0.3255 Acc: 0.8826\n",
      "\n",
      "Calculating Validation Performance Metrics...\n",
      "\n",
      "Confusion Matrix:\n",
      "True\\Pred          glioma meningioma    notumor  pituitary\n",
      "----------------------------------------------------------\n",
      "glioma                215         34          4          6\n",
      "meningioma             17        217         26         34\n",
      "notumor                 3          4        351          2\n",
      "pituitary               5          7          4        315\n",
      "----------------------------------------------------------\n",
      "\n",
      "Classification Report (includes Precision, Recall, F1-Score):\n",
      "              precision    recall  f1-score   support\n",
      "\n",
      "      glioma     0.8958    0.8301    0.8617       259\n",
      "  meningioma     0.8282    0.7381    0.7806       294\n",
      "     notumor     0.9117    0.9750    0.9423       360\n",
      "   pituitary     0.8824    0.9517    0.9157       331\n",
      "\n",
      "    accuracy                         0.8826      1244\n",
      "   macro avg     0.8795    0.8737    0.8751      1244\n",
      "weighted avg     0.8809    0.8826    0.8802      1244\n",
      "\n",
      "---------------\n",
      "\n",
      "Epoch 14/25\n",
      "---------------\n",
      "--- Training Phase ---\n"
     ]
    },
    {
     "data": {
      "application/vnd.jupyter.widget-view+json": {
       "model_id": "19b78bb8152840c989cdd92fb5227bc9",
       "version_major": 2,
       "version_minor": 0
      },
      "text/plain": [
       "Train Progress:   0%|          | 0/156 [00:00<?, ?it/s]"
      ]
     },
     "metadata": {},
     "output_type": "display_data"
    },
    {
     "name": "stderr",
     "output_type": "stream",
     "text": [
      "/tmp/ipykernel_57228/2142746445.py:46: FutureWarning: `torch.cuda.amp.autocast(args...)` is deprecated. Please use `torch.amp.autocast('cuda', args...)` instead.\n",
      "  with autocast(enabled=(DEVICE.type == 'cuda')):\n"
     ]
    },
    {
     "name": "stdout",
     "output_type": "stream",
     "text": [
      "Train Epoch Loss: 0.3332 Acc: 0.8837\n",
      "\n",
      "--- Validation Phase ---\n"
     ]
    },
    {
     "data": {
      "application/vnd.jupyter.widget-view+json": {
       "model_id": "e87172dc13994994807b0990288a3b51",
       "version_major": 2,
       "version_minor": 0
      },
      "text/plain": [
       "Val Progress:   0%|          | 0/39 [00:00<?, ?it/s]"
      ]
     },
     "metadata": {},
     "output_type": "display_data"
    },
    {
     "name": "stdout",
     "output_type": "stream",
     "text": [
      "Val Epoch Loss: 0.3327 Acc: 0.8818\n",
      "\n",
      "Calculating Validation Performance Metrics...\n",
      "\n",
      "Confusion Matrix:\n",
      "True\\Pred          glioma meningioma    notumor  pituitary\n",
      "----------------------------------------------------------\n",
      "glioma                212         34          2         11\n",
      "meningioma             12        212         22         48\n",
      "notumor                 4          4        348          4\n",
      "pituitary               3          0          3        325\n",
      "----------------------------------------------------------\n",
      "\n",
      "Classification Report (includes Precision, Recall, F1-Score):\n",
      "              precision    recall  f1-score   support\n",
      "\n",
      "      glioma     0.9177    0.8185    0.8653       259\n",
      "  meningioma     0.8480    0.7211    0.7794       294\n",
      "     notumor     0.9280    0.9667    0.9469       360\n",
      "   pituitary     0.8376    0.9819    0.9040       331\n",
      "\n",
      "    accuracy                         0.8818      1244\n",
      "   macro avg     0.8828    0.8720    0.8739      1244\n",
      "weighted avg     0.8829    0.8818    0.8789      1244\n",
      "\n",
      "---------------\n",
      "\n",
      "Epoch 15/25\n",
      "---------------\n",
      "--- Training Phase ---\n"
     ]
    },
    {
     "data": {
      "application/vnd.jupyter.widget-view+json": {
       "model_id": "c244e8975df7417ba1902768253bfa76",
       "version_major": 2,
       "version_minor": 0
      },
      "text/plain": [
       "Train Progress:   0%|          | 0/156 [00:00<?, ?it/s]"
      ]
     },
     "metadata": {},
     "output_type": "display_data"
    },
    {
     "name": "stderr",
     "output_type": "stream",
     "text": [
      "/tmp/ipykernel_57228/2142746445.py:46: FutureWarning: `torch.cuda.amp.autocast(args...)` is deprecated. Please use `torch.amp.autocast('cuda', args...)` instead.\n",
      "  with autocast(enabled=(DEVICE.type == 'cuda')):\n"
     ]
    },
    {
     "name": "stdout",
     "output_type": "stream",
     "text": [
      "Train Epoch Loss: 0.3184 Acc: 0.8897\n",
      "\n",
      "--- Validation Phase ---\n"
     ]
    },
    {
     "data": {
      "application/vnd.jupyter.widget-view+json": {
       "model_id": "f6b349316daf473490197b75ae040b96",
       "version_major": 2,
       "version_minor": 0
      },
      "text/plain": [
       "Val Progress:   0%|          | 0/39 [00:00<?, ?it/s]"
      ]
     },
     "metadata": {},
     "output_type": "display_data"
    },
    {
     "name": "stdout",
     "output_type": "stream",
     "text": [
      "Val Epoch Loss: 0.3408 Acc: 0.8834\n",
      "\n",
      "Calculating Validation Performance Metrics...\n",
      "\n",
      "Confusion Matrix:\n",
      "True\\Pred          glioma meningioma    notumor  pituitary\n",
      "----------------------------------------------------------\n",
      "glioma                206         35         11          7\n",
      "meningioma              2        225         32         35\n",
      "notumor                 2          2        354          2\n",
      "pituitary               4          6          7        314\n",
      "----------------------------------------------------------\n",
      "\n",
      "Classification Report (includes Precision, Recall, F1-Score):\n",
      "              precision    recall  f1-score   support\n",
      "\n",
      "      glioma     0.9626    0.7954    0.8710       259\n",
      "  meningioma     0.8396    0.7653    0.8007       294\n",
      "     notumor     0.8762    0.9833    0.9267       360\n",
      "   pituitary     0.8771    0.9486    0.9115       331\n",
      "\n",
      "    accuracy                         0.8834      1244\n",
      "   macro avg     0.8889    0.8732    0.8775      1244\n",
      "weighted avg     0.8858    0.8834    0.8813      1244\n",
      "\n",
      "---------------\n",
      "\n",
      "Epoch 16/25\n",
      "---------------\n",
      "--- Training Phase ---\n"
     ]
    },
    {
     "data": {
      "application/vnd.jupyter.widget-view+json": {
       "model_id": "7292dd483dda4046ab016699441698eb",
       "version_major": 2,
       "version_minor": 0
      },
      "text/plain": [
       "Train Progress:   0%|          | 0/156 [00:00<?, ?it/s]"
      ]
     },
     "metadata": {},
     "output_type": "display_data"
    },
    {
     "name": "stderr",
     "output_type": "stream",
     "text": [
      "/tmp/ipykernel_57228/2142746445.py:46: FutureWarning: `torch.cuda.amp.autocast(args...)` is deprecated. Please use `torch.amp.autocast('cuda', args...)` instead.\n",
      "  with autocast(enabled=(DEVICE.type == 'cuda')):\n"
     ]
    },
    {
     "name": "stdout",
     "output_type": "stream",
     "text": [
      "Train Epoch Loss: 0.3055 Acc: 0.8921\n",
      "\n",
      "--- Validation Phase ---\n"
     ]
    },
    {
     "data": {
      "application/vnd.jupyter.widget-view+json": {
       "model_id": "b05c87c021be405f9513407b9f4743ff",
       "version_major": 2,
       "version_minor": 0
      },
      "text/plain": [
       "Val Progress:   0%|          | 0/39 [00:00<?, ?it/s]"
      ]
     },
     "metadata": {},
     "output_type": "display_data"
    },
    {
     "name": "stdout",
     "output_type": "stream",
     "text": [
      "Val Epoch Loss: 0.3070 Acc: 0.8979\n",
      "\n",
      "Calculating Validation Performance Metrics...\n",
      "\n",
      "Confusion Matrix:\n",
      "True\\Pred          glioma meningioma    notumor  pituitary\n",
      "----------------------------------------------------------\n",
      "glioma                213         38          3          5\n",
      "meningioma              6        236         22         30\n",
      "notumor                 3          3        352          2\n",
      "pituitary               4          7          4        316\n",
      "----------------------------------------------------------\n",
      "\n",
      "Classification Report (includes Precision, Recall, F1-Score):\n",
      "              precision    recall  f1-score   support\n",
      "\n",
      "      glioma     0.9425    0.8224    0.8784       259\n",
      "  meningioma     0.8310    0.8027    0.8166       294\n",
      "     notumor     0.9239    0.9778    0.9501       360\n",
      "   pituitary     0.8952    0.9547    0.9240       331\n",
      "\n",
      "    accuracy                         0.8979      1244\n",
      "   macro avg     0.8981    0.8894    0.8923      1244\n",
      "weighted avg     0.8982    0.8979    0.8967      1244\n",
      "\n",
      "---------------\n",
      "** New Best Validation Accuracy: 0.8979 -> Saving model weights... **\n",
      "\n",
      "Epoch 17/25\n",
      "---------------\n",
      "--- Training Phase ---\n"
     ]
    },
    {
     "data": {
      "application/vnd.jupyter.widget-view+json": {
       "model_id": "87beec0aebf7433e8eb89e14f2f5d21e",
       "version_major": 2,
       "version_minor": 0
      },
      "text/plain": [
       "Train Progress:   0%|          | 0/156 [00:00<?, ?it/s]"
      ]
     },
     "metadata": {},
     "output_type": "display_data"
    },
    {
     "name": "stderr",
     "output_type": "stream",
     "text": [
      "/tmp/ipykernel_57228/2142746445.py:46: FutureWarning: `torch.cuda.amp.autocast(args...)` is deprecated. Please use `torch.amp.autocast('cuda', args...)` instead.\n",
      "  with autocast(enabled=(DEVICE.type == 'cuda')):\n"
     ]
    },
    {
     "name": "stdout",
     "output_type": "stream",
     "text": [
      "Train Epoch Loss: 0.3236 Acc: 0.8869\n",
      "\n",
      "--- Validation Phase ---\n"
     ]
    },
    {
     "data": {
      "application/vnd.jupyter.widget-view+json": {
       "model_id": "3b02f5a79c5041d184d981e9e2356af4",
       "version_major": 2,
       "version_minor": 0
      },
      "text/plain": [
       "Val Progress:   0%|          | 0/39 [00:00<?, ?it/s]"
      ]
     },
     "metadata": {},
     "output_type": "display_data"
    },
    {
     "name": "stdout",
     "output_type": "stream",
     "text": [
      "Val Epoch Loss: 0.3532 Acc: 0.8818\n",
      "\n",
      "Calculating Validation Performance Metrics...\n",
      "\n",
      "Confusion Matrix:\n",
      "True\\Pred          glioma meningioma    notumor  pituitary\n",
      "----------------------------------------------------------\n",
      "glioma                204         31         12         12\n",
      "meningioma              1        213         32         48\n",
      "notumor                 1          1        355          3\n",
      "pituitary               2          1          3        325\n",
      "----------------------------------------------------------\n",
      "\n",
      "Classification Report (includes Precision, Recall, F1-Score):\n",
      "              precision    recall  f1-score   support\n",
      "\n",
      "      glioma     0.9808    0.7876    0.8737       259\n",
      "  meningioma     0.8659    0.7245    0.7889       294\n",
      "     notumor     0.8831    0.9861    0.9318       360\n",
      "   pituitary     0.8376    0.9819    0.9040       331\n",
      "\n",
      "    accuracy                         0.8818      1244\n",
      "   macro avg     0.8918    0.8700    0.8746      1244\n",
      "weighted avg     0.8873    0.8818    0.8785      1244\n",
      "\n",
      "---------------\n",
      "\n",
      "Epoch 18/25\n",
      "---------------\n",
      "--- Training Phase ---\n"
     ]
    },
    {
     "data": {
      "application/vnd.jupyter.widget-view+json": {
       "model_id": "f2d6b929dde04a5e936ba03aecac489d",
       "version_major": 2,
       "version_minor": 0
      },
      "text/plain": [
       "Train Progress:   0%|          | 0/156 [00:00<?, ?it/s]"
      ]
     },
     "metadata": {},
     "output_type": "display_data"
    },
    {
     "name": "stderr",
     "output_type": "stream",
     "text": [
      "/tmp/ipykernel_57228/2142746445.py:46: FutureWarning: `torch.cuda.amp.autocast(args...)` is deprecated. Please use `torch.amp.autocast('cuda', args...)` instead.\n",
      "  with autocast(enabled=(DEVICE.type == 'cuda')):\n"
     ]
    },
    {
     "name": "stdout",
     "output_type": "stream",
     "text": [
      "Train Epoch Loss: 0.2992 Acc: 0.8941\n",
      "\n",
      "--- Validation Phase ---\n"
     ]
    },
    {
     "data": {
      "application/vnd.jupyter.widget-view+json": {
       "model_id": "eb1138ce9cdb4a07a225deb12822d505",
       "version_major": 2,
       "version_minor": 0
      },
      "text/plain": [
       "Val Progress:   0%|          | 0/39 [00:00<?, ?it/s]"
      ]
     },
     "metadata": {},
     "output_type": "display_data"
    },
    {
     "name": "stdout",
     "output_type": "stream",
     "text": [
      "Val Epoch Loss: 0.3174 Acc: 0.8923\n",
      "\n",
      "Calculating Validation Performance Metrics...\n",
      "\n",
      "Confusion Matrix:\n",
      "True\\Pred          glioma meningioma    notumor  pituitary\n",
      "----------------------------------------------------------\n",
      "glioma                205         41          6          7\n",
      "meningioma              2        236         23         33\n",
      "notumor                 2          5        351          2\n",
      "pituitary               2          6          5        318\n",
      "----------------------------------------------------------\n",
      "\n",
      "Classification Report (includes Precision, Recall, F1-Score):\n",
      "              precision    recall  f1-score   support\n",
      "\n",
      "      glioma     0.9716    0.7915    0.8723       259\n",
      "  meningioma     0.8194    0.8027    0.8110       294\n",
      "     notumor     0.9117    0.9750    0.9423       360\n",
      "   pituitary     0.8833    0.9607    0.9204       331\n",
      "\n",
      "    accuracy                         0.8923      1244\n",
      "   macro avg     0.8965    0.8825    0.8865      1244\n",
      "weighted avg     0.8948    0.8923    0.8909      1244\n",
      "\n",
      "---------------\n",
      "\n",
      "Epoch 19/25\n",
      "---------------\n",
      "--- Training Phase ---\n"
     ]
    },
    {
     "data": {
      "application/vnd.jupyter.widget-view+json": {
       "model_id": "6d8ef02584f44d1397d00f0abe588393",
       "version_major": 2,
       "version_minor": 0
      },
      "text/plain": [
       "Train Progress:   0%|          | 0/156 [00:00<?, ?it/s]"
      ]
     },
     "metadata": {},
     "output_type": "display_data"
    },
    {
     "name": "stderr",
     "output_type": "stream",
     "text": [
      "/tmp/ipykernel_57228/2142746445.py:46: FutureWarning: `torch.cuda.amp.autocast(args...)` is deprecated. Please use `torch.amp.autocast('cuda', args...)` instead.\n",
      "  with autocast(enabled=(DEVICE.type == 'cuda')):\n"
     ]
    },
    {
     "name": "stdout",
     "output_type": "stream",
     "text": [
      "Train Epoch Loss: 0.3031 Acc: 0.8933\n",
      "\n",
      "--- Validation Phase ---\n"
     ]
    },
    {
     "data": {
      "application/vnd.jupyter.widget-view+json": {
       "model_id": "2f5ecb88afc74478ab6b1c99157734f1",
       "version_major": 2,
       "version_minor": 0
      },
      "text/plain": [
       "Val Progress:   0%|          | 0/39 [00:00<?, ?it/s]"
      ]
     },
     "metadata": {},
     "output_type": "display_data"
    },
    {
     "name": "stdout",
     "output_type": "stream",
     "text": [
      "Val Epoch Loss: 0.3123 Acc: 0.8899\n",
      "\n",
      "Calculating Validation Performance Metrics...\n",
      "\n",
      "Confusion Matrix:\n",
      "True\\Pred          glioma meningioma    notumor  pituitary\n",
      "----------------------------------------------------------\n",
      "glioma                203         46          5          5\n",
      "meningioma              0        241         26         27\n",
      "notumor                 3          8        347          2\n",
      "pituitary               2          9          4        316\n",
      "----------------------------------------------------------\n",
      "\n",
      "Classification Report (includes Precision, Recall, F1-Score):\n",
      "              precision    recall  f1-score   support\n",
      "\n",
      "      glioma     0.9760    0.7838    0.8694       259\n",
      "  meningioma     0.7928    0.8197    0.8060       294\n",
      "     notumor     0.9084    0.9639    0.9353       360\n",
      "   pituitary     0.9029    0.9547    0.9280       331\n",
      "\n",
      "    accuracy                         0.8899      1244\n",
      "   macro avg     0.8950    0.8805    0.8847      1244\n",
      "weighted avg     0.8937    0.8899    0.8891      1244\n",
      "\n",
      "---------------\n",
      "\n",
      "Epoch 20/25\n",
      "---------------\n",
      "--- Training Phase ---\n"
     ]
    },
    {
     "data": {
      "application/vnd.jupyter.widget-view+json": {
       "model_id": "02e0229f87114b2cbc5dc4ca13e66a70",
       "version_major": 2,
       "version_minor": 0
      },
      "text/plain": [
       "Train Progress:   0%|          | 0/156 [00:00<?, ?it/s]"
      ]
     },
     "metadata": {},
     "output_type": "display_data"
    },
    {
     "name": "stderr",
     "output_type": "stream",
     "text": [
      "/tmp/ipykernel_57228/2142746445.py:46: FutureWarning: `torch.cuda.amp.autocast(args...)` is deprecated. Please use `torch.amp.autocast('cuda', args...)` instead.\n",
      "  with autocast(enabled=(DEVICE.type == 'cuda')):\n"
     ]
    },
    {
     "name": "stdout",
     "output_type": "stream",
     "text": [
      "Train Epoch Loss: 0.3054 Acc: 0.8893\n",
      "\n",
      "--- Validation Phase ---\n"
     ]
    },
    {
     "data": {
      "application/vnd.jupyter.widget-view+json": {
       "model_id": "06d6089279294984ab065955039b0665",
       "version_major": 2,
       "version_minor": 0
      },
      "text/plain": [
       "Val Progress:   0%|          | 0/39 [00:00<?, ?it/s]"
      ]
     },
     "metadata": {},
     "output_type": "display_data"
    },
    {
     "name": "stdout",
     "output_type": "stream",
     "text": [
      "Val Epoch Loss: 0.2969 Acc: 0.8955\n",
      "\n",
      "Calculating Validation Performance Metrics...\n",
      "\n",
      "Confusion Matrix:\n",
      "True\\Pred          glioma meningioma    notumor  pituitary\n",
      "----------------------------------------------------------\n",
      "glioma                216         33          4          6\n",
      "meningioma              9        229         23         33\n",
      "notumor                 3          4        351          2\n",
      "pituitary               3          6          4        318\n",
      "----------------------------------------------------------\n",
      "\n",
      "Classification Report (includes Precision, Recall, F1-Score):\n",
      "              precision    recall  f1-score   support\n",
      "\n",
      "      glioma     0.9351    0.8340    0.8816       259\n",
      "  meningioma     0.8419    0.7789    0.8092       294\n",
      "     notumor     0.9188    0.9750    0.9461       360\n",
      "   pituitary     0.8858    0.9607    0.9217       331\n",
      "\n",
      "    accuracy                         0.8955      1244\n",
      "   macro avg     0.8954    0.8872    0.8897      1244\n",
      "weighted avg     0.8952    0.8955    0.8938      1244\n",
      "\n",
      "---------------\n",
      "\n",
      "Epoch 21/25\n",
      "---------------\n",
      "--- Training Phase ---\n"
     ]
    },
    {
     "data": {
      "application/vnd.jupyter.widget-view+json": {
       "model_id": "73a37708602a46ef80e5b8f52a307f83",
       "version_major": 2,
       "version_minor": 0
      },
      "text/plain": [
       "Train Progress:   0%|          | 0/156 [00:00<?, ?it/s]"
      ]
     },
     "metadata": {},
     "output_type": "display_data"
    },
    {
     "name": "stderr",
     "output_type": "stream",
     "text": [
      "/tmp/ipykernel_57228/2142746445.py:46: FutureWarning: `torch.cuda.amp.autocast(args...)` is deprecated. Please use `torch.amp.autocast('cuda', args...)` instead.\n",
      "  with autocast(enabled=(DEVICE.type == 'cuda')):\n"
     ]
    },
    {
     "name": "stdout",
     "output_type": "stream",
     "text": [
      "Train Epoch Loss: 0.3000 Acc: 0.8875\n",
      "\n",
      "--- Validation Phase ---\n"
     ]
    },
    {
     "data": {
      "application/vnd.jupyter.widget-view+json": {
       "model_id": "1a94391eea784fdf9c5b6a507e5d9af4",
       "version_major": 2,
       "version_minor": 0
      },
      "text/plain": [
       "Val Progress:   0%|          | 0/39 [00:00<?, ?it/s]"
      ]
     },
     "metadata": {},
     "output_type": "display_data"
    },
    {
     "name": "stdout",
     "output_type": "stream",
     "text": [
      "Val Epoch Loss: 0.3053 Acc: 0.8883\n",
      "\n",
      "Calculating Validation Performance Metrics...\n",
      "\n",
      "Confusion Matrix:\n",
      "True\\Pred          glioma meningioma    notumor  pituitary\n",
      "----------------------------------------------------------\n",
      "glioma                221         28          4          6\n",
      "meningioma             20        211         24         39\n",
      "notumor                 2          2        354          2\n",
      "pituitary               3          3          6        319\n",
      "----------------------------------------------------------\n",
      "\n",
      "Classification Report (includes Precision, Recall, F1-Score):\n",
      "              precision    recall  f1-score   support\n",
      "\n",
      "      glioma     0.8984    0.8533    0.8752       259\n",
      "  meningioma     0.8648    0.7177    0.7844       294\n",
      "     notumor     0.9124    0.9833    0.9465       360\n",
      "   pituitary     0.8716    0.9637    0.9154       331\n",
      "\n",
      "    accuracy                         0.8883      1244\n",
      "   macro avg     0.8868    0.8795    0.8804      1244\n",
      "weighted avg     0.8874    0.8883    0.8851      1244\n",
      "\n",
      "---------------\n",
      "\n",
      "Epoch 22/25\n",
      "---------------\n",
      "--- Training Phase ---\n"
     ]
    },
    {
     "data": {
      "application/vnd.jupyter.widget-view+json": {
       "model_id": "75e643cc78704d7591b7aa656fb47fd6",
       "version_major": 2,
       "version_minor": 0
      },
      "text/plain": [
       "Train Progress:   0%|          | 0/156 [00:00<?, ?it/s]"
      ]
     },
     "metadata": {},
     "output_type": "display_data"
    },
    {
     "name": "stderr",
     "output_type": "stream",
     "text": [
      "/tmp/ipykernel_57228/2142746445.py:46: FutureWarning: `torch.cuda.amp.autocast(args...)` is deprecated. Please use `torch.amp.autocast('cuda', args...)` instead.\n",
      "  with autocast(enabled=(DEVICE.type == 'cuda')):\n"
     ]
    },
    {
     "name": "stdout",
     "output_type": "stream",
     "text": [
      "Train Epoch Loss: 0.2851 Acc: 0.8986\n",
      "\n",
      "--- Validation Phase ---\n"
     ]
    },
    {
     "data": {
      "application/vnd.jupyter.widget-view+json": {
       "model_id": "a881469df9c94e1aba53a2a39c98c4e6",
       "version_major": 2,
       "version_minor": 0
      },
      "text/plain": [
       "Val Progress:   0%|          | 0/39 [00:00<?, ?it/s]"
      ]
     },
     "metadata": {},
     "output_type": "display_data"
    },
    {
     "name": "stdout",
     "output_type": "stream",
     "text": [
      "Val Epoch Loss: 0.3117 Acc: 0.8842\n",
      "\n",
      "Calculating Validation Performance Metrics...\n",
      "\n",
      "Confusion Matrix:\n",
      "True\\Pred          glioma meningioma    notumor  pituitary\n",
      "----------------------------------------------------------\n",
      "glioma                210         35          4         10\n",
      "meningioma             10        219         25         40\n",
      "notumor                 3          2        353          2\n",
      "pituitary               2          4          7        318\n",
      "----------------------------------------------------------\n",
      "\n",
      "Classification Report (includes Precision, Recall, F1-Score):\n",
      "              precision    recall  f1-score   support\n",
      "\n",
      "      glioma     0.9333    0.8108    0.8678       259\n",
      "  meningioma     0.8423    0.7449    0.7906       294\n",
      "     notumor     0.9075    0.9806    0.9426       360\n",
      "   pituitary     0.8595    0.9607    0.9073       331\n",
      "\n",
      "    accuracy                         0.8842      1244\n",
      "   macro avg     0.8856    0.8742    0.8771      1244\n",
      "weighted avg     0.8847    0.8842    0.8817      1244\n",
      "\n",
      "---------------\n",
      "\n",
      "Epoch 23/25\n",
      "---------------\n",
      "--- Training Phase ---\n"
     ]
    },
    {
     "data": {
      "application/vnd.jupyter.widget-view+json": {
       "model_id": "69589226b78949b39256dc5f7c9773cf",
       "version_major": 2,
       "version_minor": 0
      },
      "text/plain": [
       "Train Progress:   0%|          | 0/156 [00:00<?, ?it/s]"
      ]
     },
     "metadata": {},
     "output_type": "display_data"
    },
    {
     "name": "stderr",
     "output_type": "stream",
     "text": [
      "/tmp/ipykernel_57228/2142746445.py:46: FutureWarning: `torch.cuda.amp.autocast(args...)` is deprecated. Please use `torch.amp.autocast('cuda', args...)` instead.\n",
      "  with autocast(enabled=(DEVICE.type == 'cuda')):\n"
     ]
    },
    {
     "name": "stdout",
     "output_type": "stream",
     "text": [
      "Train Epoch Loss: 0.2910 Acc: 0.9008\n",
      "\n",
      "--- Validation Phase ---\n"
     ]
    },
    {
     "data": {
      "application/vnd.jupyter.widget-view+json": {
       "model_id": "388bd20e2fb64caab8b1820d31f796e4",
       "version_major": 2,
       "version_minor": 0
      },
      "text/plain": [
       "Val Progress:   0%|          | 0/39 [00:00<?, ?it/s]"
      ]
     },
     "metadata": {},
     "output_type": "display_data"
    },
    {
     "name": "stdout",
     "output_type": "stream",
     "text": [
      "Val Epoch Loss: 0.2848 Acc: 0.9043\n",
      "\n",
      "Calculating Validation Performance Metrics...\n",
      "\n",
      "Confusion Matrix:\n",
      "True\\Pred          glioma meningioma    notumor  pituitary\n",
      "----------------------------------------------------------\n",
      "glioma                219         34          3          3\n",
      "meningioma              8        238         19         29\n",
      "notumor                 3          3        352          2\n",
      "pituitary               4          7          4        316\n",
      "----------------------------------------------------------\n",
      "\n",
      "Classification Report (includes Precision, Recall, F1-Score):\n",
      "              precision    recall  f1-score   support\n",
      "\n",
      "      glioma     0.9359    0.8456    0.8884       259\n",
      "  meningioma     0.8440    0.8095    0.8264       294\n",
      "     notumor     0.9312    0.9778    0.9539       360\n",
      "   pituitary     0.9029    0.9547    0.9280       331\n",
      "\n",
      "    accuracy                         0.9043      1244\n",
      "   macro avg     0.9035    0.8969    0.8992      1244\n",
      "weighted avg     0.9040    0.9043    0.9033      1244\n",
      "\n",
      "---------------\n",
      "** New Best Validation Accuracy: 0.9043 -> Saving model weights... **\n",
      "\n",
      "Epoch 24/25\n",
      "---------------\n",
      "--- Training Phase ---\n"
     ]
    },
    {
     "data": {
      "application/vnd.jupyter.widget-view+json": {
       "model_id": "b504049ab85c4af298494468e6f3464d",
       "version_major": 2,
       "version_minor": 0
      },
      "text/plain": [
       "Train Progress:   0%|          | 0/156 [00:00<?, ?it/s]"
      ]
     },
     "metadata": {},
     "output_type": "display_data"
    },
    {
     "name": "stderr",
     "output_type": "stream",
     "text": [
      "/tmp/ipykernel_57228/2142746445.py:46: FutureWarning: `torch.cuda.amp.autocast(args...)` is deprecated. Please use `torch.amp.autocast('cuda', args...)` instead.\n",
      "  with autocast(enabled=(DEVICE.type == 'cuda')):\n"
     ]
    },
    {
     "name": "stdout",
     "output_type": "stream",
     "text": [
      "Train Epoch Loss: 0.2934 Acc: 0.8994\n",
      "\n",
      "--- Validation Phase ---\n"
     ]
    },
    {
     "data": {
      "application/vnd.jupyter.widget-view+json": {
       "model_id": "8ed886a8e18644d8b998014adbd0f37d",
       "version_major": 2,
       "version_minor": 0
      },
      "text/plain": [
       "Val Progress:   0%|          | 0/39 [00:00<?, ?it/s]"
      ]
     },
     "metadata": {},
     "output_type": "display_data"
    },
    {
     "name": "stdout",
     "output_type": "stream",
     "text": [
      "Val Epoch Loss: 0.2848 Acc: 0.8947\n",
      "\n",
      "Calculating Validation Performance Metrics...\n",
      "\n",
      "Confusion Matrix:\n",
      "True\\Pred          glioma meningioma    notumor  pituitary\n",
      "----------------------------------------------------------\n",
      "glioma                218         33          2          6\n",
      "meningioma             12        226         18         38\n",
      "notumor                 4          7        347          2\n",
      "pituitary               3          3          3        322\n",
      "----------------------------------------------------------\n",
      "\n",
      "Classification Report (includes Precision, Recall, F1-Score):\n",
      "              precision    recall  f1-score   support\n",
      "\n",
      "      glioma     0.9198    0.8417    0.8790       259\n",
      "  meningioma     0.8401    0.7687    0.8028       294\n",
      "     notumor     0.9378    0.9639    0.9507       360\n",
      "   pituitary     0.8750    0.9728    0.9213       331\n",
      "\n",
      "    accuracy                         0.8947      1244\n",
      "   macro avg     0.8932    0.8868    0.8885      1244\n",
      "weighted avg     0.8943    0.8947    0.8930      1244\n",
      "\n",
      "---------------\n",
      "\n",
      "Epoch 25/25\n",
      "---------------\n",
      "--- Training Phase ---\n"
     ]
    },
    {
     "data": {
      "application/vnd.jupyter.widget-view+json": {
       "model_id": "ac4ea4c5d58e46989d2726b4c25af3da",
       "version_major": 2,
       "version_minor": 0
      },
      "text/plain": [
       "Train Progress:   0%|          | 0/156 [00:00<?, ?it/s]"
      ]
     },
     "metadata": {},
     "output_type": "display_data"
    },
    {
     "name": "stderr",
     "output_type": "stream",
     "text": [
      "/tmp/ipykernel_57228/2142746445.py:46: FutureWarning: `torch.cuda.amp.autocast(args...)` is deprecated. Please use `torch.amp.autocast('cuda', args...)` instead.\n",
      "  with autocast(enabled=(DEVICE.type == 'cuda')):\n"
     ]
    },
    {
     "name": "stdout",
     "output_type": "stream",
     "text": [
      "Train Epoch Loss: 0.2954 Acc: 0.8929\n",
      "\n",
      "--- Validation Phase ---\n"
     ]
    },
    {
     "data": {
      "application/vnd.jupyter.widget-view+json": {
       "model_id": "057e67b4dba74279a6427099ab310dfd",
       "version_major": 2,
       "version_minor": 0
      },
      "text/plain": [
       "Val Progress:   0%|          | 0/39 [00:00<?, ?it/s]"
      ]
     },
     "metadata": {},
     "output_type": "display_data"
    },
    {
     "name": "stdout",
     "output_type": "stream",
     "text": [
      "Val Epoch Loss: 0.2815 Acc: 0.9011\n",
      "\n",
      "Calculating Validation Performance Metrics...\n",
      "\n",
      "Confusion Matrix:\n",
      "True\\Pred          glioma meningioma    notumor  pituitary\n",
      "----------------------------------------------------------\n",
      "glioma                214         38          2          5\n",
      "meningioma             10        239         17         28\n",
      "notumor                 2          8        349          1\n",
      "pituitary               3          5          4        319\n",
      "----------------------------------------------------------\n",
      "\n",
      "Classification Report (includes Precision, Recall, F1-Score):\n",
      "              precision    recall  f1-score   support\n",
      "\n",
      "      glioma     0.9345    0.8263    0.8770       259\n",
      "  meningioma     0.8241    0.8129    0.8185       294\n",
      "     notumor     0.9382    0.9694    0.9536       360\n",
      "   pituitary     0.9037    0.9637    0.9327       331\n",
      "\n",
      "    accuracy                         0.9011      1244\n",
      "   macro avg     0.9001    0.8931    0.8955      1244\n",
      "weighted avg     0.9013    0.9011    0.9002      1244\n",
      "\n",
      "---------------\n",
      "\n",
      "Training complete in 2m 52s\n",
      "Best Validation Accuracy achieved: 0.9043\n",
      "Loading best model weights...\n"
     ]
    },
    {
     "data": {
      "text/plain": [
       "<All keys matched successfully>"
      ]
     },
     "execution_count": 17,
     "metadata": {},
     "output_type": "execute_result"
    }
   ],
   "source": [
    "# %%\n",
    "print(\"\\nStarting training and validation loop...\")\n",
    "start_time = time.time()\n",
    "\n",
    "# Variables to track best model based on validation accuracy\n",
    "best_model_wts = copy.deepcopy(model.state_dict())\n",
    "best_acc = 0.0\n",
    "history = {'train_loss': [], 'train_acc': [], 'val_loss': [], 'val_acc': []}\n",
    "\n",
    "for epoch in range(NUM_EPOCHS):\n",
    "    print(f'\\nEpoch {epoch+1}/{NUM_EPOCHS}')\n",
    "    print('-' * 15)\n",
    "\n",
    "    # Each epoch has a training and validation phase\n",
    "    for phase in ['train', 'val']:\n",
    "        if phase == 'train':\n",
    "            model.train()  # Set model to training mode\n",
    "            print(\"--- Training Phase ---\")\n",
    "        else:\n",
    "            model.eval()   # Set model to evaluate mode\n",
    "            print(\"\\n--- Validation Phase ---\")\n",
    "            # Lists to store results for validation metrics calculation\n",
    "            all_preds_val = []\n",
    "            all_labels_val = []\n",
    "\n",
    "        running_loss = 0.0\n",
    "        running_corrects = 0\n",
    "\n",
    "        # Iterate over data using the appropriate dataloader\n",
    "        dataloader = dataloaders[phase]\n",
    "        batch_num = 0\n",
    "        num_batches = len(dataloader)\n",
    "\n",
    "        for inputs, labels in tqdm(dataloader, desc=f\"{phase.capitalize()} Progress\", leave=False):\n",
    "            batch_num += 1\n",
    "            inputs = inputs.to(DEVICE, non_blocking=pin_memory) # Use non_blocking with pin_memory\n",
    "            labels = labels.to(DEVICE, non_blocking=pin_memory)\n",
    "\n",
    "            # Zero the parameter gradients\n",
    "            optimizer.zero_grad(set_to_none=True) # More memory efficient potentially\n",
    "\n",
    "            # Forward pass\n",
    "            # Track history only during training via torch.set_grad_enabled\n",
    "            # Use autocast for mixed precision (on GPU)\n",
    "            with torch.set_grad_enabled(phase == 'train'):\n",
    "                with autocast(enabled=(DEVICE.type == 'cuda')):\n",
    "                    outputs = model(inputs)\n",
    "                    _, preds = torch.max(outputs, 1) # Get the index of the max logit\n",
    "                    loss = criterion(outputs, labels)\n",
    "\n",
    "                    # Backward pass + optimize only if in training phase\n",
    "                    if phase == 'train':\n",
    "                        # Check for NaN loss\n",
    "                        if torch.isnan(loss):\n",
    "                            print(f\"WARNING: NaN loss detected at epoch {epoch+1}, batch {batch_num}/{num_batches} ({phase}). Skipping batch gradient update.\")\n",
    "                            continue # Skip optimizer step for this batch\n",
    "\n",
    "                        # Scales loss. Calls backward() on scaled loss to create scaled gradients.\n",
    "                        scaler.scale(loss).backward()\n",
    "\n",
    "                        # scaler.step() first unscales the gradients of the optimizer's assigned params.\n",
    "                        # If these gradients do not contain infs or NaNs, optimizer.step() is then called.\n",
    "                        # Otherwise, optimizer.step() is skipped.\n",
    "                        scaler.step(optimizer)\n",
    "\n",
    "                        # Updates the scale for next iteration.\n",
    "                        scaler.update()\n",
    "\n",
    "            # --- Statistics ---\n",
    "            batch_loss = loss.item()\n",
    "            batch_corrects = torch.sum(preds == labels.data).item()\n",
    "\n",
    "            running_loss += batch_loss * inputs.size(0)\n",
    "            running_corrects += batch_corrects\n",
    "\n",
    "            # Collect predictions and labels during validation phase for detailed metrics\n",
    "            if phase == 'val':\n",
    "                all_preds_val.extend(preds.cpu().numpy())\n",
    "                all_labels_val.extend(labels.cpu().numpy())\n",
    "\n",
    "            # Optional: Print batch progress\n",
    "            # if batch_num % 50 == 0: # Print every 50 batches\n",
    "            #     print(f'  Batch {batch_num}/{num_batches} - Batch Loss: {batch_loss:.4f}, Batch Acc: {batch_corrects/inputs.size(0):.4f}')\n",
    "\n",
    "\n",
    "        # --- Epoch Statistics ---\n",
    "        epoch_loss = running_loss / dataset_sizes[phase]\n",
    "        epoch_acc = running_corrects / dataset_sizes[phase] # This is overall epoch accuracy\n",
    "\n",
    "        history[f'{phase}_loss'].append(epoch_loss)\n",
    "        history[f'{phase}_acc'].append(epoch_acc) # Save overall accuracy\n",
    "\n",
    "        print(f'{phase.capitalize()} Epoch Loss: {epoch_loss:.4f} Acc: {epoch_acc:.4f}')\n",
    "\n",
    "        # --- Validation Phase Specific Actions ---\n",
    "        if phase == 'val':\n",
    "            # Step the scheduler based on validation loss (for ReduceLROnPlateau)\n",
    "            if isinstance(scheduler, torch.optim.lr_scheduler.ReduceLROnPlateau):\n",
    "                 scheduler.step(epoch_loss)\n",
    "            # Step other types of schedulers if used and needed here\n",
    "            # elif isinstance(scheduler, torch.optim.lr_scheduler.StepLR):\n",
    "            #      scheduler.step()\n",
    "\n",
    "            # --- Detailed Validation Performance Metrics ---\n",
    "            print(\"\\nCalculating Validation Performance Metrics...\")\n",
    "            try:\n",
    "                # Use DETECTED_CLASSES obtained during data loading\n",
    "                # classification_report includes Precision, Recall, F1-score, and Support per class\n",
    "                # It also includes overall accuracy and macro/weighted averages for P, R, F1.\n",
    "                report = classification_report(all_labels_val, all_preds_val, target_names=DETECTED_CLASSES, digits=4, zero_division=0)\n",
    "                cm = confusion_matrix(all_labels_val, all_preds_val)\n",
    "\n",
    "                print(\"\\nConfusion Matrix:\")\n",
    "                # Pretty print confusion matrix\n",
    "                header = f\"{'True\\\\Pred':<15}\" + \" \".join([f\"{cls[:10]:>10}\" for cls in DETECTED_CLASSES])\n",
    "                print(header)\n",
    "                print('-' * len(header))\n",
    "                for i, row in enumerate(cm):\n",
    "                    print(f\"{DETECTED_CLASSES[i][:10]:<15}\" + \" \".join([f\"{val:>10}\" for val in row]))\n",
    "                print('-' * len(header))\n",
    "\n",
    "                # Print the main performance report\n",
    "                print(\"\\nClassification Report (includes Precision, Recall, F1-Score):\")\n",
    "                print(report) # This report contains the requested metrics\n",
    "\n",
    "            except NameError:\n",
    "                 print(\"WARNING: Could not calculate sklearn metrics. `DETECTED_CLASSES` not found. Was data loaded correctly?\")\n",
    "            except Exception as e:\n",
    "                print(f\"WARNING: Could not calculate sklearn metrics: {e}\")\n",
    "            print(\"-\" * 15)\n",
    "\n",
    "            # --- Save Best Model ---\n",
    "            # Deep copy the model weights if validation accuracy is the best we've seen so far\n",
    "            if epoch_acc > best_acc:\n",
    "                best_acc = epoch_acc\n",
    "                best_model_wts = copy.deepcopy(model.state_dict())\n",
    "                print(f'** New Best Validation Accuracy: {best_acc:.4f} -> Saving model weights... **')\n",
    "                # Save immediately in case of interruption (optional, but safer)\n",
    "                # torch.save(best_model_wts, MODEL_SAVE_PATH)\n",
    "                # print(f\"   Best model weights temporarily saved to {MODEL_SAVE_PATH}\")\n",
    "\n",
    "    # Step StepLR scheduler if used (after validation phase)\n",
    "    # if isinstance(scheduler, torch.optim.lr_scheduler.StepLR):\n",
    "    #      scheduler.step()\n",
    "\n",
    "\n",
    "# --- Training Complete ---\n",
    "# Performance (Time)\n",
    "time_elapsed = time.time() - start_time\n",
    "print(f'\\nTraining complete in {time_elapsed // 60:.0f}m {time_elapsed % 60:.0f}s')\n",
    "# Performance (Best Accuracy)\n",
    "print(f'Best Validation Accuracy achieved: {best_acc:.4f}')\n",
    "\n",
    "# Load best model weights back into the model object for final saving\n",
    "print(\"Loading best model weights...\")\n",
    "model.load_state_dict(best_model_wts)"
   ]
  },
  {
   "cell_type": "code",
   "execution_count": 18,
   "metadata": {
    "trusted": true
   },
   "outputs": [
    {
     "name": "stdout",
     "output_type": "stream",
     "text": [
      "\n",
      "Best model weights (Val Acc: 0.9043) successfully saved to:\n",
      "/home/theodor/code/facultate/anul3_sem2/daria_proiect/resnet50_tumor_classifier_best_val_acc.pth\n",
      "This file contains the learned parameters and can be loaded for inference later.\n"
     ]
    }
   ],
   "source": [
    "# %%\n",
    "# Save the state dictionary of the best performing model (based on validation accuracy)\n",
    "try:\n",
    "    torch.save(model.state_dict(), MODEL_SAVE_PATH)\n",
    "    print(f\"\\nBest model weights (Val Acc: {best_acc:.4f}) successfully saved to:\\n{os.path.abspath(MODEL_SAVE_PATH)}\")\n",
    "    print(\"This file contains the learned parameters and can be loaded for inference later.\")\n",
    "except Exception as e:\n",
    "    print(f\"\\nERROR: Failed to save model weights to {MODEL_SAVE_PATH}: {e}\")"
   ]
  },
  {
   "cell_type": "code",
   "execution_count": 19,
   "metadata": {
    "trusted": true
   },
   "outputs": [
    {
     "name": "stdout",
     "output_type": "stream",
     "text": [
      "\n",
      "Plotting training and validation history...\n"
     ]
    },
    {
     "data": {
      "image/png": "[encoded data removed]",
      "text/plain": [
       "<Figure size 1200x500 with 2 Axes>"
      ]
     },
     "metadata": {},
     "output_type": "display_data"
    }
   ],
   "source": [
    "# %%\n",
    "print(\"\\nPlotting training and validation history...\")\n",
    "\n",
    "try:\n",
    "    epochs_range = range(1, NUM_EPOCHS + 1) # Ensure x-axis matches epochs run\n",
    "\n",
    "    plt.figure(figsize=(12, 5))\n",
    "\n",
    "    # Plot Loss\n",
    "    plt.subplot(1, 2, 1)\n",
    "    if history['train_loss'] and history['val_loss']: # Check if history has data\n",
    "        plt.plot(epochs_range, history['train_loss'], marker='o', linestyle='-', label='Training Loss')\n",
    "        plt.plot(epochs_range, history['val_loss'], marker='o', linestyle='-', label='Validation Loss')\n",
    "        plt.xlabel('Epoch')\n",
    "        plt.ylabel('Loss')\n",
    "        plt.title('Training and Validation Loss')\n",
    "        plt.legend()\n",
    "        plt.grid(True)\n",
    "    else:\n",
    "        plt.text(0.5, 0.5, 'No loss data to plot.', ha='center', va='center')\n",
    "\n",
    "\n",
    "    # Plot Accuracy\n",
    "    plt.subplot(1, 2, 2)\n",
    "    if history['train_acc'] and history['val_acc']: # Check if history has data\n",
    "        plt.plot(epochs_range, history['train_acc'], marker='o', linestyle='-', label='Training Accuracy')\n",
    "        plt.plot(epochs_range, history['val_acc'], marker='o', linestyle='-', label='Validation Accuracy')\n",
    "        plt.xlabel('Epoch')\n",
    "        plt.ylabel('Accuracy')\n",
    "        plt.title('Training and Validation Accuracy')\n",
    "        plt.legend()\n",
    "        plt.grid(True)\n",
    "        plt.ylim(0, 1.05) # Set y-axis limit for accuracy (0 to 1)\n",
    "    else:\n",
    "        plt.text(0.5, 0.5, 'No accuracy data to plot.', ha='center', va='center')\n",
    "\n",
    "\n",
    "    plt.tight_layout()\n",
    "    plt.show()\n",
    "except Exception as e:\n",
    "     print(f\"Could not plot history: {e}\")"
   ]
  },
  {
   "cell_type": "code",
   "execution_count": null,
   "metadata": {},
   "outputs": [],
   "source": []
  }
 ],
 "metadata": {
  "kaggle": {
   "accelerator": "none",
   "dataSources": [],
   "isGpuEnabled": false,
   "isInternetEnabled": false,
   "language": "python",
   "sourceType": "notebook"
  },
  "kernelspec": {
   "display_name": "myvenv",
   "language": "python",
   "name": "python3"
  },
  "language_info": {
   "codemirror_mode": {
    "name": "ipython",
    "version": 3
   },
   "file_extension": ".py",
   "mimetype": "text/x-python",
   "name": "python",
   "nbconvert_exporter": "python",
   "pygments_lexer": "ipython3",
   "version": "3.12.3"
  }
 },
 "nbformat": 4,
 "nbformat_minor": 4
}
